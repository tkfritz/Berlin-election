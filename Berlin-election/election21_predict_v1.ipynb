{
 "cells": [
  {
   "cell_type": "markdown",
   "id": "582a181c",
   "metadata": {},
   "source": [
    "I this notebook I use partial district information of the election 2021 to predict the full election results. I use the full results of 2016 to improve the results. "
   ]
  },
  {
   "cell_type": "code",
   "execution_count": 1,
   "id": "f83c714f",
   "metadata": {},
   "outputs": [],
   "source": [
    "import numpy as np\n",
    "import pandas as pd\n",
    "\n",
    "from matplotlib import pyplot as plt\n",
    "from matplotlib.pyplot import figure\n",
    "import seaborn as sns\n",
    "\n",
    "\n",
    "from sklearn.linear_model import LinearRegression\n",
    "from sklearn.linear_model import Lasso\n",
    "from sklearn.ensemble import RandomForestRegressor\n",
    "from xgboost import XGBRegressor\n",
    "\n",
    "from sklearn.model_selection import train_test_split"
   ]
  },
  {
   "cell_type": "markdown",
   "id": "795aa5c1",
   "metadata": {},
   "source": [
    "First I load the results of the two elections. In both the votes have two votes, the second vote is much more important and thus I concentrate on it. "
   ]
  },
  {
   "cell_type": "code",
   "execution_count": 7,
   "id": "0a935fa9",
   "metadata": {},
   "outputs": [
    {
     "name": "stdout",
     "output_type": "stream",
     "text": [
      "Index(['Adresse', 'Stimmart', 'Bezirksnummer', 'Bezirksname', 'Wahlbezirk',\n",
      "       'Wahlbezirksart', 'Abgeordneten-\\nhauswahlkreis',\n",
      "       'Bundestags-\\nwahlkreis', 'Berlin\\nOstWest',\n",
      "       'Wahlberechtigte insgesamt', 'Wahlberechtigte A1', 'Wahlberechtigte A2',\n",
      "       'Wahlberechtigte A3', 'Wähler', 'Wähler B1', 'Ungültige Stimmen',\n",
      "       'Gültige Stimmen', 'SPD', 'CDU', 'GRÜNE', 'DIE LINKE', 'PIRATEN', 'NPD',\n",
      "       'FDP', 'Tierschutzpartei', 'pro Deutschland', 'Die PARTEI', 'BIG',\n",
      "       'DKP', 'ödp', 'PSG', 'BüSo', 'B', 'DL', 'ALFA', 'Tierschutzallianz',\n",
      "       'AfD', 'DIE EINHEIT', 'DIE VIOLETTEN', 'Graue Panther',\n",
      "       'MENSCHLICHE WELT', 'MIETERPARTEI', 'Gesundheits-\\nforschung', 'EB 1',\n",
      "       'EB 2', 'EB 3', 'EB 4', 'EB 5', 'EB 6', 'EB 7', 'EB 8', 'EB 9', 'EB 10',\n",
      "       'EB 11', 'EB 12', 'EB 13', 'EB 14', 'EB 15', 'EB 16', 'EB 17', 'EB 18'],\n",
      "      dtype='object')\n",
      "Index(['Adresse', 'Stimmart', 'Bezirksnummer', 'Bezirksname', 'Wahlbezirk',\n",
      "       'Wahlbezirksart', 'Abgeordneten-\\nhauswahlkreis',\n",
      "       'Bundestags-\\nwahlkreis', 'Berlin\\nOstWest',\n",
      "       'Wahlberechtigte insgesamt', 'Wahlberechtigte A1', 'Wahlberechtigte A2',\n",
      "       'Wahlberechtigte A3', 'Wähler', 'Wähler B1', 'Ungültige Stimmen',\n",
      "       'Gültige Stimmen', 'SPD', 'CDU', 'GRÜNE', 'DIE LINKE', 'PIRATEN', 'NPD',\n",
      "       'FDP', 'Tierschutzpartei', 'pro Deutschland', 'Die PARTEI', 'BIG',\n",
      "       'DKP', 'ödp', 'PSG', 'BüSo', 'B', 'DL', 'ALFA', 'Tierschutzallianz',\n",
      "       'AfD', 'DIE EINHEIT', 'DIE VIOLETTEN', 'Graue Panther',\n",
      "       'MENSCHLICHE WELT', 'MIETERPARTEI', 'Gesundheits-\\nforschung'],\n",
      "      dtype='object')\n",
      "Index(['Stimmart', 'Adresse', 'Bezirksnummer', 'Bezirksname', 'Wahlbezirk',\n",
      "       'Wahlbezirksart', 'Briefwahlbezirk', 'Abgeordneten-\\nhauswahlkreis',\n",
      "       'Bundestags-\\nwahlkreis', 'OstWest', 'Wahlberechtigte insgesamt',\n",
      "       'Wahlberechtigte A1', 'Wahlberechtigte A2', 'Wahlberechtigte A3',\n",
      "       'Wählende', 'Wählende B1', 'Gültige Stimmen', 'Ungültige Stimmen',\n",
      "       'SPD', 'CDU', 'GRÜNE', 'DIE LINKE', 'AfD', 'FDP', 'Die PARTEI',\n",
      "       'Tierschutzpartei', 'PIRATEN', 'Graue Panther', 'NPD',\n",
      "       'Gesundheitsforschung', 'LKR', 'DKP', 'SGP', 'BüSo', 'MENSCHLICHE WELT',\n",
      "       'B*', 'ÖDP', 'TIERSCHUTZ hier!', 'dieBasis', 'Bildet Berlin!', 'DL',\n",
      "       'Deutsche Konservative', 'Die Grauen', 'Neue Demokraten', 'REP', 'du.',\n",
      "       'BÜNDNIS21', 'DIE FRAUEN', 'FREIE WÄHLER', 'Klimaliste Berlin', 'LD',\n",
      "       'MIETERPARTEI', 'Die Humanisten', 'Team Todenhöfer', 'Volt', 'EB',\n",
      "       'EB.1', 'EB.2', 'EB.3', 'EB.4', 'EB.5', 'EB.6', 'EB.7', 'EB.8', 'EB.9',\n",
      "       'EB.10', 'EB.11', 'aufn'],\n",
      "      dtype='object')\n",
      "Index(['Stimmart', 'Adresse', 'Bezirksnummer', 'Bezirksname', 'Wahlbezirk',\n",
      "       'Wahlbezirksart', 'Briefwahlbezirk', 'Abgeordneten-\\nhauswahlkreis',\n",
      "       'Bundestags-\\nwahlkreis', 'OstWest', 'Wahlberechtigte insgesamt',\n",
      "       'Wahlberechtigte A1', 'Wahlberechtigte A2', 'Wahlberechtigte A3',\n",
      "       'Wählende', 'Wählende B1', 'Gültige Stimmen', 'Ungültige Stimmen',\n",
      "       'SPD', 'CDU', 'GRÜNE', 'DIE LINKE', 'AfD', 'FDP', 'Die PARTEI',\n",
      "       'Tierschutzpartei', 'PIRATEN', 'Graue Panther', 'NPD',\n",
      "       'Gesundheitsforschung', 'LKR', 'DKP', 'SGP', 'BüSo', 'MENSCHLICHE WELT',\n",
      "       'B*', 'ÖDP', 'TIERSCHUTZ hier!', 'dieBasis', 'Bildet Berlin!',\n",
      "       'Deutsche Konservative', 'Die Grauen', 'Neue Demokraten', 'REP', 'du.',\n",
      "       'BÜNDNIS21', 'FREIE WÄHLER', 'Klimaliste Berlin', 'MIETERPARTEI',\n",
      "       'Die Humanisten', 'Team Todenhöfer', 'Volt', 'aufn'],\n",
      "      dtype='object')\n",
      "(2432, 43)\n",
      "(3764, 53)\n"
     ]
    }
   ],
   "source": [
    "elec16_vote1=pd.read_excel('DL_BE_EE_WB_AH2016.xlsx',sheet_name='Erststimme')\n",
    "print(elec16_vote1.columns)\n",
    "elec16_vote2=pd.read_excel('DL_BE_EE_WB_AH2016.xlsx',sheet_name='Zweitstimme')\n",
    "print(elec16_vote2.columns)\n",
    "elec21_vote1=pd.read_excel('DL_BE_AGHBVV2021.xlsx',sheet_name='AGH_W1')\n",
    "elec21_vote2=pd.read_excel('DL_BE_AGHBVV2021.xlsx',sheet_name='AGH_W2')\n",
    "print(elec21_vote1.columns)\n",
    "print(elec21_vote2.columns)\n",
    "print(elec16_vote2.shape)\n",
    "print(elec21_vote2.shape)"
   ]
  },
  {
   "cell_type": "markdown",
   "id": "d85d5f5a",
   "metadata": {},
   "source": [
    "I also look on the last two federal elections in Berlin because there likely more similar to each other because the state election in 2021 was at the same time as the federal election then and is such influenced by it. At least there was higher turnut because that combination."
   ]
  },
  {
   "cell_type": "code",
   "execution_count": 6,
   "id": "47cab01c",
   "metadata": {},
   "outputs": [
    {
     "name": "stdout",
     "output_type": "stream",
     "text": [
      "Index(['Adresse', 'Stimmart', 'Bezirksnummer', 'Bezirksname', 'Wahlbezirk',\n",
      "       'Wahlbezirksart', 'Abgeordneten-\\nhauswahlkreis',\n",
      "       'Bundestags-\\nwahlkreis', 'OstWest', 'Wahlberechtigte insgesamt',\n",
      "       'Wahlberechtigte A1', 'Wahlberechtigte A2', 'Wahlberechtigte A3',\n",
      "       'Wähler', 'Wähler B1', 'Ungültige Stimmen', 'Gültige Stimmen', 'CDU',\n",
      "       'SPD', 'DIE LINKE', 'GRÜNE', 'AfD', 'PIRATEN', 'FDP', 'Die PARTEI',\n",
      "       'FREIE WÄHLER', 'ÖDP', 'BüSo', 'MLPD', 'SGP', 'B*', 'BGE', 'DiB', 'DKP',\n",
      "       'DM', 'Die Grauen', 'du.', 'MENSCHLICHE WELT',\n",
      "       'Gesundheits-\\nforschung', 'Tierschutz-\\npartei', 'V-Partei³',\n",
      "       'DIE FRAUEN', 'EB Für Dich im Bundestag', 'EB GROG',\n",
      "       'EB Grundeinkommen-für-alle.org 1', 'EB Grundeinkommen-für-alle.org 2',\n",
      "       'EB Ideengeber Mensch Natur Technik',\n",
      "       'EB LIBERAL NACHHALTIG SOZIAL WELTOFFEN',\n",
      "       'EB Den Menschen verpflichtet, keiner Partei!', 'MIETERPARTEI', 'NPD',\n",
      "       'EB', 'EB Parteifrei. Für die Menschen',\n",
      "       'EB parteifrei und bürgerbestimmt'],\n",
      "      dtype='object')\n",
      "(2439, 54)\n",
      "Index(['Adresse', 'Stimmart', 'Bezirksnummer', 'Bezirksname', 'Wahlbezirk',\n",
      "       'Wahlbezirksart', 'Abgeordneten-\\nhauswahlkreis',\n",
      "       'Bundestags-\\nwahlkreis', 'OstWest', 'Wahlberechtigte insgesamt',\n",
      "       'Wahlberechtigte A1', 'Wahlberechtigte A2', 'Wahlberechtigte A3',\n",
      "       'Wähler', 'Wähler B1', 'Ungültige Stimmen', 'Gültige Stimmen', 'CDU',\n",
      "       'SPD', 'DIE LINKE', 'GRÜNE', 'AfD', 'PIRATEN', 'FDP', 'Die PARTEI',\n",
      "       'FREIE WÄHLER', 'ÖDP', 'BüSo', 'MLPD', 'SGP', 'B*', 'BGE', 'DiB', 'DKP',\n",
      "       'DM', 'Die Grauen', 'du.', 'MENSCHLICHE WELT',\n",
      "       'Gesundheits-\\nforschung', 'Tierschutz-\\npartei', 'V-Partei³',\n",
      "       'DIE FRAUEN', 'EB Für Dich im Bundestag', 'EB GROG',\n",
      "       'EB Grundeinkommen-für-alle.org 1', 'EB Grundeinkommen-für-alle.org 2',\n",
      "       'EB Ideengeber Mensch Natur Technik',\n",
      "       'EB LIBERAL NACHHALTIG SOZIAL WELTOFFEN',\n",
      "       'EB Den Menschen verpflichtet, keiner Partei!', 'MIETERPARTEI', 'NPD',\n",
      "       'EB', 'EB Parteifrei. Für die Menschen',\n",
      "       'EB parteifrei und bürgerbestimmt'],\n",
      "      dtype='object')\n",
      "Index(['Adresse', 'Stimmart', 'Bezirksnummer', 'Bezirksname', 'Wahlbezirk',\n",
      "       'Wahlbezirksart', 'Briefwahlbezirk', 'Abgeordneten-\\nhauswahlkreis',\n",
      "       'Bundestags-\\nwahlkreis', 'OstWest', 'Wahlberechtigte insgesamt',\n",
      "       'Wahlberechtigte A1', 'Wahlberechtigte A2', 'Wahlberechtigte A3',\n",
      "       'Wählende', 'Wählende B1', 'Gültige Stimmen', 'Ungültige Stimmen',\n",
      "       'CDU', 'DIE LINKE', 'SPD', 'GRÜNE', 'AfD', 'FDP', 'Die PARTEI',\n",
      "       'Tierschutzpartei', 'PIRATEN', 'Die Grauen', 'FREIE WÄHLER',\n",
      "       'Gesundheitsforschung', 'ÖDP', 'du.', 'V-Partei³', 'DKP', 'MLPD',\n",
      "       'BüSo', 'SGP', 'LKR', 'NPD', 'Die Humanisten', 'Team Todenhöfer',\n",
      "       'Volt', 'dieBasis', 'B*', 'sonstige', 'BÜNDNIS21', 'Anderer K.',\n",
      "       'Anderer K..1', 'Anderer K..2', 'Menschliche Welt - MENSCHLICHE WELT -',\n",
      "       'Anderer K..3', 'Anderer K..4', 'Anderer K..5', 'Anderer K..6',\n",
      "       'Anderer K..7', 'Anderer K..8', 'aufn'],\n",
      "      dtype='object')\n",
      "(3764, 57)\n",
      "Index(['Adresse', 'Stimmart', 'Bezirksnummer', 'Bezirksname', 'Wahlbezirk',\n",
      "       'Wahlbezirksart', 'Briefwahlbezirk', 'Abgeordneten-\\nhauswahlkreis',\n",
      "       'Bundestags-\\nwahlkreis', 'OstWest', 'Wahlberechtigte insgesamt',\n",
      "       'Wahlberechtigte A1', 'Wahlberechtigte A2', 'Wahlberechtigte A3',\n",
      "       'Wählende', 'Wählende B1', 'Gültige Stimmen', 'Ungültige Stimmen',\n",
      "       'CDU', 'DIE LINKE', 'SPD', 'GRÜNE', 'AfD', 'FDP', 'Die PARTEI',\n",
      "       'Tierschutzpartei', 'PIRATEN', 'Die Grauen', 'FREIE WÄHLER',\n",
      "       'Gesundheitsforschung', 'ÖDP', 'du.', 'V-Partei³', 'DKP', 'MLPD',\n",
      "       'BüSo', 'SGP', 'LKR', 'NPD', 'Die Humanisten', 'Team Todenhöfer',\n",
      "       'Volt', 'aufn'],\n",
      "      dtype='object')\n"
     ]
    }
   ],
   "source": [
    "bw17_vote1=pd.read_excel('DL_BE_EE_WB_BU2017.xlsx',sheet_name='BE_W1')\n",
    "bw17_vote2=pd.read_excel('DL_BE_EE_WB_BU2017.xlsx',sheet_name='BE_W2')\n",
    "print(bw17_vote1.columns)\n",
    "print(bw17_vote1.shape)\n",
    "print(bw17_vote2.columns)\n",
    "bw21_vote1=pd.read_excel('DL_BE_BU2021.xlsx',sheet_name='BE_W1')\n",
    "bw21_vote2=pd.read_excel('DL_BE_BU2021.xlsx',sheet_name='BE_W2')\n",
    "print(bw21_vote1.columns)\n",
    "print(bw21_vote1.shape)\n",
    "print(bw21_vote2.columns)"
   ]
  },
  {
   "cell_type": "markdown",
   "id": "e6b5cdc2",
   "metadata": {},
   "source": [
    "In both cases the newer election have more election districts. That measn directly matching does not work. The elections ate the same day have the same number of districts as to be expected. However, they are likely more similar than two election at different days. There I compare now also the state election in 2016 and the federal election in 2021. "
   ]
  },
  {
   "cell_type": "markdown",
   "id": "a25c960c",
   "metadata": {},
   "source": [
    "First I merge the second vote of the two state elections using keys (adresse). "
   ]
  },
  {
   "cell_type": "code",
   "execution_count": 8,
   "id": "dc66e5c2",
   "metadata": {},
   "outputs": [],
   "source": [
    "combined=elec16_vote2.merge(elec21_vote2,how='left',left_on='Adresse',right_on='Adresse')"
   ]
  },
  {
   "cell_type": "raw",
   "id": "c1e2e3f1",
   "metadata": {},
   "source": [
    "As the next step I print basic properties, the shape and the new columns."
   ]
  },
  {
   "cell_type": "code",
   "execution_count": 9,
   "id": "79b314be",
   "metadata": {},
   "outputs": [
    {
     "name": "stdout",
     "output_type": "stream",
     "text": [
      "(2432, 95)\n",
      "(3764, 53)\n",
      "(2432, 43)\n",
      "Index(['Adresse', 'Stimmart_x', 'Bezirksnummer_x', 'Bezirksname_x',\n",
      "       'Wahlbezirk_x', 'Wahlbezirksart_x', 'Abgeordneten-\\nhauswahlkreis_x',\n",
      "       'Bundestags-\\nwahlkreis_x', 'Berlin\\nOstWest',\n",
      "       'Wahlberechtigte insgesamt_x', 'Wahlberechtigte A1_x',\n",
      "       'Wahlberechtigte A2_x', 'Wahlberechtigte A3_x', 'Wähler', 'Wähler B1',\n",
      "       'Ungültige Stimmen_x', 'Gültige Stimmen_x', 'SPD_x', 'CDU_x', 'GRÜNE_x',\n",
      "       'DIE LINKE_x', 'PIRATEN_x', 'NPD_x', 'FDP_x', 'Tierschutzpartei_x',\n",
      "       'pro Deutschland', 'Die PARTEI_x', 'BIG', 'DKP_x', 'ödp', 'PSG',\n",
      "       'BüSo_x', 'B', 'DL', 'ALFA', 'Tierschutzallianz', 'AfD_x',\n",
      "       'DIE EINHEIT', 'DIE VIOLETTEN', 'Graue Panther_x', 'MENSCHLICHE WELT_x',\n",
      "       'MIETERPARTEI_x', 'Gesundheits-\\nforschung', 'Stimmart_y',\n",
      "       'Bezirksnummer_y', 'Bezirksname_y', 'Wahlbezirk_y', 'Wahlbezirksart_y',\n",
      "       'Briefwahlbezirk', 'Abgeordneten-\\nhauswahlkreis_y',\n",
      "       'Bundestags-\\nwahlkreis_y', 'OstWest', 'Wahlberechtigte insgesamt_y',\n",
      "       'Wahlberechtigte A1_y', 'Wahlberechtigte A2_y', 'Wahlberechtigte A3_y',\n",
      "       'Wählende', 'Wählende B1', 'Gültige Stimmen_y', 'Ungültige Stimmen_y',\n",
      "       'SPD_y', 'CDU_y', 'GRÜNE_y', 'DIE LINKE_y', 'AfD_y', 'FDP_y',\n",
      "       'Die PARTEI_y', 'Tierschutzpartei_y', 'PIRATEN_y', 'Graue Panther_y',\n",
      "       'NPD_y', 'Gesundheitsforschung', 'LKR', 'DKP_y', 'SGP', 'BüSo_y',\n",
      "       'MENSCHLICHE WELT_y', 'B*', 'ÖDP', 'TIERSCHUTZ hier!', 'dieBasis',\n",
      "       'Bildet Berlin!', 'Deutsche Konservative', 'Die Grauen',\n",
      "       'Neue Demokraten', 'REP', 'du.', 'BÜNDNIS21', 'FREIE WÄHLER',\n",
      "       'Klimaliste Berlin', 'MIETERPARTEI_y', 'Die Humanisten',\n",
      "       'Team Todenhöfer', 'Volt', 'aufn'],\n",
      "      dtype='object')\n"
     ]
    }
   ],
   "source": [
    "print(combined.shape)\n",
    "print(elec21_vote2.shape)\n",
    "print(elec16_vote2.shape)\n",
    "print(combined.columns)"
   ]
  },
  {
   "cell_type": "markdown",
   "id": "2bceaf40",
   "metadata": {},
   "source": [
    "The number of rows is clearly different in the two tables. That means there is not always a perfect match which makes predictions more difficult. \n",
    "\n",
    "Below I print some prorties of these districts, to understand teh reasons ofr the missmacthes"
   ]
  },
  {
   "cell_type": "code",
   "execution_count": 10,
   "id": "c31aa464",
   "metadata": {},
   "outputs": [
    {
     "name": "stdout",
     "output_type": "stream",
     "text": [
      "Stimmart_x                            Zweitstimme\n",
      "Bezirksnummer_x                                 5\n",
      "Bezirksname_x                             Spandau\n",
      "Wahlbezirk_x                                   5I\n",
      "Wahlbezirksart_x                  Briefwahlbezirk\n",
      "Abgeordneten-\\nhauswahlkreis_x                  5\n",
      "Bundestags-\\nwahlkreis_x                       78\n",
      "Berlin\\nOstWest                                 W\n",
      "Wahlberechtigte insgesamt_x                     0\n",
      "Wahlberechtigte A1_x                            0\n",
      "Wahlberechtigte A2_x                            0\n",
      "Wahlberechtigte A3_x                            0\n",
      "Wähler                                        520\n",
      "Wähler B1                                     520\n",
      "Ungültige Stimmen_x                             3\n",
      "Gültige Stimmen_x                             516\n",
      "SPD_x                                          89\n",
      "Name: 946, dtype: object\n",
      "Stimmart_x                                Zweitstimme\n",
      "Bezirksnummer_x                                     6\n",
      "Bezirksname_x                     Steglitz-Zehlendorf\n",
      "Wahlbezirk_x                                       1I\n",
      "Wahlbezirksart_x                      Briefwahlbezirk\n",
      "Abgeordneten-\\nhauswahlkreis_x                      1\n",
      "Bundestags-\\nwahlkreis_x                           79\n",
      "Berlin\\nOstWest                                     W\n",
      "Wahlberechtigte insgesamt_x                         0\n",
      "Wahlberechtigte A1_x                                0\n",
      "Wahlberechtigte A2_x                                0\n",
      "Wahlberechtigte A3_x                                0\n",
      "Wähler                                            998\n",
      "Wähler B1                                         998\n",
      "Ungültige Stimmen_x                                 7\n",
      "Gültige Stimmen_x                                 991\n",
      "SPD_x                                             226\n",
      "Name: 1105, dtype: object\n",
      "Stimmart_x                                Zweitstimme\n",
      "Bezirksnummer_x                                     6\n",
      "Bezirksname_x                     Steglitz-Zehlendorf\n",
      "Wahlbezirk_x                                       2I\n",
      "Wahlbezirksart_x                      Briefwahlbezirk\n",
      "Abgeordneten-\\nhauswahlkreis_x                      2\n",
      "Bundestags-\\nwahlkreis_x                           79\n",
      "Berlin\\nOstWest                                     W\n",
      "Wahlberechtigte insgesamt_x                         0\n",
      "Wahlberechtigte A1_x                                0\n",
      "Wahlberechtigte A2_x                                0\n",
      "Wahlberechtigte A3_x                                0\n",
      "Wähler                                            795\n",
      "Wähler B1                                         795\n",
      "Ungültige Stimmen_x                                 2\n",
      "Gültige Stimmen_x                                 793\n",
      "SPD_x                                             185\n",
      "Name: 1114, dtype: object\n",
      "Stimmart_x                                Zweitstimme\n",
      "Bezirksnummer_x                                     6\n",
      "Bezirksname_x                     Steglitz-Zehlendorf\n",
      "Wahlbezirk_x                                       3I\n",
      "Wahlbezirksart_x                      Briefwahlbezirk\n",
      "Abgeordneten-\\nhauswahlkreis_x                      3\n",
      "Bundestags-\\nwahlkreis_x                           79\n",
      "Berlin\\nOstWest                                     W\n",
      "Wahlberechtigte insgesamt_x                         0\n",
      "Wahlberechtigte A1_x                                0\n",
      "Wahlberechtigte A2_x                                0\n",
      "Wahlberechtigte A3_x                                0\n",
      "Wähler                                           1153\n",
      "Wähler B1                                        1153\n",
      "Ungültige Stimmen_x                                 9\n",
      "Gültige Stimmen_x                                1144\n",
      "SPD_x                                             211\n",
      "Name: 1123, dtype: object\n",
      "Stimmart_x                                Zweitstimme\n",
      "Bezirksnummer_x                                     6\n",
      "Bezirksname_x                     Steglitz-Zehlendorf\n",
      "Wahlbezirk_x                                       5I\n",
      "Wahlbezirksart_x                      Briefwahlbezirk\n",
      "Abgeordneten-\\nhauswahlkreis_x                      5\n",
      "Bundestags-\\nwahlkreis_x                           79\n",
      "Berlin\\nOstWest                                     W\n",
      "Wahlberechtigte insgesamt_x                         0\n",
      "Wahlberechtigte A1_x                                0\n",
      "Wahlberechtigte A2_x                                0\n",
      "Wahlberechtigte A3_x                                0\n",
      "Wähler                                            544\n",
      "Wähler B1                                         544\n",
      "Ungültige Stimmen_x                                 4\n",
      "Gültige Stimmen_x                                 540\n",
      "SPD_x                                             137\n",
      "Name: 1140, dtype: object\n",
      "Stimmart_x                                Zweitstimme\n",
      "Bezirksnummer_x                                     6\n",
      "Bezirksname_x                     Steglitz-Zehlendorf\n",
      "Wahlbezirk_x                                       6I\n",
      "Wahlbezirksart_x                      Briefwahlbezirk\n",
      "Abgeordneten-\\nhauswahlkreis_x                      6\n",
      "Bundestags-\\nwahlkreis_x                           79\n",
      "Berlin\\nOstWest                                     W\n",
      "Wahlberechtigte insgesamt_x                         0\n",
      "Wahlberechtigte A1_x                                0\n",
      "Wahlberechtigte A2_x                                0\n",
      "Wahlberechtigte A3_x                                0\n",
      "Wähler                                           1363\n",
      "Wähler B1                                        1363\n",
      "Ungültige Stimmen_x                                 4\n",
      "Gültige Stimmen_x                                1359\n",
      "SPD_x                                             145\n",
      "Name: 1149, dtype: object\n",
      "Stimmart_x                                Zweitstimme\n",
      "Bezirksnummer_x                                     6\n",
      "Bezirksname_x                     Steglitz-Zehlendorf\n",
      "Wahlbezirk_x                                       7I\n",
      "Wahlbezirksart_x                      Briefwahlbezirk\n",
      "Abgeordneten-\\nhauswahlkreis_x                      7\n",
      "Bundestags-\\nwahlkreis_x                           79\n",
      "Berlin\\nOstWest                                     W\n",
      "Wahlberechtigte insgesamt_x                         0\n",
      "Wahlberechtigte A1_x                                0\n",
      "Wahlberechtigte A2_x                                0\n",
      "Wahlberechtigte A3_x                                0\n",
      "Wähler                                            996\n",
      "Wähler B1                                         996\n",
      "Ungültige Stimmen_x                                 7\n",
      "Gültige Stimmen_x                                 989\n",
      "SPD_x                                             217\n",
      "Name: 1158, dtype: object\n",
      "Stimmart_x                            Zweitstimme\n",
      "Bezirksnummer_x                                 8\n",
      "Bezirksname_x                            Neukölln\n",
      "Wahlbezirk_x                                   7A\n",
      "Wahlbezirksart_x                  Briefwahlbezirk\n",
      "Abgeordneten-\\nhauswahlkreis_x                  7\n",
      "Bundestags-\\nwahlkreis_x                       82\n",
      "Berlin\\nOstWest                                 W\n",
      "Wahlberechtigte insgesamt_x                     0\n",
      "Wahlberechtigte A1_x                            0\n",
      "Wahlberechtigte A2_x                            0\n",
      "Wahlberechtigte A3_x                            0\n",
      "Wähler                                       1012\n",
      "Wähler B1                                    1012\n",
      "Ungültige Stimmen_x                            22\n",
      "Gültige Stimmen_x                             990\n",
      "SPD_x                                         248\n",
      "Name: 1507, dtype: object\n",
      "Stimmart_x                            Zweitstimme\n",
      "Bezirksnummer_x                                 8\n",
      "Bezirksname_x                            Neukölln\n",
      "Wahlbezirk_x                                   7B\n",
      "Wahlbezirksart_x                  Briefwahlbezirk\n",
      "Abgeordneten-\\nhauswahlkreis_x                  7\n",
      "Bundestags-\\nwahlkreis_x                       82\n",
      "Berlin\\nOstWest                                 W\n",
      "Wahlberechtigte insgesamt_x                     0\n",
      "Wahlberechtigte A1_x                            0\n",
      "Wahlberechtigte A2_x                            0\n",
      "Wahlberechtigte A3_x                            0\n",
      "Wähler                                        967\n",
      "Wähler B1                                     967\n",
      "Ungültige Stimmen_x                            13\n",
      "Gültige Stimmen_x                             954\n",
      "SPD_x                                         199\n",
      "Name: 1508, dtype: object\n",
      "Stimmart_x                            Zweitstimme\n",
      "Bezirksnummer_x                                 8\n",
      "Bezirksname_x                            Neukölln\n",
      "Wahlbezirk_x                                   7C\n",
      "Wahlbezirksart_x                  Briefwahlbezirk\n",
      "Abgeordneten-\\nhauswahlkreis_x                  7\n",
      "Bundestags-\\nwahlkreis_x                       82\n",
      "Berlin\\nOstWest                                 W\n",
      "Wahlberechtigte insgesamt_x                     0\n",
      "Wahlberechtigte A1_x                            0\n",
      "Wahlberechtigte A2_x                            0\n",
      "Wahlberechtigte A3_x                            0\n",
      "Wähler                                        918\n",
      "Wähler B1                                     918\n",
      "Ungültige Stimmen_x                             9\n",
      "Gültige Stimmen_x                             909\n",
      "SPD_x                                         215\n",
      "Name: 1509, dtype: object\n",
      "Stimmart_x                            Zweitstimme\n",
      "Bezirksnummer_x                                 8\n",
      "Bezirksname_x                            Neukölln\n",
      "Wahlbezirk_x                                   7D\n",
      "Wahlbezirksart_x                  Briefwahlbezirk\n",
      "Abgeordneten-\\nhauswahlkreis_x                  7\n",
      "Bundestags-\\nwahlkreis_x                       82\n",
      "Berlin\\nOstWest                                 W\n",
      "Wahlberechtigte insgesamt_x                     0\n",
      "Wahlberechtigte A1_x                            0\n",
      "Wahlberechtigte A2_x                            0\n",
      "Wahlberechtigte A3_x                            0\n",
      "Wähler                                        833\n",
      "Wähler B1                                     833\n",
      "Ungültige Stimmen_x                            16\n",
      "Gültige Stimmen_x                             817\n",
      "SPD_x                                         196\n",
      "Name: 1510, dtype: object\n",
      "Stimmart_x                            Zweitstimme\n",
      "Bezirksnummer_x                                 8\n",
      "Bezirksname_x                            Neukölln\n",
      "Wahlbezirk_x                                   7E\n",
      "Wahlbezirksart_x                  Briefwahlbezirk\n",
      "Abgeordneten-\\nhauswahlkreis_x                  7\n",
      "Bundestags-\\nwahlkreis_x                       82\n",
      "Berlin\\nOstWest                                 W\n",
      "Wahlberechtigte insgesamt_x                     0\n",
      "Wahlberechtigte A1_x                            0\n",
      "Wahlberechtigte A2_x                            0\n",
      "Wahlberechtigte A3_x                            0\n",
      "Wähler                                       1143\n",
      "Wähler B1                                    1143\n",
      "Ungültige Stimmen_x                            15\n",
      "Gültige Stimmen_x                            1128\n",
      "SPD_x                                         245\n",
      "Name: 1511, dtype: object\n",
      "Stimmart_x                            Zweitstimme\n",
      "Bezirksnummer_x                                 8\n",
      "Bezirksname_x                            Neukölln\n",
      "Wahlbezirk_x                                   7F\n",
      "Wahlbezirksart_x                  Briefwahlbezirk\n",
      "Abgeordneten-\\nhauswahlkreis_x                  7\n",
      "Bundestags-\\nwahlkreis_x                       82\n",
      "Berlin\\nOstWest                                 W\n",
      "Wahlberechtigte insgesamt_x                     0\n",
      "Wahlberechtigte A1_x                            0\n",
      "Wahlberechtigte A2_x                            0\n",
      "Wahlberechtigte A3_x                            0\n",
      "Wähler                                       1228\n",
      "Wähler B1                                    1228\n",
      "Ungültige Stimmen_x                            20\n",
      "Gültige Stimmen_x                            1206\n",
      "SPD_x                                         264\n",
      "Name: 1512, dtype: object\n",
      "Stimmart_x                            Zweitstimme\n",
      "Bezirksnummer_x                                 8\n",
      "Bezirksname_x                            Neukölln\n",
      "Wahlbezirk_x                                  701\n",
      "Wahlbezirksart_x                  Urnenwahlbezirk\n",
      "Abgeordneten-\\nhauswahlkreis_x                  7\n",
      "Bundestags-\\nwahlkreis_x                       82\n",
      "Berlin\\nOstWest                                 W\n",
      "Wahlberechtigte insgesamt_x                  1488\n",
      "Wahlberechtigte A1_x                         1101\n",
      "Wahlberechtigte A2_x                          387\n",
      "Wahlberechtigte A3_x                            0\n",
      "Wähler                                        744\n",
      "Wähler B1                                       3\n",
      "Ungültige Stimmen_x                            11\n",
      "Gültige Stimmen_x                             733\n",
      "SPD_x                                         185\n",
      "Name: 1649, dtype: object\n",
      "Stimmart_x                            Zweitstimme\n",
      "Bezirksnummer_x                                 8\n",
      "Bezirksname_x                            Neukölln\n",
      "Wahlbezirk_x                                  702\n",
      "Wahlbezirksart_x                  Urnenwahlbezirk\n",
      "Abgeordneten-\\nhauswahlkreis_x                  7\n",
      "Bundestags-\\nwahlkreis_x                       82\n",
      "Berlin\\nOstWest                                 W\n",
      "Wahlberechtigte insgesamt_x                  1442\n",
      "Wahlberechtigte A1_x                         1076\n",
      "Wahlberechtigte A2_x                          366\n",
      "Wahlberechtigte A3_x                            0\n",
      "Wähler                                        728\n",
      "Wähler B1                                       0\n",
      "Ungültige Stimmen_x                            13\n",
      "Gültige Stimmen_x                             715\n",
      "SPD_x                                         148\n",
      "Name: 1650, dtype: object\n",
      "Stimmart_x                            Zweitstimme\n",
      "Bezirksnummer_x                                 8\n",
      "Bezirksname_x                            Neukölln\n",
      "Wahlbezirk_x                                  703\n",
      "Wahlbezirksart_x                  Urnenwahlbezirk\n",
      "Abgeordneten-\\nhauswahlkreis_x                  7\n",
      "Bundestags-\\nwahlkreis_x                       82\n",
      "Berlin\\nOstWest                                 W\n",
      "Wahlberechtigte insgesamt_x                  1163\n",
      "Wahlberechtigte A1_x                          839\n",
      "Wahlberechtigte A2_x                          324\n",
      "Wahlberechtigte A3_x                            0\n",
      "Wähler                                        563\n",
      "Wähler B1                                       3\n",
      "Ungültige Stimmen_x                            23\n",
      "Gültige Stimmen_x                             540\n",
      "SPD_x                                         138\n",
      "Name: 1651, dtype: object\n",
      "Stimmart_x                            Zweitstimme\n",
      "Bezirksnummer_x                                 8\n",
      "Bezirksname_x                            Neukölln\n",
      "Wahlbezirk_x                                  704\n",
      "Wahlbezirksart_x                  Urnenwahlbezirk\n",
      "Abgeordneten-\\nhauswahlkreis_x                  7\n",
      "Bundestags-\\nwahlkreis_x                       82\n",
      "Berlin\\nOstWest                                 W\n",
      "Wahlberechtigte insgesamt_x                  1561\n",
      "Wahlberechtigte A1_x                         1197\n",
      "Wahlberechtigte A2_x                          364\n",
      "Wahlberechtigte A3_x                            0\n",
      "Wähler                                        805\n",
      "Wähler B1                                       4\n",
      "Ungültige Stimmen_x                            16\n",
      "Gültige Stimmen_x                             788\n",
      "SPD_x                                         199\n",
      "Name: 1652, dtype: object\n",
      "Stimmart_x                            Zweitstimme\n",
      "Bezirksnummer_x                                 8\n",
      "Bezirksname_x                            Neukölln\n",
      "Wahlbezirk_x                                  705\n",
      "Wahlbezirksart_x                  Urnenwahlbezirk\n",
      "Abgeordneten-\\nhauswahlkreis_x                  7\n",
      "Bundestags-\\nwahlkreis_x                       82\n",
      "Berlin\\nOstWest                                 W\n",
      "Wahlberechtigte insgesamt_x                  1267\n",
      "Wahlberechtigte A1_x                          977\n",
      "Wahlberechtigte A2_x                          290\n",
      "Wahlberechtigte A3_x                            0\n",
      "Wähler                                        739\n",
      "Wähler B1                                       5\n",
      "Ungültige Stimmen_x                            15\n",
      "Gültige Stimmen_x                             724\n",
      "SPD_x                                         184\n",
      "Name: 1653, dtype: object\n",
      "Stimmart_x                            Zweitstimme\n",
      "Bezirksnummer_x                                 8\n",
      "Bezirksname_x                            Neukölln\n",
      "Wahlbezirk_x                                  706\n",
      "Wahlbezirksart_x                  Urnenwahlbezirk\n",
      "Abgeordneten-\\nhauswahlkreis_x                  7\n",
      "Bundestags-\\nwahlkreis_x                       82\n",
      "Berlin\\nOstWest                                 W\n",
      "Wahlberechtigte insgesamt_x                  1539\n",
      "Wahlberechtigte A1_x                         1166\n",
      "Wahlberechtigte A2_x                          373\n",
      "Wahlberechtigte A3_x                            0\n",
      "Wähler                                        875\n",
      "Wähler B1                                       2\n",
      "Ungültige Stimmen_x                            17\n",
      "Gültige Stimmen_x                             858\n",
      "SPD_x                                         204\n",
      "Name: 1654, dtype: object\n",
      "Stimmart_x                            Zweitstimme\n",
      "Bezirksnummer_x                                 8\n",
      "Bezirksname_x                            Neukölln\n",
      "Wahlbezirk_x                                  707\n",
      "Wahlbezirksart_x                  Urnenwahlbezirk\n",
      "Abgeordneten-\\nhauswahlkreis_x                  7\n",
      "Bundestags-\\nwahlkreis_x                       82\n",
      "Berlin\\nOstWest                                 W\n",
      "Wahlberechtigte insgesamt_x                  1424\n",
      "Wahlberechtigte A1_x                         1071\n",
      "Wahlberechtigte A2_x                          353\n",
      "Wahlberechtigte A3_x                            0\n",
      "Wähler                                        666\n",
      "Wähler B1                                       8\n",
      "Ungültige Stimmen_x                            16\n",
      "Gültige Stimmen_x                             650\n",
      "SPD_x                                         168\n",
      "Name: 1655, dtype: object\n",
      "Stimmart_x                            Zweitstimme\n",
      "Bezirksnummer_x                                 8\n",
      "Bezirksname_x                            Neukölln\n",
      "Wahlbezirk_x                                  708\n",
      "Wahlbezirksart_x                  Urnenwahlbezirk\n",
      "Abgeordneten-\\nhauswahlkreis_x                  7\n",
      "Bundestags-\\nwahlkreis_x                       82\n",
      "Berlin\\nOstWest                                 W\n",
      "Wahlberechtigte insgesamt_x                  1398\n",
      "Wahlberechtigte A1_x                         1074\n",
      "Wahlberechtigte A2_x                          324\n",
      "Wahlberechtigte A3_x                            0\n",
      "Wähler                                        651\n",
      "Wähler B1                                       3\n",
      "Ungültige Stimmen_x                            14\n",
      "Gültige Stimmen_x                             637\n",
      "SPD_x                                         160\n",
      "Name: 1656, dtype: object\n",
      "Stimmart_x                            Zweitstimme\n",
      "Bezirksnummer_x                                 8\n",
      "Bezirksname_x                            Neukölln\n",
      "Wahlbezirk_x                                  709\n",
      "Wahlbezirksart_x                  Urnenwahlbezirk\n",
      "Abgeordneten-\\nhauswahlkreis_x                  7\n",
      "Bundestags-\\nwahlkreis_x                       82\n",
      "Berlin\\nOstWest                                 W\n",
      "Wahlberechtigte insgesamt_x                  1486\n",
      "Wahlberechtigte A1_x                         1161\n",
      "Wahlberechtigte A2_x                          325\n",
      "Wahlberechtigte A3_x                            0\n",
      "Wähler                                        737\n",
      "Wähler B1                                       1\n",
      "Ungültige Stimmen_x                            15\n",
      "Gültige Stimmen_x                             722\n",
      "SPD_x                                         211\n",
      "Name: 1657, dtype: object\n",
      "Stimmart_x                            Zweitstimme\n",
      "Bezirksnummer_x                                 8\n",
      "Bezirksname_x                            Neukölln\n",
      "Wahlbezirk_x                                  710\n",
      "Wahlbezirksart_x                  Urnenwahlbezirk\n",
      "Abgeordneten-\\nhauswahlkreis_x                  7\n",
      "Bundestags-\\nwahlkreis_x                       82\n",
      "Berlin\\nOstWest                                 W\n",
      "Wahlberechtigte insgesamt_x                  1474\n",
      "Wahlberechtigte A1_x                         1151\n",
      "Wahlberechtigte A2_x                          323\n",
      "Wahlberechtigte A3_x                            0\n",
      "Wähler                                        762\n",
      "Wähler B1                                       2\n",
      "Ungültige Stimmen_x                            25\n",
      "Gültige Stimmen_x                             737\n",
      "SPD_x                                         173\n",
      "Name: 1658, dtype: object\n",
      "Stimmart_x                            Zweitstimme\n",
      "Bezirksnummer_x                                 8\n",
      "Bezirksname_x                            Neukölln\n",
      "Wahlbezirk_x                                  711\n",
      "Wahlbezirksart_x                  Urnenwahlbezirk\n",
      "Abgeordneten-\\nhauswahlkreis_x                  7\n",
      "Bundestags-\\nwahlkreis_x                       82\n",
      "Berlin\\nOstWest                                 W\n",
      "Wahlberechtigte insgesamt_x                  1518\n",
      "Wahlberechtigte A1_x                         1267\n",
      "Wahlberechtigte A2_x                          251\n",
      "Wahlberechtigte A3_x                            0\n",
      "Wähler                                        773\n",
      "Wähler B1                                       3\n",
      "Ungültige Stimmen_x                            21\n",
      "Gültige Stimmen_x                             752\n",
      "SPD_x                                         215\n",
      "Name: 1659, dtype: object\n",
      "Stimmart_x                            Zweitstimme\n",
      "Bezirksnummer_x                                 8\n",
      "Bezirksname_x                            Neukölln\n",
      "Wahlbezirk_x                                  712\n",
      "Wahlbezirksart_x                  Urnenwahlbezirk\n",
      "Abgeordneten-\\nhauswahlkreis_x                  7\n",
      "Bundestags-\\nwahlkreis_x                       82\n",
      "Berlin\\nOstWest                                 W\n",
      "Wahlberechtigte insgesamt_x                  1535\n",
      "Wahlberechtigte A1_x                         1209\n",
      "Wahlberechtigte A2_x                          326\n",
      "Wahlberechtigte A3_x                            0\n",
      "Wähler                                        730\n",
      "Wähler B1                                       0\n",
      "Ungültige Stimmen_x                            14\n",
      "Gültige Stimmen_x                             715\n",
      "SPD_x                                         203\n",
      "Name: 1660, dtype: object\n",
      "Stimmart_x                            Zweitstimme\n",
      "Bezirksnummer_x                                 8\n",
      "Bezirksname_x                            Neukölln\n",
      "Wahlbezirk_x                                  713\n",
      "Wahlbezirksart_x                  Urnenwahlbezirk\n",
      "Abgeordneten-\\nhauswahlkreis_x                  7\n",
      "Bundestags-\\nwahlkreis_x                       82\n",
      "Berlin\\nOstWest                                 W\n",
      "Wahlberechtigte insgesamt_x                  1493\n",
      "Wahlberechtigte A1_x                         1074\n",
      "Wahlberechtigte A2_x                          419\n",
      "Wahlberechtigte A3_x                            0\n",
      "Wähler                                        736\n",
      "Wähler B1                                       5\n",
      "Ungültige Stimmen_x                            17\n",
      "Gültige Stimmen_x                             718\n",
      "SPD_x                                         190\n",
      "Name: 1661, dtype: object\n",
      "Stimmart_x                            Zweitstimme\n",
      "Bezirksnummer_x                                 8\n",
      "Bezirksname_x                            Neukölln\n",
      "Wahlbezirk_x                                  714\n",
      "Wahlbezirksart_x                  Urnenwahlbezirk\n",
      "Abgeordneten-\\nhauswahlkreis_x                  7\n",
      "Bundestags-\\nwahlkreis_x                       82\n",
      "Berlin\\nOstWest                                 W\n",
      "Wahlberechtigte insgesamt_x                  1420\n",
      "Wahlberechtigte A1_x                         1001\n",
      "Wahlberechtigte A2_x                          419\n",
      "Wahlberechtigte A3_x                            0\n",
      "Wähler                                        671\n",
      "Wähler B1                                       3\n",
      "Ungültige Stimmen_x                            17\n",
      "Gültige Stimmen_x                             654\n",
      "SPD_x                                         184\n",
      "Name: 1662, dtype: object\n",
      "Stimmart_x                            Zweitstimme\n",
      "Bezirksnummer_x                                 8\n",
      "Bezirksname_x                            Neukölln\n",
      "Wahlbezirk_x                                  715\n",
      "Wahlbezirksart_x                  Urnenwahlbezirk\n",
      "Abgeordneten-\\nhauswahlkreis_x                  7\n",
      "Bundestags-\\nwahlkreis_x                       82\n",
      "Berlin\\nOstWest                                 W\n",
      "Wahlberechtigte insgesamt_x                  1504\n",
      "Wahlberechtigte A1_x                         1134\n",
      "Wahlberechtigte A2_x                          370\n",
      "Wahlberechtigte A3_x                            0\n",
      "Wähler                                        851\n",
      "Wähler B1                                       4\n",
      "Ungültige Stimmen_x                            14\n",
      "Gültige Stimmen_x                             837\n",
      "SPD_x                                         224\n",
      "Name: 1663, dtype: object\n",
      "Stimmart_x                            Zweitstimme\n",
      "Bezirksnummer_x                                 8\n",
      "Bezirksname_x                            Neukölln\n",
      "Wahlbezirk_x                                  716\n",
      "Wahlbezirksart_x                  Urnenwahlbezirk\n",
      "Abgeordneten-\\nhauswahlkreis_x                  7\n",
      "Bundestags-\\nwahlkreis_x                       82\n",
      "Berlin\\nOstWest                                 W\n",
      "Wahlberechtigte insgesamt_x                  1632\n",
      "Wahlberechtigte A1_x                         1242\n",
      "Wahlberechtigte A2_x                          390\n",
      "Wahlberechtigte A3_x                            0\n",
      "Wähler                                        811\n",
      "Wähler B1                                       2\n",
      "Ungültige Stimmen_x                            27\n",
      "Gültige Stimmen_x                             784\n",
      "SPD_x                                         193\n",
      "Name: 1664, dtype: object\n",
      "Stimmart_x                            Zweitstimme\n",
      "Bezirksnummer_x                                 8\n",
      "Bezirksname_x                            Neukölln\n",
      "Wahlbezirk_x                                  717\n",
      "Wahlbezirksart_x                  Urnenwahlbezirk\n",
      "Abgeordneten-\\nhauswahlkreis_x                  7\n",
      "Bundestags-\\nwahlkreis_x                       82\n",
      "Berlin\\nOstWest                                 W\n",
      "Wahlberechtigte insgesamt_x                  1551\n",
      "Wahlberechtigte A1_x                         1261\n",
      "Wahlberechtigte A2_x                          290\n",
      "Wahlberechtigte A3_x                            0\n",
      "Wähler                                        821\n",
      "Wähler B1                                       2\n",
      "Ungültige Stimmen_x                            29\n",
      "Gültige Stimmen_x                             792\n",
      "SPD_x                                         177\n",
      "Name: 1665, dtype: object\n",
      "Stimmart_x                            Zweitstimme\n",
      "Bezirksnummer_x                                 8\n",
      "Bezirksname_x                            Neukölln\n",
      "Wahlbezirk_x                                  718\n",
      "Wahlbezirksart_x                  Urnenwahlbezirk\n",
      "Abgeordneten-\\nhauswahlkreis_x                  7\n",
      "Bundestags-\\nwahlkreis_x                       82\n",
      "Berlin\\nOstWest                                 W\n",
      "Wahlberechtigte insgesamt_x                  1662\n",
      "Wahlberechtigte A1_x                         1357\n",
      "Wahlberechtigte A2_x                          305\n",
      "Wahlberechtigte A3_x                            0\n",
      "Wähler                                        787\n",
      "Wähler B1                                       9\n",
      "Ungültige Stimmen_x                            23\n",
      "Gültige Stimmen_x                             764\n",
      "SPD_x                                         186\n",
      "Name: 1666, dtype: object\n",
      "Stimmart_x                            Zweitstimme\n",
      "Bezirksnummer_x                                 8\n",
      "Bezirksname_x                            Neukölln\n",
      "Wahlbezirk_x                                  719\n",
      "Wahlbezirksart_x                  Urnenwahlbezirk\n",
      "Abgeordneten-\\nhauswahlkreis_x                  7\n",
      "Bundestags-\\nwahlkreis_x                       82\n",
      "Berlin\\nOstWest                                 W\n",
      "Wahlberechtigte insgesamt_x                  1536\n",
      "Wahlberechtigte A1_x                         1170\n",
      "Wahlberechtigte A2_x                          366\n",
      "Wahlberechtigte A3_x                            0\n",
      "Wähler                                        719\n",
      "Wähler B1                                       1\n",
      "Ungültige Stimmen_x                            15\n",
      "Gültige Stimmen_x                             704\n",
      "SPD_x                                         206\n",
      "Name: 1667, dtype: object\n",
      "Stimmart_x                            Zweitstimme\n",
      "Bezirksnummer_x                                11\n",
      "Bezirksname_x                         Lichtenberg\n",
      "Wahlbezirk_x                                   2J\n",
      "Wahlbezirksart_x                  Briefwahlbezirk\n",
      "Abgeordneten-\\nhauswahlkreis_x                  2\n",
      "Bundestags-\\nwahlkreis_x                       86\n",
      "Berlin\\nOstWest                                 O\n",
      "Wahlberechtigte insgesamt_x                     0\n",
      "Wahlberechtigte A1_x                            0\n",
      "Wahlberechtigte A2_x                            0\n",
      "Wahlberechtigte A3_x                            0\n",
      "Wähler                                        578\n",
      "Wähler B1                                     578\n",
      "Ungültige Stimmen_x                             7\n",
      "Gültige Stimmen_x                             571\n",
      "SPD_x                                         109\n",
      "Name: 2017, dtype: object\n",
      "Stimmart_x                            Zweitstimme\n",
      "Bezirksnummer_x                                11\n",
      "Bezirksname_x                         Lichtenberg\n",
      "Wahlbezirk_x                                   3J\n",
      "Wahlbezirksart_x                  Briefwahlbezirk\n",
      "Abgeordneten-\\nhauswahlkreis_x                  3\n",
      "Bundestags-\\nwahlkreis_x                       86\n",
      "Berlin\\nOstWest                                 O\n",
      "Wahlberechtigte insgesamt_x                     0\n",
      "Wahlberechtigte A1_x                            0\n",
      "Wahlberechtigte A2_x                            0\n",
      "Wahlberechtigte A3_x                            0\n",
      "Wähler                                        411\n",
      "Wähler B1                                     411\n",
      "Ungültige Stimmen_x                            10\n",
      "Gültige Stimmen_x                             400\n",
      "SPD_x                                          97\n",
      "Name: 2027, dtype: object\n",
      "Stimmart_x                            Zweitstimme\n",
      "Bezirksnummer_x                                11\n",
      "Bezirksname_x                         Lichtenberg\n",
      "Wahlbezirk_x                                   4J\n",
      "Wahlbezirksart_x                  Briefwahlbezirk\n",
      "Abgeordneten-\\nhauswahlkreis_x                  4\n",
      "Bundestags-\\nwahlkreis_x                       86\n",
      "Berlin\\nOstWest                                 O\n",
      "Wahlberechtigte insgesamt_x                     0\n",
      "Wahlberechtigte A1_x                            0\n",
      "Wahlberechtigte A2_x                            0\n",
      "Wahlberechtigte A3_x                            0\n",
      "Wähler                                        510\n",
      "Wähler B1                                     510\n",
      "Ungültige Stimmen_x                             7\n",
      "Gültige Stimmen_x                             503\n",
      "SPD_x                                          88\n",
      "Name: 2038, dtype: object\n",
      "Stimmart_x                            Zweitstimme\n",
      "Bezirksnummer_x                                11\n",
      "Bezirksname_x                         Lichtenberg\n",
      "Wahlbezirk_x                                   5J\n",
      "Wahlbezirksart_x                  Briefwahlbezirk\n",
      "Abgeordneten-\\nhauswahlkreis_x                  5\n",
      "Bundestags-\\nwahlkreis_x                       86\n",
      "Berlin\\nOstWest                                 O\n",
      "Wahlberechtigte insgesamt_x                     0\n",
      "Wahlberechtigte A1_x                            0\n",
      "Wahlberechtigte A2_x                            0\n",
      "Wahlberechtigte A3_x                            0\n",
      "Wähler                                        611\n",
      "Wähler B1                                     611\n",
      "Ungültige Stimmen_x                             4\n",
      "Gültige Stimmen_x                             607\n",
      "SPD_x                                         114\n",
      "Name: 2048, dtype: object\n",
      "Stimmart_x                            Zweitstimme\n",
      "Bezirksnummer_x                                11\n",
      "Bezirksname_x                         Lichtenberg\n",
      "Wahlbezirk_x                                   6J\n",
      "Wahlbezirksart_x                  Briefwahlbezirk\n",
      "Abgeordneten-\\nhauswahlkreis_x                  6\n",
      "Bundestags-\\nwahlkreis_x                       86\n",
      "Berlin\\nOstWest                                 O\n",
      "Wahlberechtigte insgesamt_x                     0\n",
      "Wahlberechtigte A1_x                            0\n",
      "Wahlberechtigte A2_x                            0\n",
      "Wahlberechtigte A3_x                            0\n",
      "Wähler                                        440\n",
      "Wähler B1                                     440\n",
      "Ungültige Stimmen_x                             3\n",
      "Gültige Stimmen_x                             437\n",
      "SPD_x                                          95\n",
      "Name: 2058, dtype: object\n",
      "number of NULL 37\n",
      "difference in election districts1332\n"
     ]
    }
   ],
   "source": [
    "nulls=combined.Bezirksnummer_y.isnull()\n",
    "n_null=0\n",
    "for i in range(combined.shape[0]):\n",
    "    if nulls[i]==True:\n",
    "        print(combined.iloc[i,1:18])\n",
    "        n_null+=1\n",
    "print(f\"number of NULL {n_null}\")\n",
    "print(f\"difference in election districts{elec21_vote2.shape[0]-elec16_vote2.shape[0]}\") "
   ]
  },
  {
   "cell_type": "markdown",
   "id": "e7713ac5",
   "metadata": {},
   "source": [
    "There about as many nulls as there are more districts. Only 37 seem to have other reasons, thus the main reason is the larger number of districts in 2021. That clearly different number of districts could make predictions more difficult. "
   ]
  },
  {
   "cell_type": "markdown",
   "id": "23b08456",
   "metadata": {},
   "source": [
    "For now the problem is ignored by cleaning the NaN cases.\n",
    "\n"
   ]
  },
  {
   "cell_type": "code",
   "execution_count": 11,
   "id": "c193501d",
   "metadata": {},
   "outputs": [
    {
     "name": "stdout",
     "output_type": "stream",
     "text": [
      "(2395, 95)\n"
     ]
    }
   ],
   "source": [
    "cleaned=combined.loc[combined.Bezirksnummer_y.isnull()==False]\n",
    "print(cleaned.shape)"
   ]
  },
  {
   "cell_type": "markdown",
   "id": "d76038a8",
   "metadata": {},
   "source": [
    "\n",
    "\n",
    "As a first trial the percentage differnce is predicted as finction of the percentage.  We are starting with the SPD."
   ]
  },
  {
   "cell_type": "code",
   "execution_count": 12,
   "id": "ad37e593",
   "metadata": {},
   "outputs": [],
   "source": [
    "#needs 2 d rarray\n",
    "tar=cleaned.SPD_y/cleaned['Gültige Stimmen_y']*100-100*cleaned.SPD_x/cleaned['Gültige Stimmen_x']\n",
    "ser1=cleaned.SPD_y/cleaned['Gültige Stimmen_x']*100\n",
    "ser2=cleaned.CDU_y/cleaned['Gültige Stimmen_x']*100\n",
    "feat = pd.concat([ser1,ser2],axis=1)"
   ]
  },
  {
   "cell_type": "code",
   "execution_count": 13,
   "id": "4b2d9350",
   "metadata": {},
   "outputs": [],
   "source": [
    "\n",
    "\n",
    "\n",
    "feat_train,feat_test,tar_train, tar_test= train_test_split(feat,tar,train_size=0.50, shuffle=True, random_state=1)"
   ]
  },
  {
   "cell_type": "code",
   "execution_count": 14,
   "id": "af8a6a1e",
   "metadata": {},
   "outputs": [],
   "source": [
    "reg=LinearRegression().fit(feat_train, tar_train)"
   ]
  },
  {
   "cell_type": "code",
   "execution_count": 15,
   "id": "2456830a",
   "metadata": {},
   "outputs": [],
   "source": [
    "predli1te=reg.predict(feat_test)\n",
    "predli1tr=reg.predict(feat_train)"
   ]
  },
  {
   "cell_type": "code",
   "execution_count": 16,
   "id": "7346edc3",
   "metadata": {},
   "outputs": [
    {
     "name": "stdout",
     "output_type": "stream",
     "text": [
      "standard deviation of data (train) 4.9951 %\n",
      "standard deviation of data (test) 4.8475 %\n",
      "standard deviation of train-data (train) 4.7516 %\n",
      "standard deviation of prediction-data (test) 4.5602 %\n"
     ]
    }
   ],
   "source": [
    "print(f\"standard deviation of data (train) {round(np.std(tar_train),4)} %\")\n",
    "print(f\"standard deviation of data (test) {round(np.std(tar_test),4)} %\")\n",
    "print(f\"standard deviation of train-data (train) {round(np.std(predli1tr-tar_train),4)} %\")\n",
    "print(f\"standard deviation of prediction-data (test) {round(np.std(predli1te-tar_test),4)} %\")"
   ]
  },
  {
   "cell_type": "markdown",
   "id": "864ca520",
   "metadata": {},
   "source": [
    "The prediction is similar good in train and test, but both improve only by a little compared to having no prediction. Does not look good area missmatch or just not enough parameters."
   ]
  },
  {
   "cell_type": "code",
   "execution_count": 17,
   "id": "a7b65086",
   "metadata": {},
   "outputs": [
    {
     "data": {
      "text/plain": [
       "Text(0, 0.5, '% 2021-2016 (prediction-data)')"
      ]
     },
     "execution_count": 17,
     "metadata": {},
     "output_type": "execute_result"
    },
    {
     "data": {
      "image/png": "[encoded data removed]",
      "text/plain": [
       "<Figure size 640x480 with 1 Axes>"
      ]
     },
     "metadata": {},
     "output_type": "display_data"
    }
   ],
   "source": [
    "plt.plot(feat_train.iloc[:,0],predli1tr-tar_train,'o',ms=2,color='blue',label='train') \n",
    "plt.plot(feat_test.iloc[:,0],predli1te-tar_test,'o',ms=2,color='red',label='test') \n",
    "plt.legend(loc=\"best\")\n",
    "plt.xlabel(\"% of SPD in 2016\")\n",
    "plt.ylabel(\"% 2021-2016 (prediction-data)\")"
   ]
  },
  {
   "cell_type": "code",
   "execution_count": 18,
   "id": "f91d1f49",
   "metadata": {},
   "outputs": [],
   "source": [
    "regx=XGBRegressor().fit(feat_train, tar_train)"
   ]
  },
  {
   "cell_type": "markdown",
   "id": "046d66d3",
   "metadata": {},
   "source": [
    "Now I use as alternative XGBregressor."
   ]
  },
  {
   "cell_type": "code",
   "execution_count": 19,
   "id": "802a621e",
   "metadata": {},
   "outputs": [],
   "source": [
    "predli1tex=regx.predict(feat_test)\n",
    "predli1trx=regx.predict(feat_train)"
   ]
  },
  {
   "cell_type": "code",
   "execution_count": 20,
   "id": "327f0be1",
   "metadata": {},
   "outputs": [
    {
     "name": "stdout",
     "output_type": "stream",
     "text": [
      "standard deviation of test 5.3409 %\n",
      "standard deviation of train 1.6661 %\n"
     ]
    }
   ],
   "source": [
    "print(f\"standard deviation of test {round(np.std(predli1tex-tar_test),4)} %\")\n",
    "print(f\"standard deviation of train {round(np.std(predli1trx-tar_train),4)} %\")"
   ]
  },
  {
   "cell_type": "markdown",
   "id": "b1d17293",
   "metadata": {},
   "source": [
    "There is clear overfitting. "
   ]
  },
  {
   "cell_type": "markdown",
   "id": "53058693",
   "metadata": {},
   "source": [
    "Now I am adding more columns (parties) to the feature data. "
   ]
  },
  {
   "cell_type": "code",
   "execution_count": 21,
   "id": "4cdd9085",
   "metadata": {},
   "outputs": [
    {
     "name": "stdout",
     "output_type": "stream",
     "text": [
      "9.046068894163886 12.847811644332696\n"
     ]
    }
   ],
   "source": [
    "tar=cleaned.SPD_y/cleaned['Gültige Stimmen_y']*100-100*cleaned.SPD_x/cleaned['Gültige Stimmen_x']\n",
    "tarc=cleaned.CDU_y/cleaned['Gültige Stimmen_y']*100-100*cleaned.CDU_x/cleaned['Gültige Stimmen_x']\n",
    "tara=cleaned.AfD_y/cleaned['Gültige Stimmen_y']*100-100*cleaned.AfD_x/cleaned['Gültige Stimmen_x']\n",
    "tarf=cleaned.FDP_y/cleaned['Gültige Stimmen_y']*100-100*cleaned.FDP_x/cleaned['Gültige Stimmen_x']\n",
    "tarl=cleaned['DIE LINKE_y']/cleaned['Gültige Stimmen_y']*100-100*cleaned['DIE LINKE_x']/cleaned['Gültige Stimmen_x']\n",
    "targ=cleaned.GRÜNE_y/cleaned['Gültige Stimmen_y']*100-100*cleaned.GRÜNE_x/cleaned['Gültige Stimmen_x']\n",
    "ser1=cleaned.SPD_y/cleaned['Gültige Stimmen_y']*100\n",
    "ser2=cleaned.CDU_y/cleaned['Gültige Stimmen_y']*100\n",
    "ser3=cleaned.GRÜNE_y/cleaned['Gültige Stimmen_y']*100\n",
    "ser4=cleaned.FDP_y/cleaned['Gültige Stimmen_y']*100\n",
    "ser5=cleaned['DIE LINKE_y']/cleaned['Gültige Stimmen_y']*100\n",
    "ser6=cleaned.AfD_y/cleaned['Gültige Stimmen_y']*100\n",
    "#rest not needed follows automatically\n",
    "ser7=100-ser1-ser2-ser3-ser4-ser5-ser6\n",
    "print(ser6.mean(),ser7.mean())\n",
    "feat2 = pd.concat([ser1,ser2,ser3,ser4,ser5,ser6],axis=1)"
   ]
  },
  {
   "cell_type": "code",
   "execution_count": 22,
   "id": "c9da1982",
   "metadata": {},
   "outputs": [],
   "source": [
    "feat2_train,feat2_test,tar_train, tar_test,tarc_train, tarc_test,tara_train, tara_test,tarf_train, tarf_test,tarl_train, tarl_test,targ_train, targ_test= train_test_split(feat2,tar,tarc,tara,tarf,tarl,targ,train_size=0.50, shuffle=True, random_state=1)"
   ]
  },
  {
   "cell_type": "code",
   "execution_count": 23,
   "id": "24ea5e0f",
   "metadata": {},
   "outputs": [],
   "source": [
    "reg2=LinearRegression().fit(feat2_train, tar_train)"
   ]
  },
  {
   "cell_type": "code",
   "execution_count": 24,
   "id": "5acee090",
   "metadata": {},
   "outputs": [],
   "source": [
    "predli1te2=reg2.predict(feat2_test)\n",
    "predli1tr2=reg2.predict(feat2_train)"
   ]
  },
  {
   "cell_type": "markdown",
   "id": "10290892",
   "metadata": {},
   "source": [
    "No I look again on the metrics."
   ]
  },
  {
   "cell_type": "code",
   "execution_count": 25,
   "id": "cce60fd6",
   "metadata": {},
   "outputs": [
    {
     "name": "stdout",
     "output_type": "stream",
     "text": [
      "standard deviation of data (train) 4.9951 %\n",
      "standard deviation of data (test) 4.8475 %\n",
      "standard deviation of train-data (train) 3.4425 %\n",
      "standard deviation of prediction-data (test) 3.4274 %\n"
     ]
    }
   ],
   "source": [
    "print(f\"standard deviation of data (train) {round(np.std(tar_train),4)} %\")\n",
    "print(f\"standard deviation of data (test) {round(np.std(tar_test),4)} %\")\n",
    "print(f\"standard deviation of train-data (train) {round(np.std(predli1tr2-tar_train),4)} %\")\n",
    "print(f\"standard deviation of prediction-data (test) {round(np.std(predli1te2-tar_test),4)} %\")"
   ]
  },
  {
   "cell_type": "markdown",
   "id": "264b3710",
   "metadata": {},
   "source": [
    "The metrics improve but only by a tiny bit and are still not really good. "
   ]
  },
  {
   "cell_type": "code",
   "execution_count": 26,
   "id": "851ef409",
   "metadata": {},
   "outputs": [],
   "source": [
    "regx2=XGBRegressor().fit(feat2_train, tar_train)"
   ]
  },
  {
   "cell_type": "code",
   "execution_count": 27,
   "id": "c64f7d71",
   "metadata": {},
   "outputs": [],
   "source": [
    "predli1tex2=regx2.predict(feat2_test)\n",
    "predli1trx2=regx2.predict(feat2_train)"
   ]
  },
  {
   "cell_type": "code",
   "execution_count": 28,
   "id": "4d99c434",
   "metadata": {},
   "outputs": [
    {
     "name": "stdout",
     "output_type": "stream",
     "text": [
      "standard deviation of test 3.572 %\n",
      "standard deviation of train 0.4314 %\n"
     ]
    }
   ],
   "source": [
    "print(f\"standard deviation of test {round(np.std(predli1tex2-tar_test),4)} %\")\n",
    "print(f\"standard deviation of train {round(np.std(predli1trx2-tar_train),4)} %\")"
   ]
  },
  {
   "cell_type": "markdown",
   "id": "2ef8aafa",
   "metadata": {},
   "source": [
    "XGB improves more compared to the previous version but is still slightly worse than linear regression. There is still clear overfitting."
   ]
  },
  {
   "cell_type": "markdown",
   "id": "fac27709",
   "metadata": {},
   "source": [
    "Need to check whether it can be the dostrict matching. Or is it difficult party? "
   ]
  },
  {
   "cell_type": "markdown",
   "id": "0a5b73b7",
   "metadata": {},
   "source": [
    "Now CDU"
   ]
  },
  {
   "cell_type": "code",
   "execution_count": 29,
   "id": "911a20e0",
   "metadata": {},
   "outputs": [],
   "source": [
    "def get_scatter(feature_train,feature_test,target_train,target_test,name):\n",
    "    reg2c=LinearRegression().fit(feature_train, target_train)\n",
    "    predli1te2c=reg2c.predict(feature_test)\n",
    "    predli1tr2c=reg2c.predict(feature_train)\n",
    "    reg2cx=XGBRegressor().fit(feature_train, target_train)\n",
    "    predli1te2cx=reg2cx.predict(feature_test)\n",
    "    predli1tr2cx=reg2cx.predict(feature_train)\n",
    "    print(name)\n",
    "    print(f\"standard deviation of data (train) {round(np.std(target_train),4)} %\")\n",
    "    print(f\"standard deviation of data (test) {round(np.std(target_test),4)} %\")\n",
    "    print(f\"standard deviation of train-data (train) {round(np.std(predli1tr2c-target_train),4)} %\")\n",
    "    print(f\"standard deviation of prediction-data (test) {round(np.std(predli1te2c-target_test),4)} %\")\n",
    "    print(f\"standard deviation of train-data (train) XGB {round(np.std(predli1tr2cx-target_train),4)} %\")\n",
    "    print(f\"standard deviation of prediction-data (test) XGB {round(np.std(predli1te2cx-target_test),4)} %\")   "
   ]
  },
  {
   "cell_type": "code",
   "execution_count": 30,
   "id": "ea874e74",
   "metadata": {},
   "outputs": [
    {
     "name": "stdout",
     "output_type": "stream",
     "text": [
      "CDU\n",
      "standard deviation of data (train) 4.6854 %\n",
      "standard deviation of data (test) 4.5053 %\n",
      "standard deviation of train-data (train) 4.0837 %\n",
      "standard deviation of prediction-data (test) 3.8706 %\n",
      "standard deviation of train-data (train) XGB 0.6 %\n",
      "standard deviation of prediction-data (test) XGB 4.2138 %\n"
     ]
    }
   ],
   "source": [
    "get_scatter(feat2_train,feat2_test,tarc_train,tarc_test,\"CDU\")"
   ]
  },
  {
   "cell_type": "code",
   "execution_count": 31,
   "id": "50649580",
   "metadata": {},
   "outputs": [
    {
     "name": "stdout",
     "output_type": "stream",
     "text": [
      "Gruene\n",
      "standard deviation of data (train) 5.7667 %\n",
      "standard deviation of data (test) 5.6388 %\n",
      "standard deviation of train-data (train) 4.9244 %\n",
      "standard deviation of prediction-data (test) 5.0526 %\n",
      "standard deviation of train-data (train) XGB 0.5031 %\n",
      "standard deviation of prediction-data (test) XGB 5.4996 %\n"
     ]
    }
   ],
   "source": [
    "get_scatter(feat2_train,feat2_test,targ_train,targ_test,\"Gruene\")"
   ]
  },
  {
   "cell_type": "code",
   "execution_count": 32,
   "id": "b676d57c",
   "metadata": {},
   "outputs": [
    {
     "name": "stdout",
     "output_type": "stream",
     "text": [
      "die Linke\n",
      "standard deviation of data (train) 4.7148 %\n",
      "standard deviation of data (test) 4.7748 %\n",
      "standard deviation of train-data (train) 4.2597 %\n",
      "standard deviation of prediction-data (test) 4.1862 %\n",
      "standard deviation of train-data (train) XGB 0.4656 %\n",
      "standard deviation of prediction-data (test) XGB 4.2473 %\n"
     ]
    }
   ],
   "source": [
    "get_scatter(feat2_train,feat2_test,tarl_train,tarl_test,\"die Linke\")"
   ]
  },
  {
   "cell_type": "code",
   "execution_count": 33,
   "id": "ac32ac63",
   "metadata": {},
   "outputs": [
    {
     "name": "stdout",
     "output_type": "stream",
     "text": [
      "AfD\n",
      "standard deviation of data (train) 3.6788 %\n",
      "standard deviation of data (test) 3.5955 %\n",
      "standard deviation of train-data (train) 3.4103 %\n",
      "standard deviation of prediction-data (test) 3.3856 %\n",
      "standard deviation of train-data (train) XGB 0.4686 %\n",
      "standard deviation of prediction-data (test) XGB 3.7491 %\n"
     ]
    }
   ],
   "source": [
    "get_scatter(feat2_train,feat2_test,tara_train,tara_test,\"AfD\")"
   ]
  },
  {
   "cell_type": "code",
   "execution_count": 34,
   "id": "6262610f",
   "metadata": {},
   "outputs": [
    {
     "name": "stdout",
     "output_type": "stream",
     "text": [
      "FDP\n",
      "standard deviation of data (train) 2.9 %\n",
      "standard deviation of data (test) 2.7637 %\n",
      "standard deviation of train-data (train) 2.3844 %\n",
      "standard deviation of prediction-data (test) 2.2237 %\n",
      "standard deviation of train-data (train) XGB 0.2344 %\n",
      "standard deviation of prediction-data (test) XGB 2.2656 %\n"
     ]
    }
   ],
   "source": [
    "get_scatter(feat2_train,feat2_test,tarf_train,tarf_test,\"FDP\")"
   ]
  },
  {
   "cell_type": "markdown",
   "id": "131b3b62",
   "metadata": {},
   "source": [
    "All are similar, none is really good. XGB is not so good. On the other hand the real target is the average of them, thus the impact is not so high. "
   ]
  },
  {
   "cell_type": "markdown",
   "id": "beb41a69",
   "metadata": {},
   "source": [
    "Shoudl get impact on final important numbers, percentage and seats. "
   ]
  },
  {
   "cell_type": "markdown",
   "id": "2c0aa53d",
   "metadata": {},
   "source": [
    "Now looking into miss matching in matched ones"
   ]
  },
  {
   "cell_type": "code",
   "execution_count": 35,
   "id": "96fb2c10",
   "metadata": {},
   "outputs": [
    {
     "name": "stdout",
     "output_type": "stream",
     "text": [
      "Stimmart_x                            Zweitstimme\n",
      "Bezirksnummer_x                                 1\n",
      "Bezirksname_x                               Mitte\n",
      "Wahlbezirk_x                                   1A\n",
      "Wahlbezirksart_x                  Briefwahlbezirk\n",
      "Abgeordneten-\\nhauswahlkreis_x                  1\n",
      "Bundestags-\\nwahlkreis_x                       75\n",
      "Berlin\\nOstWest                                 O\n",
      "Wahlberechtigte insgesamt_x                     0\n",
      "Wahlberechtigte A1_x                            0\n",
      "Wahlberechtigte A2_x                            0\n",
      "Wahlberechtigte A3_x                            0\n",
      "Wähler                                       1480\n",
      "Wähler B1                                    1480\n",
      "Ungültige Stimmen_x                             4\n",
      "Gültige Stimmen_x                            1476\n",
      "SPD_x                                         299\n",
      "Name: 0, dtype: object\n",
      "Wahlberechtigte A1_y       0.0\n",
      "Wahlberechtigte A2_y       0.0\n",
      "Wahlberechtigte A3_y       0.0\n",
      "Wählende                1079.0\n",
      "Wählende B1             1079.0\n",
      "Gültige Stimmen_y       1079.0\n",
      "Ungültige Stimmen_y        0.0\n",
      "SPD_y                    165.0\n",
      "CDU_y                    163.0\n",
      "GRÜNE_y                  332.0\n",
      "DIE LINKE_y               81.0\n",
      "AfD_y                     37.0\n",
      "FDP_y                    161.0\n",
      "Die PARTEI_y              19.0\n",
      "Tierschutzpartei_y        11.0\n",
      "PIRATEN_y                  4.0\n",
      "Name: 0, dtype: object\n",
      "75\n",
      "1079.0\n",
      "1480\n",
      "161.0\n",
      "1\n",
      "0.0\n"
     ]
    }
   ],
   "source": [
    "nulls=combined.Bezirksnummer_y.isnull()\n",
    "nn_null=0\n",
    "for i in range(1):\n",
    "    if nulls[i]==False:\n",
    "        print(combined.iloc[i,1:18])\n",
    "        print(combined.iloc[i,53:69])\n",
    "        print(combined.iloc[i,7])\n",
    "        print(combined.iloc[i,58])\n",
    "        print(combined.iloc[i,14])\n",
    "        print(combined.iloc[i,65])\n",
    "        print(combined.iloc[i,2])\n",
    "        print(combined.iloc[i,54])\n",
    "        nn_null+=1"
   ]
  },
  {
   "cell_type": "code",
   "execution_count": 36,
   "id": "dc30d95a",
   "metadata": {},
   "outputs": [
    {
     "name": "stdout",
     "output_type": "stream",
     "text": [
      "75\n",
      "1079.0\n",
      "75\n",
      "1094.0\n",
      "75\n",
      "1197.0\n",
      "75\n",
      "990.0\n",
      "75\n",
      "1195.0\n",
      "75\n",
      "796.0\n",
      "75\n",
      "1122.0\n",
      "75\n",
      "1106.0\n",
      "75\n",
      "885.0\n",
      "75\n",
      "856.0\n",
      "75\n",
      "758.0\n",
      "75\n",
      "679.0\n",
      "75\n",
      "839.0\n",
      "75\n",
      "883.0\n",
      "75\n",
      "985.0\n",
      "75\n",
      "878.0\n",
      "75\n",
      "1144.0\n",
      "75\n",
      "643.0\n",
      "75\n",
      "546.0\n",
      "75\n",
      "818.0\n",
      "75\n",
      "641.0\n",
      "75\n",
      "857.0\n",
      "75\n",
      "625.0\n",
      "75\n",
      "641.0\n",
      "75\n",
      "688.0\n",
      "75\n",
      "649.0\n",
      "75\n",
      "593.0\n",
      "75\n",
      "575.0\n",
      "75\n",
      "575.0\n",
      "75\n",
      "401.0\n",
      "75\n",
      "490.0\n",
      "75\n",
      "423.0\n",
      "75\n",
      "681.0\n",
      "75\n",
      "593.0\n",
      "75\n",
      "648.0\n",
      "75\n",
      "794.0\n",
      "75\n",
      "629.0\n",
      "75\n",
      "515.0\n",
      "75\n",
      "362.0\n",
      "75\n",
      "404.0\n",
      "75\n",
      "328.0\n",
      "75\n",
      "520.0\n",
      "75\n",
      "427.0\n",
      "75\n",
      "538.0\n",
      "75\n",
      "421.0\n",
      "75\n",
      "359.0\n",
      "75\n",
      "362.0\n",
      "75\n",
      "571.0\n",
      "75\n",
      "413.0\n",
      "75\n",
      "474.0\n",
      "75\n",
      "609.0\n",
      "75\n",
      "639.0\n",
      "75\n",
      "380.0\n",
      "75\n",
      "286.0\n",
      "75\n",
      "590.0\n",
      "75\n",
      "600.0\n",
      "75\n",
      "414.0\n",
      "75\n",
      "444.0\n",
      "75\n",
      "425.0\n",
      "75\n",
      "484.0\n",
      "75\n",
      "424.0\n",
      "75\n",
      "343.0\n",
      "75\n",
      "464.0\n",
      "75\n",
      "426.0\n",
      "75\n",
      "501.0\n",
      "75\n",
      "521.0\n",
      "75\n",
      "451.0\n",
      "75\n",
      "485.0\n",
      "75\n",
      "426.0\n",
      "75\n",
      "352.0\n",
      "75\n",
      "485.0\n",
      "75\n",
      "467.0\n",
      "75\n",
      "375.0\n",
      "75\n",
      "368.0\n",
      "75\n",
      "230.0\n",
      "75\n",
      "281.0\n",
      "75\n",
      "415.0\n",
      "75\n",
      "365.0\n",
      "75\n",
      "331.0\n",
      "75\n",
      "406.0\n",
      "75\n",
      "302.0\n",
      "75\n",
      "370.0\n",
      "75\n",
      "546.0\n",
      "75\n",
      "338.0\n",
      "75\n",
      "584.0\n",
      "75\n",
      "492.0\n",
      "75\n",
      "446.0\n",
      "75\n",
      "253.0\n",
      "75\n",
      "540.0\n",
      "75\n",
      "430.0\n",
      "75\n",
      "471.0\n",
      "75\n",
      "370.0\n",
      "75\n",
      "483.0\n",
      "75\n",
      "353.0\n",
      "75\n",
      "418.0\n"
     ]
    }
   ],
   "source": [
    "for i in range(combined.shape[1]):\n",
    "    if nulls[i]==False and (combined.iloc[i,7]!=combined.iloc[i,58] or combined.iloc[i,2]!=combined.iloc[i,54]) :\n",
    "        print(combined.iloc[i,7])\n",
    "        print(combined.iloc[i,58])\n",
    "        nn_null+=1"
   ]
  },
  {
   "cell_type": "markdown",
   "id": "fa2f3023",
   "metadata": {},
   "source": [
    "All have the same election district, thus a missmatch problem is the earliest one level below. I look now into the voters of matched districts."
   ]
  },
  {
   "cell_type": "code",
   "execution_count": 37,
   "id": "3d5012f5",
   "metadata": {},
   "outputs": [
    {
     "data": {
      "text/plain": [
       "Text(0, 0.5, 'eligible Voters 2021/eligible Voters 2016')"
      ]
     },
     "execution_count": 37,
     "metadata": {},
     "output_type": "execute_result"
    },
    {
     "data": {
      "image/png": "[encoded data removed]",
      "text/plain": [
       "<Figure size 640x480 with 1 Axes>"
      ]
     },
     "metadata": {},
     "output_type": "display_data"
    }
   ],
   "source": [
    "#needs to be redone rwos changed better a differnt column method\n",
    "plt.plot(cleaned.iloc[:,65],cleaned.iloc[:,14]/cleaned.iloc[:,65],'o',ms=2,color='blue',label='all') \n",
    "plt.legend(loc=\"best\")\n",
    "plt.xlabel(\"eligible Voters 2016\")\n",
    "plt.ylabel(\"eligible Voters 2021/eligible Voters 2016\")"
   ]
  },
  {
   "cell_type": "code",
   "execution_count": 38,
   "id": "1f4ecbef",
   "metadata": {},
   "outputs": [
    {
     "name": "stdout",
     "output_type": "stream",
     "text": [
      "count    2395.000000\n",
      "mean        6.640294\n",
      "std        17.299102\n",
      "min         0.000000\n",
      "25%         0.047619\n",
      "50%         0.145455\n",
      "75%         8.280032\n",
      "max       267.250000\n",
      "dtype: float64\n"
     ]
    }
   ],
   "source": [
    "ser=cleaned.iloc[:,14]/cleaned.iloc[:,65]\n",
    "print(ser.describe())"
   ]
  },
  {
   "cell_type": "markdown",
   "id": "0b4e211a",
   "metadata": {},
   "source": [
    "Clearly not the same districts. Could use larger districts or figure out the border of the district. Could look whether first in one matches better. Likely best to find the id (map) for the districts. "
   ]
  },
  {
   "cell_type": "markdown",
   "id": "bb5192c9",
   "metadata": {},
   "source": [
    "Now I combined on election district level. It has a two index system. "
   ]
  },
  {
   "cell_type": "code",
   "execution_count": 39,
   "id": "927c57c7",
   "metadata": {},
   "outputs": [
    {
     "name": "stderr",
     "output_type": "stream",
     "text": [
      "/tmp/ipykernel_11291/3230042564.py:3: FutureWarning: The default value of numeric_only in DataFrameGroupBy.sum is deprecated. In a future version, numeric_only will default to False. Either specify numeric_only or select only columns which should be valid for the function.\n",
      "  elec_district16=elec16_vote2.groupby([elec16_vote2['Bezirksnummer'],elec16_vote2['Abgeordneten-\\nhauswahlkreis']]).sum()\n"
     ]
    }
   ],
   "source": [
    "#first group by district is double index \n",
    "#elec_district16.set_index(['Bezirksnummer', 'Abgeordneten-\\nhauswahlkreis'])\n",
    "elec_district16=elec16_vote2.groupby([elec16_vote2['Bezirksnummer'],elec16_vote2['Abgeordneten-\\nhauswahlkreis']]).sum()"
   ]
  },
  {
   "cell_type": "code",
   "execution_count": 40,
   "id": "f3b1fea0",
   "metadata": {},
   "outputs": [
    {
     "name": "stderr",
     "output_type": "stream",
     "text": [
      "/tmp/ipykernel_11291/2124326953.py:1: FutureWarning: The default value of numeric_only in DataFrameGroupBy.sum is deprecated. In a future version, numeric_only will default to False. Either specify numeric_only or select only columns which should be valid for the function.\n",
      "  elec_district21=elec21_vote2.groupby([elec21_vote2['Bezirksnummer'],elec21_vote2['Abgeordneten-\\nhauswahlkreis']]).sum()\n"
     ]
    }
   ],
   "source": [
    "elec_district21=elec21_vote2.groupby([elec21_vote2['Bezirksnummer'],elec21_vote2['Abgeordneten-\\nhauswahlkreis']]).sum()"
   ]
  },
  {
   "cell_type": "code",
   "execution_count": 41,
   "id": "03640432",
   "metadata": {},
   "outputs": [
    {
     "name": "stdout",
     "output_type": "stream",
     "text": [
      "(78, 35)\n",
      "(78, 43)\n",
      "                                            Bundestags-\\nwahlkreis  \\\n",
      "Bezirksnummer Abgeordneten-\\nhauswahlkreis                           \n",
      "1             1                                               2175   \n",
      "              2                                               2625   \n",
      "              3                                               2550   \n",
      "              4                                               2550   \n",
      "              5                                               2400   \n",
      "...                                                            ...   \n",
      "12            2                                               2541   \n",
      "              3                                               2541   \n",
      "              4                                               2695   \n",
      "              5                                               2387   \n",
      "              6                                               2695   \n",
      "\n",
      "                                            Wahlberechtigte insgesamt  \\\n",
      "Bezirksnummer Abgeordneten-\\nhauswahlkreis                              \n",
      "1             1                                                 28221   \n",
      "              2                                                 32219   \n",
      "              3                                                 30033   \n",
      "              4                                                 29869   \n",
      "              5                                                 29414   \n",
      "...                                                               ...   \n",
      "12            2                                                 30235   \n",
      "              3                                                 31122   \n",
      "              4                                                 34788   \n",
      "              5                                                 27228   \n",
      "              6                                                 28560   \n",
      "\n",
      "                                            Wahlberechtigte A1  \\\n",
      "Bezirksnummer Abgeordneten-\\nhauswahlkreis                       \n",
      "1             1                                          21159   \n",
      "              2                                          24282   \n",
      "              3                                          23202   \n",
      "              4                                          24348   \n",
      "              5                                          24371   \n",
      "...                                                        ...   \n",
      "12            2                                          24640   \n",
      "              3                                          23513   \n",
      "              4                                          27502   \n",
      "              5                                          22919   \n",
      "              6                                          20307   \n",
      "\n",
      "                                            Wahlberechtigte A2  \\\n",
      "Bezirksnummer Abgeordneten-\\nhauswahlkreis                       \n",
      "1             1                                           7062   \n",
      "              2                                           7937   \n",
      "              3                                           6831   \n",
      "              4                                           5521   \n",
      "              5                                           5043   \n",
      "...                                                        ...   \n",
      "12            2                                           5594   \n",
      "              3                                           7609   \n",
      "              4                                           7286   \n",
      "              5                                           4309   \n",
      "              6                                           8253   \n",
      "\n",
      "                                            Wahlberechtigte A3  Wähler  \\\n",
      "Bezirksnummer Abgeordneten-\\nhauswahlkreis                               \n",
      "1             1                                              0   20226   \n",
      "              2                                              0   21959   \n",
      "              3                                              0   20181   \n",
      "              4                                              0   18681   \n",
      "              5                                              0   17256   \n",
      "...                                                        ...     ...   \n",
      "12            2                                              1   18394   \n",
      "              3                                              0   23617   \n",
      "              4                                              0   23909   \n",
      "              5                                              0   15582   \n",
      "              6                                              0   23365   \n",
      "\n",
      "                                            Wähler B1  Ungültige Stimmen  \\\n",
      "Bezirksnummer Abgeordneten-\\nhauswahlkreis                                 \n",
      "1             1                                  6517                215   \n",
      "              2                                  7373                240   \n",
      "              3                                  6351                261   \n",
      "              4                                  5116                285   \n",
      "              5                                  4634                374   \n",
      "...                                               ...                ...   \n",
      "12            2                                  5224                453   \n",
      "              3                                  7132                398   \n",
      "              4                                  6850                424   \n",
      "              5                                  4007                398   \n",
      "              6                                  7789                301   \n",
      "\n",
      "                                            Gültige Stimmen   SPD  ...  DL  \\\n",
      "Bezirksnummer Abgeordneten-\\nhauswahlkreis                         ...       \n",
      "1             1                                       20007  3795  ...   0   \n",
      "              2                                       21686  4127  ...   0   \n",
      "              3                                       19912  4382  ...   0   \n",
      "              4                                       18362  3926  ...   0   \n",
      "              5                                       16878  4186  ...   0   \n",
      "...                                                     ...   ...  ...  ..   \n",
      "12            2                                       17928  4016  ...   0   \n",
      "              3                                       23193  4990  ...   0   \n",
      "              4                                       23456  5227  ...   0   \n",
      "              5                                       15161  3703  ...   0   \n",
      "              6                                       23056  4341  ...   0   \n",
      "\n",
      "                                            ALFA  Tierschutzallianz   AfD  \\\n",
      "Bezirksnummer Abgeordneten-\\nhauswahlkreis                                  \n",
      "1             1                               64                  0  1352   \n",
      "              2                               86                  0  2673   \n",
      "              3                               64                  0  1778   \n",
      "              4                               57                  0  1518   \n",
      "              5                               39                  0  2271   \n",
      "...                                          ...                ...   ...   \n",
      "12            2                               86                  0  3441   \n",
      "              3                              103                  0  3395   \n",
      "              4                              140                  0  3846   \n",
      "              5                               50                  0  2951   \n",
      "              6                              109                  0  2490   \n",
      "\n",
      "                                            DIE EINHEIT  DIE VIOLETTEN  \\\n",
      "Bezirksnummer Abgeordneten-\\nhauswahlkreis                               \n",
      "1             1                                       0             56   \n",
      "              2                                       0             54   \n",
      "              3                                       0             68   \n",
      "              4                                       0             76   \n",
      "              5                                       0             48   \n",
      "...                                                 ...            ...   \n",
      "12            2                                       0              0   \n",
      "              3                                       0              0   \n",
      "              4                                       0              0   \n",
      "              5                                       0              0   \n",
      "              6                                       0              0   \n",
      "\n",
      "                                            Graue Panther  MENSCHLICHE WELT  \\\n",
      "Bezirksnummer Abgeordneten-\\nhauswahlkreis                                    \n",
      "1             1                                        80                 0   \n",
      "              2                                       146                 0   \n",
      "              3                                       121                 0   \n",
      "              4                                       118                 0   \n",
      "              5                                       282                 0   \n",
      "...                                                   ...               ...   \n",
      "12            2                                       593                 0   \n",
      "              3                                       434                 0   \n",
      "              4                                       567                 0   \n",
      "              5                                       523                 0   \n",
      "              6                                       248                 0   \n",
      "\n",
      "                                            MIETERPARTEI  \\\n",
      "Bezirksnummer Abgeordneten-\\nhauswahlkreis                 \n",
      "1             1                                        0   \n",
      "              2                                        0   \n",
      "              3                                        0   \n",
      "              4                                        0   \n",
      "              5                                        0   \n",
      "...                                                  ...   \n",
      "12            2                                        0   \n",
      "              3                                        0   \n",
      "              4                                        0   \n",
      "              5                                        0   \n",
      "              6                                        0   \n",
      "\n",
      "                                            Gesundheits-\\nforschung  \n",
      "Bezirksnummer Abgeordneten-\\nhauswahlkreis                           \n",
      "1             1                                                  54  \n",
      "              2                                                  89  \n",
      "              3                                                  46  \n",
      "              4                                                  44  \n",
      "              5                                                  62  \n",
      "...                                                             ...  \n",
      "12            2                                                  81  \n",
      "              3                                                  85  \n",
      "              4                                                 132  \n",
      "              5                                                  73  \n",
      "              6                                                  54  \n",
      "\n",
      "[78 rows x 35 columns]\n"
     ]
    }
   ],
   "source": [
    "print(elec_district16.shape)\n",
    "print(elec_district21.shape)\n",
    "print(elec_district16)"
   ]
  },
  {
   "cell_type": "code",
   "execution_count": 124,
   "id": "e88201d8",
   "metadata": {},
   "outputs": [],
   "source": [
    "combined_district=elec_district16.merge(elec_district21,how='left',left_index=True,right_index=True)"
   ]
  },
  {
   "cell_type": "code",
   "execution_count": 125,
   "id": "a4b17c85",
   "metadata": {},
   "outputs": [
    {
     "name": "stdout",
     "output_type": "stream",
     "text": [
      "Index(['Bundestags-\\nwahlkreis_x', 'Wahlberechtigte insgesamt_x',\n",
      "       'Wahlberechtigte A1_x', 'Wahlberechtigte A2_x', 'Wahlberechtigte A3_x',\n",
      "       'Wähler', 'Wähler B1', 'Ungültige Stimmen_x', 'Gültige Stimmen_x',\n",
      "       'SPD_x', 'CDU_x', 'GRÜNE_x', 'DIE LINKE_x', 'PIRATEN_x', 'NPD_x',\n",
      "       'FDP_x', 'Tierschutzpartei_x', 'pro Deutschland', 'Die PARTEI_x', 'BIG',\n",
      "       'DKP_x', 'ödp', 'PSG', 'BüSo_x', 'B', 'DL', 'ALFA', 'Tierschutzallianz',\n",
      "       'AfD_x', 'DIE EINHEIT', 'DIE VIOLETTEN', 'Graue Panther_x',\n",
      "       'MENSCHLICHE WELT_x', 'MIETERPARTEI_x', 'Gesundheits-\\nforschung',\n",
      "       'Bundestags-\\nwahlkreis_y', 'Wahlberechtigte insgesamt_y',\n",
      "       'Wahlberechtigte A1_y', 'Wahlberechtigte A2_y', 'Wahlberechtigte A3_y',\n",
      "       'Wählende', 'Wählende B1', 'Gültige Stimmen_y', 'Ungültige Stimmen_y',\n",
      "       'SPD_y', 'CDU_y', 'GRÜNE_y', 'DIE LINKE_y', 'AfD_y', 'FDP_y',\n",
      "       'Die PARTEI_y', 'Tierschutzpartei_y', 'PIRATEN_y', 'Graue Panther_y',\n",
      "       'NPD_y', 'Gesundheitsforschung', 'LKR', 'DKP_y', 'SGP', 'BüSo_y',\n",
      "       'MENSCHLICHE WELT_y', 'B*', 'ÖDP', 'TIERSCHUTZ hier!', 'dieBasis',\n",
      "       'Bildet Berlin!', 'Deutsche Konservative', 'Die Grauen',\n",
      "       'Neue Demokraten', 'REP', 'du.', 'BÜNDNIS21', 'FREIE WÄHLER',\n",
      "       'Klimaliste Berlin', 'MIETERPARTEI_y', 'Die Humanisten',\n",
      "       'Team Todenhöfer', 'Volt'],\n",
      "      dtype='object')\n"
     ]
    }
   ],
   "source": [
    "print(combined_district.columns)"
   ]
  },
  {
   "cell_type": "code",
   "execution_count": 126,
   "id": "89a4ccd3",
   "metadata": {},
   "outputs": [
    {
     "data": {
      "text/plain": [
       "Text(0, 0.5, 'eligible Voters 2021/eligible Voters 2016')"
      ]
     },
     "execution_count": 126,
     "metadata": {},
     "output_type": "execute_result"
    },
    {
     "data": {
      "image/png": "[encoded data removed]",
      "text/plain": [
       "<Figure size 640x480 with 1 Axes>"
      ]
     },
     "metadata": {},
     "output_type": "display_data"
    }
   ],
   "source": [
    "plt.plot(combined_district['Wahlberechtigte insgesamt_x'],combined_district['Wahlberechtigte insgesamt_y']/combined_district['Wahlberechtigte insgesamt_x'],'o',ms=2,color='blue',label='election districts') \n",
    "plt.legend(loc=\"best\")\n",
    "plt.xlabel(\"eligible Voters 2016\")\n",
    "plt.ylabel(\"eligible Voters 2021/eligible Voters 2016\")"
   ]
  },
  {
   "cell_type": "markdown",
   "id": "76fbf35a",
   "metadata": {},
   "source": [
    "Looks better most are rather close 1, some a little off. 78 are clearly not enough for a good analysis and prediction. Spatial information on the districts is needed. "
   ]
  },
  {
   "cell_type": "code",
   "execution_count": 127,
   "id": "941e418a",
   "metadata": {},
   "outputs": [],
   "source": [
    "#paarmeters> data frame, year fo x in dataset, year of y in data set\n",
    "def get_percentages(dataframe,yearx,yeary):\n",
    "    dataframe['spd_%_'+str(yearx)]=dataframe.SPD_x/dataframe['Gültige Stimmen_x']*100\n",
    "    dataframe['spd_%_'+str(yeary)]=dataframe.SPD_y/dataframe['Gültige Stimmen_y']*100\n",
    "    dataframe['cdu_%_'+str(yearx)]=dataframe.CDU_x/dataframe['Gültige Stimmen_x']*100\n",
    "    dataframe['cdu_%_'+str(yeary)]=dataframe.CDU_y/dataframe['Gültige Stimmen_y']*100\n",
    "    dataframe['fdp_%_'+str(yearx)]=dataframe.FDP_x/dataframe['Gültige Stimmen_x']*100\n",
    "    dataframe['fdp_%_'+str(yeary)]=dataframe.FDP_y/dataframe['Gültige Stimmen_y']*100\n",
    "    dataframe['afd_%_'+str(yearx)]=dataframe.AfD_x/dataframe['Gültige Stimmen_x']*100\n",
    "    dataframe['afd_%_'+str(yeary)]=dataframe.AfD_y/dataframe['Gültige Stimmen_y']*100\n",
    "    dataframe['greens_%_'+str(yearx)]=dataframe['GRÜNE_x']/dataframe['Gültige Stimmen_x']*100\n",
    "    dataframe['greens_%_'+str(yeary)]=dataframe['GRÜNE_y']/dataframe['Gültige Stimmen_y']*100\n",
    "    dataframe['lefts_%_'+str(yearx)]=dataframe['DIE LINKE_x']/dataframe['Gültige Stimmen_x']*100\n",
    "    dataframe['lefts_%_'+str(yeary)]=dataframe['DIE LINKE_y']/dataframe['Gültige Stimmen_y']*100\n",
    "    return dataframe"
   ]
  },
  {
   "cell_type": "code",
   "execution_count": 128,
   "id": "c065b283",
   "metadata": {},
   "outputs": [
    {
     "name": "stderr",
     "output_type": "stream",
     "text": [
      "/tmp/ipykernel_11291/3842510083.py:3: SettingWithCopyWarning: \n",
      "A value is trying to be set on a copy of a slice from a DataFrame.\n",
      "Try using .loc[row_indexer,col_indexer] = value instead\n",
      "\n",
      "See the caveats in the documentation: https://pandas.pydata.org/pandas-docs/stable/user_guide/indexing.html#returning-a-view-versus-a-copy\n",
      "  dataframe['spd_%_'+str(yearx)]=dataframe.SPD_x/dataframe['Gültige Stimmen_x']*100\n",
      "/tmp/ipykernel_11291/3842510083.py:4: SettingWithCopyWarning: \n",
      "A value is trying to be set on a copy of a slice from a DataFrame.\n",
      "Try using .loc[row_indexer,col_indexer] = value instead\n",
      "\n",
      "See the caveats in the documentation: https://pandas.pydata.org/pandas-docs/stable/user_guide/indexing.html#returning-a-view-versus-a-copy\n",
      "  dataframe['spd_%_'+str(yeary)]=dataframe.SPD_y/dataframe['Gültige Stimmen_y']*100\n",
      "/tmp/ipykernel_11291/3842510083.py:5: SettingWithCopyWarning: \n",
      "A value is trying to be set on a copy of a slice from a DataFrame.\n",
      "Try using .loc[row_indexer,col_indexer] = value instead\n",
      "\n",
      "See the caveats in the documentation: https://pandas.pydata.org/pandas-docs/stable/user_guide/indexing.html#returning-a-view-versus-a-copy\n",
      "  dataframe['cdu_%_'+str(yearx)]=dataframe.CDU_x/dataframe['Gültige Stimmen_x']*100\n",
      "/tmp/ipykernel_11291/3842510083.py:6: SettingWithCopyWarning: \n",
      "A value is trying to be set on a copy of a slice from a DataFrame.\n",
      "Try using .loc[row_indexer,col_indexer] = value instead\n",
      "\n",
      "See the caveats in the documentation: https://pandas.pydata.org/pandas-docs/stable/user_guide/indexing.html#returning-a-view-versus-a-copy\n",
      "  dataframe['cdu_%_'+str(yeary)]=dataframe.CDU_y/dataframe['Gültige Stimmen_y']*100\n",
      "/tmp/ipykernel_11291/3842510083.py:7: SettingWithCopyWarning: \n",
      "A value is trying to be set on a copy of a slice from a DataFrame.\n",
      "Try using .loc[row_indexer,col_indexer] = value instead\n",
      "\n",
      "See the caveats in the documentation: https://pandas.pydata.org/pandas-docs/stable/user_guide/indexing.html#returning-a-view-versus-a-copy\n",
      "  dataframe['fdp_%_'+str(yearx)]=dataframe.FDP_x/dataframe['Gültige Stimmen_x']*100\n",
      "/tmp/ipykernel_11291/3842510083.py:8: SettingWithCopyWarning: \n",
      "A value is trying to be set on a copy of a slice from a DataFrame.\n",
      "Try using .loc[row_indexer,col_indexer] = value instead\n",
      "\n",
      "See the caveats in the documentation: https://pandas.pydata.org/pandas-docs/stable/user_guide/indexing.html#returning-a-view-versus-a-copy\n",
      "  dataframe['fdp_%_'+str(yeary)]=dataframe.FDP_y/dataframe['Gültige Stimmen_y']*100\n",
      "/tmp/ipykernel_11291/3842510083.py:9: SettingWithCopyWarning: \n",
      "A value is trying to be set on a copy of a slice from a DataFrame.\n",
      "Try using .loc[row_indexer,col_indexer] = value instead\n",
      "\n",
      "See the caveats in the documentation: https://pandas.pydata.org/pandas-docs/stable/user_guide/indexing.html#returning-a-view-versus-a-copy\n",
      "  dataframe['afd_%_'+str(yearx)]=dataframe.AfD_x/dataframe['Gültige Stimmen_x']*100\n",
      "/tmp/ipykernel_11291/3842510083.py:10: SettingWithCopyWarning: \n",
      "A value is trying to be set on a copy of a slice from a DataFrame.\n",
      "Try using .loc[row_indexer,col_indexer] = value instead\n",
      "\n",
      "See the caveats in the documentation: https://pandas.pydata.org/pandas-docs/stable/user_guide/indexing.html#returning-a-view-versus-a-copy\n",
      "  dataframe['afd_%_'+str(yeary)]=dataframe.AfD_y/dataframe['Gültige Stimmen_y']*100\n",
      "/tmp/ipykernel_11291/3842510083.py:11: SettingWithCopyWarning: \n",
      "A value is trying to be set on a copy of a slice from a DataFrame.\n",
      "Try using .loc[row_indexer,col_indexer] = value instead\n",
      "\n",
      "See the caveats in the documentation: https://pandas.pydata.org/pandas-docs/stable/user_guide/indexing.html#returning-a-view-versus-a-copy\n",
      "  dataframe['greens_%_'+str(yearx)]=dataframe['GRÜNE_x']/dataframe['Gültige Stimmen_x']*100\n",
      "/tmp/ipykernel_11291/3842510083.py:12: SettingWithCopyWarning: \n",
      "A value is trying to be set on a copy of a slice from a DataFrame.\n",
      "Try using .loc[row_indexer,col_indexer] = value instead\n",
      "\n",
      "See the caveats in the documentation: https://pandas.pydata.org/pandas-docs/stable/user_guide/indexing.html#returning-a-view-versus-a-copy\n",
      "  dataframe['greens_%_'+str(yeary)]=dataframe['GRÜNE_y']/dataframe['Gültige Stimmen_y']*100\n",
      "/tmp/ipykernel_11291/3842510083.py:13: SettingWithCopyWarning: \n",
      "A value is trying to be set on a copy of a slice from a DataFrame.\n",
      "Try using .loc[row_indexer,col_indexer] = value instead\n",
      "\n",
      "See the caveats in the documentation: https://pandas.pydata.org/pandas-docs/stable/user_guide/indexing.html#returning-a-view-versus-a-copy\n",
      "  dataframe['lefts_%_'+str(yearx)]=dataframe['DIE LINKE_x']/dataframe['Gültige Stimmen_x']*100\n",
      "/tmp/ipykernel_11291/3842510083.py:14: SettingWithCopyWarning: \n",
      "A value is trying to be set on a copy of a slice from a DataFrame.\n",
      "Try using .loc[row_indexer,col_indexer] = value instead\n",
      "\n",
      "See the caveats in the documentation: https://pandas.pydata.org/pandas-docs/stable/user_guide/indexing.html#returning-a-view-versus-a-copy\n",
      "  dataframe['lefts_%_'+str(yeary)]=dataframe['DIE LINKE_y']/dataframe['Gültige Stimmen_y']*100\n"
     ]
    }
   ],
   "source": [
    "combined_district=get_percentages(combined_district,16, 21)\n",
    "cleaned=get_percentages(cleaned,16,21)"
   ]
  },
  {
   "cell_type": "code",
   "execution_count": 153,
   "id": "70564376",
   "metadata": {},
   "outputs": [
    {
     "name": "stdout",
     "output_type": "stream",
     "text": [
      "Index(['Bundestags-\\nwahlkreis_x', 'Wahlberechtigte insgesamt_x',\n",
      "       'Wahlberechtigte A1_x', 'Wahlberechtigte A2_x', 'Wahlberechtigte A3_x',\n",
      "       'Wähler', 'Wähler B1', 'Ungültige Stimmen_x', 'Gültige Stimmen_x',\n",
      "       'SPD_x', 'CDU_x', 'GRÜNE_x', 'DIE LINKE_x', 'PIRATEN_x', 'NPD_x',\n",
      "       'FDP_x', 'Tierschutzpartei_x', 'pro Deutschland', 'Die PARTEI_x', 'BIG',\n",
      "       'DKP_x', 'ödp', 'PSG', 'BüSo_x', 'B', 'DL', 'ALFA', 'Tierschutzallianz',\n",
      "       'AfD_x', 'DIE EINHEIT', 'DIE VIOLETTEN', 'Graue Panther_x',\n",
      "       'MENSCHLICHE WELT_x', 'MIETERPARTEI_x', 'Gesundheits-\\nforschung',\n",
      "       'Bundestags-\\nwahlkreis_y', 'Wahlberechtigte insgesamt_y',\n",
      "       'Wahlberechtigte A1_y', 'Wahlberechtigte A2_y', 'Wahlberechtigte A3_y',\n",
      "       'Wählende', 'Wählende B1', 'Gültige Stimmen_y', 'Ungültige Stimmen_y',\n",
      "       'SPD_y', 'CDU_y', 'GRÜNE_y', 'DIE LINKE_y', 'AfD_y', 'FDP_y',\n",
      "       'Die PARTEI_y', 'Tierschutzpartei_y', 'PIRATEN_y', 'Graue Panther_y',\n",
      "       'NPD_y', 'Gesundheitsforschung', 'LKR', 'DKP_y', 'SGP', 'BüSo_y',\n",
      "       'MENSCHLICHE WELT_y', 'B*', 'ÖDP', 'TIERSCHUTZ hier!', 'dieBasis',\n",
      "       'Bildet Berlin!', 'Deutsche Konservative', 'Die Grauen',\n",
      "       'Neue Demokraten', 'REP', 'du.', 'BÜNDNIS21', 'FREIE WÄHLER',\n",
      "       'Klimaliste Berlin', 'MIETERPARTEI_y', 'Die Humanisten',\n",
      "       'Team Todenhöfer', 'Volt', 'spd_%_16', 'spd_%_21', 'cdu_%_16',\n",
      "       'cdu_%_21', 'fdp_%_16', 'fdp_%_21', 'afd_%_16', 'afd_%_21',\n",
      "       'greens_%_16', 'greens_%_21', 'lefts_%_16', 'lefts_%_21'],\n",
      "      dtype='object')\n",
      "(77, 90)\n"
     ]
    }
   ],
   "source": [
    "print(combined_district.columns)\n",
    "cleaned_dis=combined_district.loc[combined_district['spd_%_21'].isnull()==False]\n",
    "print(cleaned_dis.shape)"
   ]
  },
  {
   "cell_type": "code",
   "execution_count": 62,
   "id": "d3ac27b6",
   "metadata": {},
   "outputs": [
    {
     "data": {
      "text/plain": [
       "Text(0, 0.5, 'party (2021)-party 2016 [%]')"
      ]
     },
     "execution_count": 62,
     "metadata": {},
     "output_type": "execute_result"
    },
    {
     "data": {
      "image/png": "[encoded data removed]",
      "text/plain": [
       "<Figure size 640x480 with 1 Axes>"
      ]
     },
     "metadata": {},
     "output_type": "display_data"
    }
   ],
   "source": [
    "plt.plot(combined_district['spd_%_16'],combined_district['spd_%_21']-combined_district['spd_%_16'],'o',ms=2,color='red',label='SPD')\n",
    "plt.plot(combined_district['cdu_%_16'],combined_district['cdu_%_21']-combined_district['cdu_%_16'],'o',ms=2,color='black',label='CDU') \n",
    "plt.plot(combined_district['fdp_%_16'],combined_district['fdp_%_21']-combined_district['fdp_%_16'],'o',ms=2,color='yellow',label='FDP') \n",
    "plt.plot(combined_district['afd_%_16'],combined_district['afd_%_21']-combined_district['afd_%_16'],'o',ms=2,color='blue',label='AfD')\n",
    "plt.plot(combined_district['greens_%_16'],combined_district['greens_%_21']-combined_district['greens_%_16'],'o',ms=2,color='green',label='Greens') \n",
    "plt.plot(combined_district['lefts_%_16'],combined_district['lefts_%_21']-combined_district['lefts_%_16'],'o',ms=2,color='magenta',label='Lefts') \n",
    "plt.legend(loc=\"best\")\n",
    "plt.xlabel(\"party 2016 [%]\")\n",
    "plt.ylabel(\"party (2021)-party 2016 [%]\")"
   ]
  },
  {
   "cell_type": "markdown",
   "id": "7bf0505c",
   "metadata": {},
   "source": [
    "Looking better now, at least some parties have a clear principle, SPD not.   Before it looked, see below"
   ]
  },
  {
   "cell_type": "code",
   "execution_count": 63,
   "id": "142d6c64",
   "metadata": {},
   "outputs": [
    {
     "data": {
      "text/plain": [
       "Text(0, 0.5, 'party (2021)-party 2016 [%]')"
      ]
     },
     "execution_count": 63,
     "metadata": {},
     "output_type": "execute_result"
    },
    {
     "data": {
      "image/png": "[encoded data removed]",
      "text/plain": [
       "<Figure size 640x480 with 1 Axes>"
      ]
     },
     "metadata": {},
     "output_type": "display_data"
    }
   ],
   "source": [
    "plt.plot(cleaned['spd_%_16'],cleaned['spd_%_21']-cleaned['spd_%_16'],'o',ms=1,color='red',label='SPD')\n",
    "plt.plot(cleaned['cdu_%_16'],cleaned['cdu_%_21']-cleaned['cdu_%_16'],'o',ms=1,color='black',label='CDU') \n",
    "#plt.plot(combined_district['fdp_%_16'],combined_district['fdp_%_21']-combined_district['fdp_%_16'],'o',ms=2,color='yellow',label='FDP') \n",
    "plt.plot(cleaned['afd_%_16'],cleaned['afd_%_21']-cleaned['afd_%_16'],'o',ms=1,color='blue',label='AfD')\n",
    "#plt.plot(combined_district['greens_%_16'],combined_district['greens_%_21']-combined_district['greens_%_16'],'o',ms=2,color='green',label='Greens') \n",
    "#plt.plot(combined_district['lefts_%_16'],combined_district['lefts_%_21']-combined_district['lefts_%_16'],'o',ms=2,color='magenta',label='Lefts') \n",
    "plt.legend(loc=\"best\")\n",
    "plt.xlabel(\"party 2016 [%]\")\n",
    "plt.ylabel(\"party (2021)-party 2016 [%]\")"
   ]
  },
  {
   "cell_type": "markdown",
   "id": "c3255d8e",
   "metadata": {},
   "source": [
    "Especially for the AfD which has a really tight election district relation, the relation is less tight on the district level. "
   ]
  },
  {
   "cell_type": "markdown",
   "id": "a8fc45f2",
   "metadata": {},
   "source": [
    "Now I combined the state election 2016 and the federal election in 2017 because they have more similar election district numbers. "
   ]
  },
  {
   "cell_type": "code",
   "execution_count": 64,
   "id": "d064905c",
   "metadata": {},
   "outputs": [
    {
     "name": "stdout",
     "output_type": "stream",
     "text": [
      "(2431, 96)\n",
      "(2432, 43)\n",
      "(2439, 54)\n"
     ]
    }
   ],
   "source": [
    "combined1617=elec16_vote2.merge(bw17_vote2,how='inner',left_on='Adresse',right_on='Adresse')\n",
    "print(combined1617.shape)\n",
    "print(elec16_vote2.shape)\n",
    "print(bw17_vote2.shape)"
   ]
  },
  {
   "cell_type": "code",
   "execution_count": 65,
   "id": "98358f44",
   "metadata": {},
   "outputs": [
    {
     "name": "stdout",
     "output_type": "stream",
     "text": [
      "0\n"
     ]
    }
   ],
   "source": [
    "nulls1617=combined1617.Bezirksnummer_y.isnull()\n",
    "print(sum(nulls1617))"
   ]
  },
  {
   "cell_type": "code",
   "execution_count": 66,
   "id": "7fe7acf7",
   "metadata": {},
   "outputs": [
    {
     "name": "stdout",
     "output_type": "stream",
     "text": [
      "Index(['Adresse', 'Stimmart_x', 'Bezirksnummer_x', 'Bezirksname_x',\n",
      "       'Wahlbezirk_x', 'Wahlbezirksart_x', 'Abgeordneten-\\nhauswahlkreis_x',\n",
      "       'Bundestags-\\nwahlkreis_x', 'Berlin\\nOstWest',\n",
      "       'Wahlberechtigte insgesamt_x', 'Wahlberechtigte A1_x',\n",
      "       'Wahlberechtigte A2_x', 'Wahlberechtigte A3_x', 'Wähler_x',\n",
      "       'Wähler B1_x', 'Ungültige Stimmen_x', 'Gültige Stimmen_x', 'SPD_x',\n",
      "       'CDU_x', 'GRÜNE_x', 'DIE LINKE_x', 'PIRATEN_x', 'NPD_x', 'FDP_x',\n",
      "       'Tierschutzpartei', 'pro Deutschland', 'Die PARTEI_x', 'BIG', 'DKP_x',\n",
      "       'ödp', 'PSG', 'BüSo_x', 'B', 'DL', 'ALFA', 'Tierschutzallianz', 'AfD_x',\n",
      "       'DIE EINHEIT', 'DIE VIOLETTEN', 'Graue Panther', 'MENSCHLICHE WELT_x',\n",
      "       'MIETERPARTEI_x', 'Gesundheits-\\nforschung_x', 'Stimmart_y',\n",
      "       'Bezirksnummer_y', 'Bezirksname_y', 'Wahlbezirk_y', 'Wahlbezirksart_y',\n",
      "       'Abgeordneten-\\nhauswahlkreis_y', 'Bundestags-\\nwahlkreis_y', 'OstWest',\n",
      "       'Wahlberechtigte insgesamt_y', 'Wahlberechtigte A1_y',\n",
      "       'Wahlberechtigte A2_y', 'Wahlberechtigte A3_y', 'Wähler_y',\n",
      "       'Wähler B1_y', 'Ungültige Stimmen_y', 'Gültige Stimmen_y', 'CDU_y',\n",
      "       'SPD_y', 'DIE LINKE_y', 'GRÜNE_y', 'AfD_y', 'PIRATEN_y', 'FDP_y',\n",
      "       'Die PARTEI_y', 'FREIE WÄHLER', 'ÖDP', 'BüSo_y', 'MLPD', 'SGP', 'B*',\n",
      "       'BGE', 'DiB', 'DKP_y', 'DM', 'Die Grauen', 'du.', 'MENSCHLICHE WELT_y',\n",
      "       'Gesundheits-\\nforschung_y', 'Tierschutz-\\npartei', 'V-Partei³',\n",
      "       'DIE FRAUEN', 'EB Für Dich im Bundestag', 'EB GROG',\n",
      "       'EB Grundeinkommen-für-alle.org 1', 'EB Grundeinkommen-für-alle.org 2',\n",
      "       'EB Ideengeber Mensch Natur Technik',\n",
      "       'EB LIBERAL NACHHALTIG SOZIAL WELTOFFEN',\n",
      "       'EB Den Menschen verpflichtet, keiner Partei!', 'MIETERPARTEI_y',\n",
      "       'NPD_y', 'EB', 'EB Parteifrei. Für die Menschen',\n",
      "       'EB parteifrei und bürgerbestimmt'],\n",
      "      dtype='object')\n"
     ]
    }
   ],
   "source": [
    "print(combined1617.columns)"
   ]
  },
  {
   "cell_type": "markdown",
   "id": "5ec52a21",
   "metadata": {},
   "source": [
    "Now getting the percentages for the machine learning. "
   ]
  },
  {
   "cell_type": "code",
   "execution_count": 67,
   "id": "efa73174",
   "metadata": {},
   "outputs": [],
   "source": [
    "combined1617=get_percentages(combined1617,16,17)"
   ]
  },
  {
   "cell_type": "code",
   "execution_count": 83,
   "id": "e265f23e",
   "metadata": {},
   "outputs": [
    {
     "name": "stdout",
     "output_type": "stream",
     "text": [
      "Index(['Adresse', 'Stimmart_x', 'Bezirksnummer_x', 'Bezirksname_x',\n",
      "       'Wahlbezirk_x', 'Wahlbezirksart_x', 'Abgeordneten-\\nhauswahlkreis_x',\n",
      "       'Bundestags-\\nwahlkreis_x', 'Berlin\\nOstWest',\n",
      "       'Wahlberechtigte insgesamt_x',\n",
      "       ...\n",
      "       'cdu_%_16', 'cdu_%_17', 'fdp_%_16', 'fdp_%_17', 'afd_%_16', 'afd_%_17',\n",
      "       'greens_%_16', 'greens_%_17', 'lefts_%_16', 'lefts_%_17'],\n",
      "      dtype='object', length=108)\n",
      "cdu_%_17\n",
      "0       27.918331\n",
      "1       26.435331\n",
      "2       27.374302\n",
      "3       23.335298\n",
      "4       23.667482\n",
      "          ...    \n",
      "2426    26.195426\n",
      "2427    30.964467\n",
      "2428    30.309278\n",
      "2429    35.994398\n",
      "2430    29.518072\n",
      "Name: cdu_%_17, Length: 2431, dtype: float64\n",
      "['spd_%_16', 'cdu_%_16', 'fdp_%_16', 'afd_%_16', 'greens_%_16', 'lefts_%_16']\n",
      "       spd_%_16   cdu_%_16   fdp_%_16   afd_%_16  greens_%_16  lefts_%_16\n",
      "0     20.257453  21.002710  11.788618   5.826558    20.731707   13.888889\n",
      "1     17.335611  17.933390  14.773698   8.283518    21.349274   16.225448\n",
      "2     18.022181  18.761553  10.536044   5.730129    27.264325   13.678373\n",
      "3     16.129032  14.784946  12.096774   5.376344    30.645161   13.978495\n",
      "4     18.975069  15.512465  12.257618   5.401662    28.531856   12.396122\n",
      "...         ...        ...        ...        ...          ...         ...\n",
      "2426  23.495146  24.660194   9.320388   9.126214    21.359223    5.048544\n",
      "2427  21.138211  31.544715  13.333333   9.593496    12.032520    6.016260\n",
      "2428  22.113503  30.136986  14.090020   9.197652    15.459883    5.870841\n",
      "2429  21.656977  32.267442  11.918605  13.372093    12.500000    3.052326\n",
      "2430  28.062016  25.116279   8.217054  11.937984    12.093023    5.581395\n",
      "\n",
      "[2431 rows x 6 columns]\n"
     ]
    }
   ],
   "source": [
    "#testing for the function below \n",
    "print(combined1617.columns)\n",
    "year1=16\n",
    "year2=17\n",
    "name=\"cdu\"\n",
    "string=name+\"_%_\"+str(year2)\n",
    "print(string)\n",
    "print(combined1617.loc[:,'cdu_%_17'])\n",
    "target=combined1617.loc[:,string]-combined1617.loc[:,name+\"_%_\"+str(year1)]\n",
    "names=['spd_%_','cdu_%_','fdp_%_','afd_%_','greens_%_','lefts_%_']\n",
    "for i in range(len(names)):\n",
    "    names[i]+=str(year1)\n",
    "print(names)    \n",
    "target2=combined1617.loc[:,names]\n",
    "print(target2)"
   ]
  },
  {
   "cell_type": "code",
   "execution_count": 145,
   "id": "851b4a24",
   "metadata": {},
   "outputs": [],
   "source": [
    "def get_scatter2(dataframe,name,year1,year2):\n",
    "    print(f\"party \"+name)\n",
    "    #select target\n",
    "    target=dataframe.loc[:,name+\"_%_\"+str(year2)]-dataframe.loc[:,name+\"_%_\"+str(year1)]\n",
    "    #select features\n",
    "    names=['spd_%_','cdu_%_','fdp_%_','afd_%_','greens_%_','lefts_%_']\n",
    "    for i in range(len(names)):\n",
    "        names[i]+=str(year1)\n",
    "    features=dataframe.loc[:,names]\n",
    "    feature_train,feature_test,target_train, target_test= train_test_split(features,target,train_size=0.50, shuffle=True, random_state=1)\n",
    "    print(feature_train.isnull().sum())    \n",
    "    print(feature_test.isnull().sum()) \n",
    "    print(target_train.isnull().sum())    \n",
    "    print(target_test.isnull().sum())     \n",
    "    reg2c=LinearRegression().fit(feature_train, target_train)\n",
    "    predli1te2c=reg2c.predict(feature_test)\n",
    "    predli1tr2c=reg2c.predict(feature_train)\n",
    "    reg2cx=XGBRegressor(subsample=1).fit(feature_train, target_train)#train gets worse but also test with subsample<1\n",
    "    predli1te2cx=reg2cx.predict(feature_test)\n",
    "    predli1tr2cx=reg2cx.predict(feature_train)\n",
    "    res=np.zeros((6))\n",
    "    res[0]=np.std(target_train)\n",
    "    res[1]=np.std(target_test)\n",
    "    res[2]=np.std(predli1tr2c-target_train)\n",
    "    res[3]=np.std(predli1te2c-target_test)\n",
    "    res[4]=np.std(predli1tr2cx-target_train)\n",
    "    res[5]=np.std(predli1te2cx-target_test)\n",
    "    print(f\"standard deviation of data (train) {round(res[0],4)} %\")\n",
    "    print(f\"standard deviation of data (test) {round(res[1],4)} %\")\n",
    "    print(f\"standard deviation of train-data (train) {round(res[2],4)} %\")\n",
    "    print(f\"standard deviation of prediction-data (test) {round(res[3],4)} %\")\n",
    "    print(f\"standard deviation of train-data (train) XGB {round(res[4],4)} %\")\n",
    "    print(f\"standard deviation of prediction-data (test) XGB {round(res[5],4)} %\") \n",
    "    return res"
   ]
  },
  {
   "cell_type": "code",
   "execution_count": 118,
   "id": "dea95993",
   "metadata": {},
   "outputs": [
    {
     "name": "stdout",
     "output_type": "stream",
     "text": [
      "party spd\n",
      "standard deviation of data (train) 2.6142 %\n",
      "standard deviation of data (test) 2.7378 %\n",
      "standard deviation of train-data (train) 2.0877 %\n",
      "standard deviation of prediction-data (test) 2.0549 %\n",
      "standard deviation of train-data (train) XGB 0.3019 %\n",
      "standard deviation of prediction-data (test) XGB 2.122 %\n"
     ]
    },
    {
     "data": {
      "text/plain": [
       "array([2.61419095, 2.73777123, 2.08765345, 2.05492357, 0.30187231,\n",
       "       2.12203029])"
      ]
     },
     "execution_count": 118,
     "metadata": {},
     "output_type": "execute_result"
    }
   ],
   "source": [
    "get_scatter2(combined1617,'spd',16,17)"
   ]
  },
  {
   "cell_type": "code",
   "execution_count": 103,
   "id": "65fd840a",
   "metadata": {},
   "outputs": [
    {
     "name": "stdout",
     "output_type": "stream",
     "text": [
      "party cdu\n",
      "standard deviation of data (train) 2.8415 %\n",
      "standard deviation of data (test) 2.7992 %\n",
      "standard deviation of train-data (train) 2.4697 %\n",
      "standard deviation of prediction-data (test) 2.3831 %\n",
      "standard deviation of train-data (train) XGB 0.3397 %\n",
      "standard deviation of prediction-data (test) XGB 2.4502 %\n"
     ]
    }
   ],
   "source": [
    "get_scatter2(combined1617,'cdu',16,17)"
   ]
  },
  {
   "cell_type": "code",
   "execution_count": 104,
   "id": "9401e704",
   "metadata": {},
   "outputs": [
    {
     "name": "stdout",
     "output_type": "stream",
     "text": [
      "party fdp\n",
      "standard deviation of data (train) 1.5629 %\n",
      "standard deviation of data (test) 1.5772 %\n",
      "standard deviation of train-data (train) 1.4611 %\n",
      "standard deviation of prediction-data (test) 1.4356 %\n",
      "standard deviation of train-data (train) XGB 0.234 %\n",
      "standard deviation of prediction-data (test) XGB 1.538 %\n"
     ]
    }
   ],
   "source": [
    "get_scatter2(combined1617,'fdp',16,17)"
   ]
  },
  {
   "cell_type": "code",
   "execution_count": 105,
   "id": "abcbed5e",
   "metadata": {},
   "outputs": [
    {
     "name": "stdout",
     "output_type": "stream",
     "text": [
      "party afd\n",
      "standard deviation of data (train) 1.9022 %\n",
      "standard deviation of data (test) 1.8648 %\n",
      "standard deviation of train-data (train) 1.6472 %\n",
      "standard deviation of prediction-data (test) 1.6821 %\n",
      "standard deviation of train-data (train) XGB 0.2537 %\n",
      "standard deviation of prediction-data (test) XGB 1.8393 %\n"
     ]
    }
   ],
   "source": [
    "get_scatter2(combined1617,'afd',16,17)"
   ]
  },
  {
   "cell_type": "code",
   "execution_count": 92,
   "id": "48820ee7",
   "metadata": {},
   "outputs": [
    {
     "name": "stdout",
     "output_type": "stream",
     "text": [
      "party greens\n",
      "standard deviation of data (train) 2.6707 %\n",
      "standard deviation of data (test) 3.0297 %\n",
      "standard deviation of train-data (train) 1.6791 %\n",
      "standard deviation of prediction-data (test) 1.7494 %\n",
      "standard deviation of train-data (train) XGB 0.212 %\n",
      "standard deviation of prediction-data (test) XGB 1.9501 %\n"
     ]
    }
   ],
   "source": [
    "get_scatter2(combined1617,'greens',16,17)"
   ]
  },
  {
   "cell_type": "code",
   "execution_count": 93,
   "id": "2649feba",
   "metadata": {},
   "outputs": [
    {
     "name": "stdout",
     "output_type": "stream",
     "text": [
      "party lefts\n",
      "standard deviation of data (train) 2.5521 %\n",
      "standard deviation of data (test) 2.636 %\n",
      "standard deviation of train-data (train) 2.088 %\n",
      "standard deviation of prediction-data (test) 2.0999 %\n",
      "standard deviation of train-data (train) XGB 0.2959 %\n",
      "standard deviation of prediction-data (test) XGB 2.1894 %\n"
     ]
    }
   ],
   "source": [
    "get_scatter2(combined1617,'lefts',16,17)"
   ]
  },
  {
   "cell_type": "code",
   "execution_count": 95,
   "id": "c0bfdc22",
   "metadata": {},
   "outputs": [
    {
     "data": {
      "text/plain": [
       "Text(0, 0.5, 'party (2027)-party 2016 [%]')"
      ]
     },
     "execution_count": 95,
     "metadata": {},
     "output_type": "execute_result"
    },
    {
     "data": {
      "image/png": "[encoded data removed]",
      "text/plain": [
       "<Figure size 640x480 with 1 Axes>"
      ]
     },
     "metadata": {},
     "output_type": "display_data"
    }
   ],
   "source": [
    "plt.plot(combined1617['spd_%_16'],combined1617['spd_%_17']-combined1617['spd_%_16'],'o',ms=1,color='red',label='CDU')\n",
    "plt.plot(combined1617['cdu_%_16'],combined1617['cdu_%_17']-combined1617['cdu_%_16'],'o',ms=1,color='black',label='SPD')\n",
    "plt.plot(combined1617['afd_%_16'],combined1617['afd_%_17']-combined1617['afd_%_16'],'o',ms=1,color='blue',label='AfD')\n",
    "plt.legend(loc=\"best\")\n",
    "plt.xlabel(\"party 2016 [%]\")\n",
    "plt.ylabel(\"party (2027)-party 2016 [%]\")"
   ]
  },
  {
   "cell_type": "code",
   "execution_count": 106,
   "id": "362aea14",
   "metadata": {},
   "outputs": [
    {
     "name": "stderr",
     "output_type": "stream",
     "text": [
      "/tmp/ipykernel_11291/2617108343.py:1: FutureWarning: The default value of numeric_only in DataFrameGroupBy.sum is deprecated. In a future version, numeric_only will default to False. Either specify numeric_only or select only columns which should be valid for the function.\n",
      "  elec_district17=bw17_vote2.groupby([bw17_vote2['Bezirksnummer'],bw17_vote2['Abgeordneten-\\nhauswahlkreis']]).sum()\n"
     ]
    }
   ],
   "source": [
    "elec_district17=bw17_vote2.groupby([bw17_vote2['Bezirksnummer'],bw17_vote2['Abgeordneten-\\nhauswahlkreis']]).sum()"
   ]
  },
  {
   "cell_type": "code",
   "execution_count": 108,
   "id": "1973182c",
   "metadata": {},
   "outputs": [
    {
     "name": "stdout",
     "output_type": "stream",
     "text": [
      "(78, 47)\n"
     ]
    }
   ],
   "source": [
    "print(elec_district17.shape)"
   ]
  },
  {
   "cell_type": "code",
   "execution_count": 109,
   "id": "ea0fa3c0",
   "metadata": {},
   "outputs": [],
   "source": [
    "combined_district1617=elec_district16.merge(elec_district17,how='left',left_index=True,right_index=True)"
   ]
  },
  {
   "cell_type": "code",
   "execution_count": 113,
   "id": "c0736476",
   "metadata": {},
   "outputs": [
    {
     "name": "stdout",
     "output_type": "stream",
     "text": [
      "Index(['Bundestags-\\nwahlkreis_x', 'Wahlberechtigte insgesamt_x',\n",
      "       'Wahlberechtigte A1_x', 'Wahlberechtigte A2_x', 'Wahlberechtigte A3_x',\n",
      "       'Wähler_x', 'Wähler B1_x', 'Ungültige Stimmen_x', 'Gültige Stimmen_x',\n",
      "       'SPD_x', 'CDU_x', 'GRÜNE_x', 'DIE LINKE_x', 'PIRATEN_x', 'NPD_x',\n",
      "       'FDP_x', 'Tierschutzpartei', 'pro Deutschland', 'Die PARTEI_x', 'BIG',\n",
      "       'DKP_x', 'ödp', 'PSG', 'BüSo_x', 'B', 'DL', 'ALFA', 'Tierschutzallianz',\n",
      "       'AfD_x', 'DIE EINHEIT', 'DIE VIOLETTEN', 'Graue Panther',\n",
      "       'MENSCHLICHE WELT_x', 'MIETERPARTEI_x', 'Gesundheits-\\nforschung_x',\n",
      "       'Stimmart', 'Bundestags-\\nwahlkreis_y', 'Wahlberechtigte insgesamt_y',\n",
      "       'Wahlberechtigte A1_y', 'Wahlberechtigte A2_y', 'Wahlberechtigte A3_y',\n",
      "       'Wähler_y', 'Wähler B1_y', 'Ungültige Stimmen_y', 'Gültige Stimmen_y',\n",
      "       'CDU_y', 'SPD_y', 'DIE LINKE_y', 'GRÜNE_y', 'AfD_y', 'PIRATEN_y',\n",
      "       'FDP_y', 'Die PARTEI_y', 'FREIE WÄHLER', 'ÖDP', 'BüSo_y', 'MLPD', 'SGP',\n",
      "       'B*', 'BGE', 'DiB', 'DKP_y', 'DM', 'Die Grauen', 'du.',\n",
      "       'MENSCHLICHE WELT_y', 'Gesundheits-\\nforschung_y',\n",
      "       'Tierschutz-\\npartei', 'V-Partei³', 'DIE FRAUEN',\n",
      "       'EB Für Dich im Bundestag', 'EB GROG',\n",
      "       'EB Grundeinkommen-für-alle.org 1', 'EB Grundeinkommen-für-alle.org 2',\n",
      "       'EB Ideengeber Mensch Natur Technik',\n",
      "       'EB LIBERAL NACHHALTIG SOZIAL WELTOFFEN',\n",
      "       'EB Den Menschen verpflichtet, keiner Partei!', 'MIETERPARTEI_y',\n",
      "       'NPD_y', 'EB', 'EB Parteifrei. Für die Menschen',\n",
      "       'EB parteifrei und bürgerbestimmt', 'spd_%_16', 'spd_%_17', 'cdu_%_16',\n",
      "       'cdu_%_17', 'fdp_%_16', 'fdp_%_17', 'afd_%_16', 'afd_%_17',\n",
      "       'greens_%_16', 'greens_%_17', 'lefts_%_16', 'lefts_%_17'],\n",
      "      dtype='object')\n"
     ]
    }
   ],
   "source": [
    "combined_district1617=get_percentages(combined_district1617,16, 17)\n",
    "print(combined_district1617.columns)"
   ]
  },
  {
   "cell_type": "code",
   "execution_count": 114,
   "id": "9e0a5b9c",
   "metadata": {},
   "outputs": [
    {
     "data": {
      "text/plain": [
       "Text(0, 0.5, 'party (2017)-party 2016 [%]')"
      ]
     },
     "execution_count": 114,
     "metadata": {},
     "output_type": "execute_result"
    },
    {
     "data": {
      "image/png": "[encoded data removed]",
      "text/plain": [
       "<Figure size 640x480 with 1 Axes>"
      ]
     },
     "metadata": {},
     "output_type": "display_data"
    }
   ],
   "source": [
    "plt.plot(combined_district1617['spd_%_16'],combined_district1617['spd_%_17']-combined_district1617['spd_%_16'],'o',ms=2,color='red',label='SPD')\n",
    "plt.plot(combined_district1617['cdu_%_16'],combined_district1617['cdu_%_17']-combined_district1617['cdu_%_16'],'o',ms=2,color='black',label='CDU') \n",
    "plt.plot(combined_district1617['fdp_%_16'],combined_district1617['fdp_%_17']-combined_district1617['fdp_%_16'],'o',ms=2,color='yellow',label='FDP') \n",
    "plt.plot(combined_district1617['afd_%_16'],combined_district1617['afd_%_17']-combined_district1617['afd_%_16'],'o',ms=2,color='blue',label='AfD')\n",
    "plt.plot(combined_district1617['greens_%_16'],combined_district1617['greens_%_17']-combined_district1617['greens_%_16'],'o',ms=2,color='green',label='Greens') \n",
    "plt.plot(combined_district1617['lefts_%_16'],combined_district1617['lefts_%_17']-combined_district1617['lefts_%_16'],'o',ms=2,color='magenta',label='Lefts') \n",
    "plt.legend(loc=\"best\")\n",
    "plt.xlabel(\"party 2016 [%]\")\n",
    "plt.ylabel(\"party (2017)-party 2016 [%]\")"
   ]
  },
  {
   "cell_type": "code",
   "execution_count": 115,
   "id": "39ffc86a",
   "metadata": {},
   "outputs": [
    {
     "name": "stdout",
     "output_type": "stream",
     "text": [
      "party spd\n",
      "standard deviation of data (train) 1.3713 %\n",
      "standard deviation of data (test) 1.3367 %\n",
      "standard deviation of train-data (train) 0.7847 %\n",
      "standard deviation of prediction-data (test) 0.8064 %\n",
      "standard deviation of train-data (train) XGB 0.0007 %\n",
      "standard deviation of prediction-data (test) XGB 1.0776 %\n"
     ]
    }
   ],
   "source": [
    "get_scatter2(combined_district1617,'spd',16,17)"
   ]
  },
  {
   "cell_type": "code",
   "execution_count": 121,
   "id": "61dd09e5",
   "metadata": {},
   "outputs": [
    {
     "name": "stdout",
     "output_type": "stream",
     "text": [
      "party spd\n",
      "standard deviation of data (train) 1.3713 %\n",
      "standard deviation of data (test) 1.3367 %\n",
      "standard deviation of train-data (train) 0.7847 %\n",
      "standard deviation of prediction-data (test) 0.8064 %\n",
      "standard deviation of train-data (train) XGB 0.0007 %\n",
      "standard deviation of prediction-data (test) XGB 1.0776 %\n",
      "party spd\n",
      "standard deviation of data (train) 2.6142 %\n",
      "standard deviation of data (test) 2.7378 %\n",
      "standard deviation of train-data (train) 2.0877 %\n",
      "standard deviation of prediction-data (test) 2.0549 %\n",
      "standard deviation of train-data (train) XGB 0.3019 %\n",
      "standard deviation of prediction-data (test) XGB 2.122 %\n",
      "party cdu\n",
      "standard deviation of data (train) 1.7855 %\n",
      "standard deviation of data (test) 1.4808 %\n",
      "standard deviation of train-data (train) 1.0293 %\n",
      "standard deviation of prediction-data (test) 1.0179 %\n",
      "standard deviation of train-data (train) XGB 0.0008 %\n",
      "standard deviation of prediction-data (test) XGB 1.5297 %\n",
      "party cdu\n",
      "standard deviation of data (train) 2.8415 %\n",
      "standard deviation of data (test) 2.7992 %\n",
      "standard deviation of train-data (train) 2.4697 %\n",
      "standard deviation of prediction-data (test) 2.3831 %\n",
      "standard deviation of train-data (train) XGB 0.3397 %\n",
      "standard deviation of prediction-data (test) XGB 2.4502 %\n",
      "party fdp\n",
      "standard deviation of data (train) 0.5955 %\n",
      "standard deviation of data (test) 0.5043 %\n",
      "standard deviation of train-data (train) 0.3251 %\n",
      "standard deviation of prediction-data (test) 0.4597 %\n",
      "standard deviation of train-data (train) XGB 0.0006 %\n",
      "standard deviation of prediction-data (test) XGB 0.5636 %\n",
      "party fdp\n",
      "standard deviation of data (train) 1.5629 %\n",
      "standard deviation of data (test) 1.5772 %\n",
      "standard deviation of train-data (train) 1.4611 %\n",
      "standard deviation of prediction-data (test) 1.4356 %\n",
      "standard deviation of train-data (train) XGB 0.234 %\n",
      "standard deviation of prediction-data (test) XGB 1.538 %\n",
      "party afd\n",
      "standard deviation of data (train) 0.8648 %\n",
      "standard deviation of data (test) 0.6782 %\n",
      "standard deviation of train-data (train) 0.4589 %\n",
      "standard deviation of prediction-data (test) 0.4294 %\n",
      "standard deviation of train-data (train) XGB 0.0008 %\n",
      "standard deviation of prediction-data (test) XGB 0.5677 %\n",
      "party afd\n",
      "standard deviation of data (train) 1.9022 %\n",
      "standard deviation of data (test) 1.8648 %\n",
      "standard deviation of train-data (train) 1.6472 %\n",
      "standard deviation of prediction-data (test) 1.6821 %\n",
      "standard deviation of train-data (train) XGB 0.2537 %\n",
      "standard deviation of prediction-data (test) XGB 1.8393 %\n",
      "party greens\n",
      "standard deviation of data (train) 2.1874 %\n",
      "standard deviation of data (test) 1.7881 %\n",
      "standard deviation of train-data (train) 0.4821 %\n",
      "standard deviation of prediction-data (test) 0.4672 %\n",
      "standard deviation of train-data (train) XGB 0.0007 %\n",
      "standard deviation of prediction-data (test) XGB 0.6103 %\n",
      "party greens\n",
      "standard deviation of data (train) 2.6707 %\n",
      "standard deviation of data (test) 3.0297 %\n",
      "standard deviation of train-data (train) 1.6791 %\n",
      "standard deviation of prediction-data (test) 1.7494 %\n",
      "standard deviation of train-data (train) XGB 0.212 %\n",
      "standard deviation of prediction-data (test) XGB 1.9501 %\n",
      "party lefts\n",
      "standard deviation of data (train) 1.5755 %\n",
      "standard deviation of data (test) 1.2112 %\n",
      "standard deviation of train-data (train) 0.8779 %\n",
      "standard deviation of prediction-data (test) 0.6002 %\n",
      "standard deviation of train-data (train) XGB 0.0008 %\n",
      "standard deviation of prediction-data (test) XGB 0.6014 %\n",
      "party lefts\n",
      "standard deviation of data (train) 2.5521 %\n",
      "standard deviation of data (test) 2.636 %\n",
      "standard deviation of train-data (train) 2.088 %\n",
      "standard deviation of prediction-data (test) 2.0999 %\n",
      "standard deviation of train-data (train) XGB 0.2959 %\n",
      "standard deviation of prediction-data (test) XGB 2.1894 %\n",
      "[[0.58756418 0.62674575 0.71355471 0.57565412 0.23879652 0.53042157]\n",
      " [0.77402958 0.86031004 0.92252775 0.88382126 0.60144623 0.80720364]]\n"
     ]
    }
   ],
   "source": [
    "parties=['spd','cdu','fdp','afd','greens','lefts']\n",
    "res2=np.zeros((2,6))\n",
    "for i in range(len(parties)):\n",
    "    res=get_scatter2(combined_district1617,parties[i],16,17)\n",
    "    res2[0,i]=(res[2]+res[3])/(res[0]+res[1])\n",
    "    resb=get_scatter2(combined1617,parties[i],16,17)\n",
    "    res2[1,i]=(resb[2]+resb[3])/(resb[0]+resb[1])\n",
    "print(res2)    "
   ]
  },
  {
   "cell_type": "markdown",
   "id": "8b2a3216",
   "metadata": {},
   "source": [
    "For election district improvement is 8 to 23 % while it is 29 to 76% for the full districts. "
   ]
  },
  {
   "cell_type": "code",
   "execution_count": null,
   "id": "3629265f",
   "metadata": {},
   "outputs": [],
   "source": [
    "Looks similar to before. Quantify. "
   ]
  },
  {
   "cell_type": "code",
   "execution_count": 155,
   "id": "4fb7a5cf",
   "metadata": {},
   "outputs": [
    {
     "name": "stdout",
     "output_type": "stream",
     "text": [
      "party spd\n",
      "spd_%_16       0\n",
      "cdu_%_16       0\n",
      "fdp_%_16       0\n",
      "afd_%_16       0\n",
      "greens_%_16    0\n",
      "lefts_%_16     0\n",
      "dtype: int64\n",
      "spd_%_16       0\n",
      "cdu_%_16       0\n",
      "fdp_%_16       0\n",
      "afd_%_16       0\n",
      "greens_%_16    0\n",
      "lefts_%_16     0\n",
      "dtype: int64\n",
      "0\n",
      "0\n",
      "standard deviation of data (train) 3.3534 %\n",
      "standard deviation of data (test) 2.4838 %\n",
      "standard deviation of train-data (train) 2.3423 %\n",
      "standard deviation of prediction-data (test) 1.8436 %\n",
      "standard deviation of train-data (train) XGB 0.0007 %\n",
      "standard deviation of prediction-data (test) XGB 1.4763 %\n",
      "party spd\n",
      "spd_%_16       0\n",
      "cdu_%_16       0\n",
      "fdp_%_16       0\n",
      "afd_%_16       0\n",
      "greens_%_16    0\n",
      "lefts_%_16     0\n",
      "dtype: int64\n",
      "spd_%_16       0\n",
      "cdu_%_16       0\n",
      "fdp_%_16       0\n",
      "afd_%_16       0\n",
      "greens_%_16    0\n",
      "lefts_%_16     0\n",
      "dtype: int64\n",
      "0\n",
      "0\n",
      "standard deviation of data (train) 4.9951 %\n",
      "standard deviation of data (test) 4.8475 %\n",
      "standard deviation of train-data (train) 4.2165 %\n",
      "standard deviation of prediction-data (test) 4.0975 %\n",
      "standard deviation of train-data (train) XGB 0.6587 %\n",
      "standard deviation of prediction-data (test) XGB 4.2949 %\n",
      "party cdu\n",
      "spd_%_16       0\n",
      "cdu_%_16       0\n",
      "fdp_%_16       0\n",
      "afd_%_16       0\n",
      "greens_%_16    0\n",
      "lefts_%_16     0\n",
      "dtype: int64\n",
      "spd_%_16       0\n",
      "cdu_%_16       0\n",
      "fdp_%_16       0\n",
      "afd_%_16       0\n",
      "greens_%_16    0\n",
      "lefts_%_16     0\n",
      "dtype: int64\n",
      "0\n",
      "0\n",
      "standard deviation of data (train) 2.2091 %\n",
      "standard deviation of data (test) 1.9941 %\n",
      "standard deviation of train-data (train) 1.392 %\n",
      "standard deviation of prediction-data (test) 1.6509 %\n",
      "standard deviation of train-data (train) XGB 0.0007 %\n",
      "standard deviation of prediction-data (test) XGB 1.8693 %\n",
      "party cdu\n",
      "spd_%_16       0\n",
      "cdu_%_16       0\n",
      "fdp_%_16       0\n",
      "afd_%_16       0\n",
      "greens_%_16    0\n",
      "lefts_%_16     0\n",
      "dtype: int64\n",
      "spd_%_16       0\n",
      "cdu_%_16       0\n",
      "fdp_%_16       0\n",
      "afd_%_16       0\n",
      "greens_%_16    0\n",
      "lefts_%_16     0\n",
      "dtype: int64\n",
      "0\n",
      "0\n",
      "standard deviation of data (train) 4.6854 %\n",
      "standard deviation of data (test) 4.5053 %\n",
      "standard deviation of train-data (train) 4.3845 %\n",
      "standard deviation of prediction-data (test) 4.2106 %\n",
      "standard deviation of train-data (train) XGB 0.6046 %\n",
      "standard deviation of prediction-data (test) XGB 4.5819 %\n",
      "party fdp\n",
      "spd_%_16       0\n",
      "cdu_%_16       0\n",
      "fdp_%_16       0\n",
      "afd_%_16       0\n",
      "greens_%_16    0\n",
      "lefts_%_16     0\n",
      "dtype: int64\n",
      "spd_%_16       0\n",
      "cdu_%_16       0\n",
      "fdp_%_16       0\n",
      "afd_%_16       0\n",
      "greens_%_16    0\n",
      "lefts_%_16     0\n",
      "dtype: int64\n",
      "0\n",
      "0\n",
      "standard deviation of data (train) 1.5091 %\n",
      "standard deviation of data (test) 1.7686 %\n",
      "standard deviation of train-data (train) 0.6233 %\n",
      "standard deviation of prediction-data (test) 0.6396 %\n",
      "standard deviation of train-data (train) XGB 0.0009 %\n",
      "standard deviation of prediction-data (test) XGB 0.7299 %\n",
      "party fdp\n",
      "spd_%_16       0\n",
      "cdu_%_16       0\n",
      "fdp_%_16       0\n",
      "afd_%_16       0\n",
      "greens_%_16    0\n",
      "lefts_%_16     0\n",
      "dtype: int64\n",
      "spd_%_16       0\n",
      "cdu_%_16       0\n",
      "fdp_%_16       0\n",
      "afd_%_16       0\n",
      "greens_%_16    0\n",
      "lefts_%_16     0\n",
      "dtype: int64\n",
      "0\n",
      "0\n",
      "standard deviation of data (train) 2.9 %\n",
      "standard deviation of data (test) 2.7637 %\n",
      "standard deviation of train-data (train) 2.0895 %\n",
      "standard deviation of prediction-data (test) 2.0707 %\n",
      "standard deviation of train-data (train) XGB 0.2905 %\n",
      "standard deviation of prediction-data (test) XGB 2.2609 %\n",
      "party afd\n",
      "spd_%_16       0\n",
      "cdu_%_16       0\n",
      "fdp_%_16       0\n",
      "afd_%_16       0\n",
      "greens_%_16    0\n",
      "lefts_%_16     0\n",
      "dtype: int64\n",
      "spd_%_16       0\n",
      "cdu_%_16       0\n",
      "fdp_%_16       0\n",
      "afd_%_16       0\n",
      "greens_%_16    0\n",
      "lefts_%_16     0\n",
      "dtype: int64\n",
      "0\n",
      "0\n",
      "standard deviation of data (train) 1.869 %\n",
      "standard deviation of data (test) 1.6084 %\n",
      "standard deviation of train-data (train) 0.6191 %\n",
      "standard deviation of prediction-data (test) 0.6977 %\n",
      "standard deviation of train-data (train) XGB 0.0008 %\n",
      "standard deviation of prediction-data (test) XGB 0.7111 %\n",
      "party afd\n",
      "spd_%_16       0\n",
      "cdu_%_16       0\n",
      "fdp_%_16       0\n",
      "afd_%_16       0\n",
      "greens_%_16    0\n",
      "lefts_%_16     0\n",
      "dtype: int64\n",
      "spd_%_16       0\n",
      "cdu_%_16       0\n",
      "fdp_%_16       0\n",
      "afd_%_16       0\n",
      "greens_%_16    0\n",
      "lefts_%_16     0\n",
      "dtype: int64\n",
      "0\n",
      "0\n",
      "standard deviation of data (train) 3.6788 %\n",
      "standard deviation of data (test) 3.5955 %\n",
      "standard deviation of train-data (train) 3.1284 %\n",
      "standard deviation of prediction-data (test) 2.9395 %\n",
      "standard deviation of train-data (train) XGB 0.4142 %\n",
      "standard deviation of prediction-data (test) XGB 3.3087 %\n",
      "party greens\n",
      "spd_%_16       0\n",
      "cdu_%_16       0\n",
      "fdp_%_16       0\n",
      "afd_%_16       0\n",
      "greens_%_16    0\n",
      "lefts_%_16     0\n",
      "dtype: int64\n",
      "spd_%_16       0\n",
      "cdu_%_16       0\n",
      "fdp_%_16       0\n",
      "afd_%_16       0\n",
      "greens_%_16    0\n",
      "lefts_%_16     0\n",
      "dtype: int64\n",
      "0\n",
      "0\n",
      "standard deviation of data (train) 2.3402 %\n",
      "standard deviation of data (test) 1.5824 %\n",
      "standard deviation of train-data (train) 2.0767 %\n",
      "standard deviation of prediction-data (test) 1.3194 %\n",
      "standard deviation of train-data (train) XGB 0.0008 %\n",
      "standard deviation of prediction-data (test) XGB 1.3375 %\n",
      "party greens\n",
      "spd_%_16       0\n",
      "cdu_%_16       0\n",
      "fdp_%_16       0\n",
      "afd_%_16       0\n",
      "greens_%_16    0\n",
      "lefts_%_16     0\n",
      "dtype: int64\n",
      "spd_%_16       0\n",
      "cdu_%_16       0\n",
      "fdp_%_16       0\n",
      "afd_%_16       0\n",
      "greens_%_16    0\n",
      "lefts_%_16     0\n",
      "dtype: int64\n",
      "0\n",
      "0\n",
      "standard deviation of data (train) 5.7667 %\n",
      "standard deviation of data (test) 5.6388 %\n",
      "standard deviation of train-data (train) 5.5366 %\n",
      "standard deviation of prediction-data (test) 5.4037 %\n",
      "standard deviation of train-data (train) XGB 0.6981 %\n",
      "standard deviation of prediction-data (test) XGB 5.9192 %\n",
      "party lefts\n",
      "spd_%_16       0\n",
      "cdu_%_16       0\n",
      "fdp_%_16       0\n",
      "afd_%_16       0\n",
      "greens_%_16    0\n",
      "lefts_%_16     0\n",
      "dtype: int64\n",
      "spd_%_16       0\n",
      "cdu_%_16       0\n",
      "fdp_%_16       0\n",
      "afd_%_16       0\n",
      "greens_%_16    0\n",
      "lefts_%_16     0\n",
      "dtype: int64\n",
      "0\n",
      "0\n",
      "standard deviation of data (train) 2.8019 %\n",
      "standard deviation of data (test) 2.3777 %\n",
      "standard deviation of train-data (train) 0.9658 %\n",
      "standard deviation of prediction-data (test) 1.0308 %\n",
      "standard deviation of train-data (train) XGB 0.0008 %\n",
      "standard deviation of prediction-data (test) XGB 1.0109 %\n",
      "party lefts\n",
      "spd_%_16       0\n",
      "cdu_%_16       0\n",
      "fdp_%_16       0\n",
      "afd_%_16       0\n",
      "greens_%_16    0\n",
      "lefts_%_16     0\n",
      "dtype: int64\n",
      "spd_%_16       0\n",
      "cdu_%_16       0\n",
      "fdp_%_16       0\n",
      "afd_%_16       0\n",
      "greens_%_16    0\n",
      "lefts_%_16     0\n",
      "dtype: int64\n",
      "0\n",
      "0\n",
      "standard deviation of data (train) 4.7148 %\n",
      "standard deviation of data (test) 4.7748 %\n",
      "standard deviation of train-data (train) 3.565 %\n",
      "standard deviation of prediction-data (test) 3.5719 %\n",
      "standard deviation of train-data (train) XGB 0.4898 %\n",
      "standard deviation of prediction-data (test) XGB 3.8602 %\n",
      "[[0.71711095 0.72394064 0.38530087 0.37867345 0.8657839  0.38547073]\n",
      " [0.8447025  0.9351825  0.73452824 0.83415785 0.95921383 0.75207707]]\n"
     ]
    }
   ],
   "source": [
    "res3=np.zeros((2,6))\n",
    "for i in range(len(parties)):\n",
    "    res=get_scatter2(cleaned_dis,parties[i],16,21)\n",
    "    res3[0,i]=(res[2]+res[3])/(res[0]+res[1])\n",
    "    resb=get_scatter2(cleaned,parties[i],16,21)\n",
    "    res3[1,i]=(resb[2]+resb[3])/(resb[0]+resb[1])\n",
    "print(res3)   "
   ]
  },
  {
   "cell_type": "markdown",
   "id": "ed09cb45",
   "metadata": {},
   "source": [
    "Here on smallest units the improvment is 6 to 27% while it is 13 to 63% for the full districts. Thus, it is rather similar and not better as expected when the districts would be more similar. "
   ]
  },
  {
   "cell_type": "markdown",
   "id": "ba075aee",
   "metadata": {},
   "source": [
    "Thus I really need to understand teh districts and how they changed in size and origin."
   ]
  },
  {
   "cell_type": "markdown",
   "id": "2fe22987",
   "metadata": {},
   "source": [
    "Also getting better wqith XGBoost with less big data sources would also be good. "
   ]
  },
  {
   "cell_type": "code",
   "execution_count": null,
   "id": "ea37f385",
   "metadata": {},
   "outputs": [],
   "source": []
  }
 ],
 "metadata": {
  "kernelspec": {
   "display_name": "Python 3 (ipykernel)",
   "language": "python",
   "name": "python3"
  },
  "language_info": {
   "codemirror_mode": {
    "name": "ipython",
    "version": 3
   },
   "file_extension": ".py",
   "mimetype": "text/x-python",
   "name": "python",
   "nbconvert_exporter": "python",
   "pygments_lexer": "ipython3",
   "version": "3.8.15"
  }
 },
 "nbformat": 4,
 "nbformat_minor": 5
}

{
 "cells": [
  {
   "cell_type": "markdown",
   "id": "582a181c",
   "metadata": {},
   "source": [
    "I this notebook I use partial district information of the election 2021 to predict the full election results. I use the full results of 2016 to improve the results. "
   ]
  },
  {
   "cell_type": "code",
   "execution_count": 1,
   "id": "f83c714f",
   "metadata": {},
   "outputs": [],
   "source": [
    "import numpy as np\n",
    "import pandas as pd\n",
    "\n",
    "from matplotlib import pyplot as plt\n",
    "from matplotlib.pyplot import figure\n",
    "import seaborn as sns\n",
    "\n",
    "\n",
    "from sklearn.linear_model import LinearRegression\n",
    "from sklearn.linear_model import Lasso\n",
    "from sklearn.ensemble import RandomForestRegressor\n",
    "from xgboost import XGBRegressor\n",
    "\n",
    "from sklearn.model_selection import train_test_split"
   ]
  },
  {
   "cell_type": "markdown",
   "id": "795aa5c1",
   "metadata": {},
   "source": [
    "First I load the results of the two elections. In both the votes have two votes, the second vote is much more important and thus I concentrate on it. "
   ]
  },
  {
   "cell_type": "code",
   "execution_count": 2,
   "id": "0a935fa9",
   "metadata": {},
   "outputs": [
    {
     "name": "stdout",
     "output_type": "stream",
     "text": [
      "Index(['Adresse', 'Stimmart', 'Bezirksnummer', 'Bezirksname', 'Wahlbezirk',\n",
      "       'Wahlbezirksart', 'Abgeordneten-\\nhauswahlkreis',\n",
      "       'Bundestags-\\nwahlkreis', 'Berlin\\nOstWest',\n",
      "       'Wahlberechtigte insgesamt', 'Wahlberechtigte A1', 'Wahlberechtigte A2',\n",
      "       'Wahlberechtigte A3', 'Wähler', 'Wähler B1', 'Ungültige Stimmen',\n",
      "       'Gültige Stimmen', 'SPD', 'CDU', 'GRÜNE', 'DIE LINKE', 'PIRATEN', 'NPD',\n",
      "       'FDP', 'Tierschutzpartei', 'pro Deutschland', 'Die PARTEI', 'BIG',\n",
      "       'DKP', 'ödp', 'PSG', 'BüSo', 'B', 'DL', 'ALFA', 'Tierschutzallianz',\n",
      "       'AfD', 'DIE EINHEIT', 'DIE VIOLETTEN', 'Graue Panther',\n",
      "       'MENSCHLICHE WELT', 'MIETERPARTEI', 'Gesundheits-\\nforschung', 'EB 1',\n",
      "       'EB 2', 'EB 3', 'EB 4', 'EB 5', 'EB 6', 'EB 7', 'EB 8', 'EB 9', 'EB 10',\n",
      "       'EB 11', 'EB 12', 'EB 13', 'EB 14', 'EB 15', 'EB 16', 'EB 17', 'EB 18'],\n",
      "      dtype='object')\n",
      "Index(['Adresse', 'Stimmart', 'Bezirksnummer', 'Bezirksname', 'Wahlbezirk',\n",
      "       'Wahlbezirksart', 'Abgeordneten-\\nhauswahlkreis',\n",
      "       'Bundestags-\\nwahlkreis', 'Berlin\\nOstWest',\n",
      "       'Wahlberechtigte insgesamt', 'Wahlberechtigte A1', 'Wahlberechtigte A2',\n",
      "       'Wahlberechtigte A3', 'Wähler', 'Wähler B1', 'Ungültige Stimmen',\n",
      "       'Gültige Stimmen', 'SPD', 'CDU', 'GRÜNE', 'DIE LINKE', 'PIRATEN', 'NPD',\n",
      "       'FDP', 'Tierschutzpartei', 'pro Deutschland', 'Die PARTEI', 'BIG',\n",
      "       'DKP', 'ödp', 'PSG', 'BüSo', 'B', 'DL', 'ALFA', 'Tierschutzallianz',\n",
      "       'AfD', 'DIE EINHEIT', 'DIE VIOLETTEN', 'Graue Panther',\n",
      "       'MENSCHLICHE WELT', 'MIETERPARTEI', 'Gesundheits-\\nforschung'],\n",
      "      dtype='object')\n",
      "Index(['Stimmart', 'Adresse', 'Bezirksnummer', 'Bezirksname', 'Wahlbezirk',\n",
      "       'Wahlbezirksart', 'Briefwahlbezirk', 'Abgeordneten-\\nhauswahlkreis',\n",
      "       'Bundestags-\\nwahlkreis', 'OstWest', 'Wahlberechtigte insgesamt',\n",
      "       'Wahlberechtigte A1', 'Wahlberechtigte A2', 'Wahlberechtigte A3',\n",
      "       'Wählende', 'Wählende B1', 'Gültige Stimmen', 'Ungültige Stimmen',\n",
      "       'SPD', 'CDU', 'GRÜNE', 'DIE LINKE', 'AfD', 'FDP', 'Die PARTEI',\n",
      "       'Tierschutzpartei', 'PIRATEN', 'Graue Panther', 'NPD',\n",
      "       'Gesundheitsforschung', 'LKR', 'DKP', 'SGP', 'BüSo', 'MENSCHLICHE WELT',\n",
      "       'B*', 'ÖDP', 'TIERSCHUTZ hier!', 'dieBasis', 'Bildet Berlin!', 'DL',\n",
      "       'Deutsche Konservative', 'Die Grauen', 'Neue Demokraten', 'REP', 'du.',\n",
      "       'BÜNDNIS21', 'DIE FRAUEN', 'FREIE WÄHLER', 'Klimaliste Berlin', 'LD',\n",
      "       'MIETERPARTEI', 'Die Humanisten', 'Team Todenhöfer', 'Volt', 'EB',\n",
      "       'EB.1', 'EB.2', 'EB.3', 'EB.4', 'EB.5', 'EB.6', 'EB.7', 'EB.8', 'EB.9',\n",
      "       'EB.10', 'EB.11', 'aufn'],\n",
      "      dtype='object')\n",
      "Index(['Stimmart', 'Adresse', 'Bezirksnummer', 'Bezirksname', 'Wahlbezirk',\n",
      "       'Wahlbezirksart', 'Briefwahlbezirk', 'Abgeordneten-\\nhauswahlkreis',\n",
      "       'Bundestags-\\nwahlkreis', 'OstWest', 'Wahlberechtigte insgesamt',\n",
      "       'Wahlberechtigte A1', 'Wahlberechtigte A2', 'Wahlberechtigte A3',\n",
      "       'Wählende', 'Wählende B1', 'Gültige Stimmen', 'Ungültige Stimmen',\n",
      "       'SPD', 'CDU', 'GRÜNE', 'DIE LINKE', 'AfD', 'FDP', 'Die PARTEI',\n",
      "       'Tierschutzpartei', 'PIRATEN', 'Graue Panther', 'NPD',\n",
      "       'Gesundheitsforschung', 'LKR', 'DKP', 'SGP', 'BüSo', 'MENSCHLICHE WELT',\n",
      "       'B*', 'ÖDP', 'TIERSCHUTZ hier!', 'dieBasis', 'Bildet Berlin!',\n",
      "       'Deutsche Konservative', 'Die Grauen', 'Neue Demokraten', 'REP', 'du.',\n",
      "       'BÜNDNIS21', 'FREIE WÄHLER', 'Klimaliste Berlin', 'MIETERPARTEI',\n",
      "       'Die Humanisten', 'Team Todenhöfer', 'Volt', 'aufn'],\n",
      "      dtype='object')\n"
     ]
    }
   ],
   "source": [
    "elec16_vote1=pd.read_excel('DL_BE_EE_WB_AH2016.xlsx',sheet_name='Erststimme')\n",
    "print(elec16_vote1.columns)\n",
    "elec16_vote2=pd.read_excel('DL_BE_EE_WB_AH2016.xlsx',sheet_name='Zweitstimme')\n",
    "print(elec16_vote2.columns)\n",
    "elec21_vote1=pd.read_excel('DL_BE_AGHBVV2021.xlsx',sheet_name='AGH_W1')\n",
    "elec21_vote2=pd.read_excel('DL_BE_AGHBVV2021.xlsx',sheet_name='AGH_W2')\n",
    "print(elec21_vote1.columns)\n",
    "print(elec21_vote2.columns)"
   ]
  },
  {
   "cell_type": "code",
   "execution_count": null,
   "id": "47cab01c",
   "metadata": {},
   "outputs": [],
   "source": []
  },
  {
   "cell_type": "markdown",
   "id": "a25c960c",
   "metadata": {},
   "source": [
    "Now I merge the second vote of the two years using the keys."
   ]
  },
  {
   "cell_type": "code",
   "execution_count": 50,
   "id": "dc66e5c2",
   "metadata": {},
   "outputs": [],
   "source": [
    "combined=elec16_vote2.merge(elec21_vote2,how='left',left_on='Adresse',right_on='Adresse')"
   ]
  },
  {
   "cell_type": "raw",
   "id": "c1e2e3f1",
   "metadata": {},
   "source": [
    "As the next step I print basic properties, the shape and the new columns."
   ]
  },
  {
   "cell_type": "code",
   "execution_count": 51,
   "id": "79b314be",
   "metadata": {},
   "outputs": [
    {
     "name": "stdout",
     "output_type": "stream",
     "text": [
      "(2432, 95)\n",
      "(3764, 53)\n",
      "(2432, 43)\n",
      "Index(['Adresse', 'Stimmart_x', 'Bezirksnummer_x', 'Bezirksname_x',\n",
      "       'Wahlbezirk_x', 'Wahlbezirksart_x', 'Abgeordneten-\\nhauswahlkreis_x',\n",
      "       'Bundestags-\\nwahlkreis_x', 'Berlin\\nOstWest',\n",
      "       'Wahlberechtigte insgesamt_x', 'Wahlberechtigte A1_x',\n",
      "       'Wahlberechtigte A2_x', 'Wahlberechtigte A3_x', 'Wähler', 'Wähler B1',\n",
      "       'Ungültige Stimmen_x', 'Gültige Stimmen_x', 'SPD_x', 'CDU_x', 'GRÜNE_x',\n",
      "       'DIE LINKE_x', 'PIRATEN_x', 'NPD_x', 'FDP_x', 'Tierschutzpartei_x',\n",
      "       'pro Deutschland', 'Die PARTEI_x', 'BIG', 'DKP_x', 'ödp', 'PSG',\n",
      "       'BüSo_x', 'B', 'DL', 'ALFA', 'Tierschutzallianz', 'AfD_x',\n",
      "       'DIE EINHEIT', 'DIE VIOLETTEN', 'Graue Panther_x', 'MENSCHLICHE WELT_x',\n",
      "       'MIETERPARTEI_x', 'Gesundheits-\\nforschung', 'Stimmart_y',\n",
      "       'Bezirksnummer_y', 'Bezirksname_y', 'Wahlbezirk_y', 'Wahlbezirksart_y',\n",
      "       'Briefwahlbezirk', 'Abgeordneten-\\nhauswahlkreis_y',\n",
      "       'Bundestags-\\nwahlkreis_y', 'OstWest', 'Wahlberechtigte insgesamt_y',\n",
      "       'Wahlberechtigte A1_y', 'Wahlberechtigte A2_y', 'Wahlberechtigte A3_y',\n",
      "       'Wählende', 'Wählende B1', 'Gültige Stimmen_y', 'Ungültige Stimmen_y',\n",
      "       'SPD_y', 'CDU_y', 'GRÜNE_y', 'DIE LINKE_y', 'AfD_y', 'FDP_y',\n",
      "       'Die PARTEI_y', 'Tierschutzpartei_y', 'PIRATEN_y', 'Graue Panther_y',\n",
      "       'NPD_y', 'Gesundheitsforschung', 'LKR', 'DKP_y', 'SGP', 'BüSo_y',\n",
      "       'MENSCHLICHE WELT_y', 'B*', 'ÖDP', 'TIERSCHUTZ hier!', 'dieBasis',\n",
      "       'Bildet Berlin!', 'Deutsche Konservative', 'Die Grauen',\n",
      "       'Neue Demokraten', 'REP', 'du.', 'BÜNDNIS21', 'FREIE WÄHLER',\n",
      "       'Klimaliste Berlin', 'MIETERPARTEI_y', 'Die Humanisten',\n",
      "       'Team Todenhöfer', 'Volt', 'aufn'],\n",
      "      dtype='object')\n"
     ]
    }
   ],
   "source": [
    "print(combined.shape)\n",
    "print(elec21_vote2.shape)\n",
    "print(elec16_vote2.shape)\n",
    "print(combined.columns)"
   ]
  },
  {
   "cell_type": "markdown",
   "id": "2bceaf40",
   "metadata": {},
   "source": [
    "The number of rows is clearly different in the two tables. That means there is not always a perfect match which makes predictions more difficult. \n",
    "\n",
    "Below I print some prorties of these districts, to understand teh reasons ofr the missmacthes"
   ]
  },
  {
   "cell_type": "code",
   "execution_count": 52,
   "id": "c31aa464",
   "metadata": {},
   "outputs": [
    {
     "name": "stdout",
     "output_type": "stream",
     "text": [
      "Stimmart_x                            Zweitstimme\n",
      "Bezirksnummer_x                                 5\n",
      "Bezirksname_x                             Spandau\n",
      "Wahlbezirk_x                                   5I\n",
      "Wahlbezirksart_x                  Briefwahlbezirk\n",
      "Abgeordneten-\\nhauswahlkreis_x                  5\n",
      "Bundestags-\\nwahlkreis_x                       78\n",
      "Berlin\\nOstWest                                 W\n",
      "Wahlberechtigte insgesamt_x                     0\n",
      "Wahlberechtigte A1_x                            0\n",
      "Wahlberechtigte A2_x                            0\n",
      "Wahlberechtigte A3_x                            0\n",
      "Wähler                                        520\n",
      "Wähler B1                                     520\n",
      "Ungültige Stimmen_x                             3\n",
      "Gültige Stimmen_x                             516\n",
      "SPD_x                                          89\n",
      "Name: 946, dtype: object\n",
      "Stimmart_x                                Zweitstimme\n",
      "Bezirksnummer_x                                     6\n",
      "Bezirksname_x                     Steglitz-Zehlendorf\n",
      "Wahlbezirk_x                                       1I\n",
      "Wahlbezirksart_x                      Briefwahlbezirk\n",
      "Abgeordneten-\\nhauswahlkreis_x                      1\n",
      "Bundestags-\\nwahlkreis_x                           79\n",
      "Berlin\\nOstWest                                     W\n",
      "Wahlberechtigte insgesamt_x                         0\n",
      "Wahlberechtigte A1_x                                0\n",
      "Wahlberechtigte A2_x                                0\n",
      "Wahlberechtigte A3_x                                0\n",
      "Wähler                                            998\n",
      "Wähler B1                                         998\n",
      "Ungültige Stimmen_x                                 7\n",
      "Gültige Stimmen_x                                 991\n",
      "SPD_x                                             226\n",
      "Name: 1105, dtype: object\n",
      "Stimmart_x                                Zweitstimme\n",
      "Bezirksnummer_x                                     6\n",
      "Bezirksname_x                     Steglitz-Zehlendorf\n",
      "Wahlbezirk_x                                       2I\n",
      "Wahlbezirksart_x                      Briefwahlbezirk\n",
      "Abgeordneten-\\nhauswahlkreis_x                      2\n",
      "Bundestags-\\nwahlkreis_x                           79\n",
      "Berlin\\nOstWest                                     W\n",
      "Wahlberechtigte insgesamt_x                         0\n",
      "Wahlberechtigte A1_x                                0\n",
      "Wahlberechtigte A2_x                                0\n",
      "Wahlberechtigte A3_x                                0\n",
      "Wähler                                            795\n",
      "Wähler B1                                         795\n",
      "Ungültige Stimmen_x                                 2\n",
      "Gültige Stimmen_x                                 793\n",
      "SPD_x                                             185\n",
      "Name: 1114, dtype: object\n",
      "Stimmart_x                                Zweitstimme\n",
      "Bezirksnummer_x                                     6\n",
      "Bezirksname_x                     Steglitz-Zehlendorf\n",
      "Wahlbezirk_x                                       3I\n",
      "Wahlbezirksart_x                      Briefwahlbezirk\n",
      "Abgeordneten-\\nhauswahlkreis_x                      3\n",
      "Bundestags-\\nwahlkreis_x                           79\n",
      "Berlin\\nOstWest                                     W\n",
      "Wahlberechtigte insgesamt_x                         0\n",
      "Wahlberechtigte A1_x                                0\n",
      "Wahlberechtigte A2_x                                0\n",
      "Wahlberechtigte A3_x                                0\n",
      "Wähler                                           1153\n",
      "Wähler B1                                        1153\n",
      "Ungültige Stimmen_x                                 9\n",
      "Gültige Stimmen_x                                1144\n",
      "SPD_x                                             211\n",
      "Name: 1123, dtype: object\n",
      "Stimmart_x                                Zweitstimme\n",
      "Bezirksnummer_x                                     6\n",
      "Bezirksname_x                     Steglitz-Zehlendorf\n",
      "Wahlbezirk_x                                       5I\n",
      "Wahlbezirksart_x                      Briefwahlbezirk\n",
      "Abgeordneten-\\nhauswahlkreis_x                      5\n",
      "Bundestags-\\nwahlkreis_x                           79\n",
      "Berlin\\nOstWest                                     W\n",
      "Wahlberechtigte insgesamt_x                         0\n",
      "Wahlberechtigte A1_x                                0\n",
      "Wahlberechtigte A2_x                                0\n",
      "Wahlberechtigte A3_x                                0\n",
      "Wähler                                            544\n",
      "Wähler B1                                         544\n",
      "Ungültige Stimmen_x                                 4\n",
      "Gültige Stimmen_x                                 540\n",
      "SPD_x                                             137\n",
      "Name: 1140, dtype: object\n",
      "Stimmart_x                                Zweitstimme\n",
      "Bezirksnummer_x                                     6\n",
      "Bezirksname_x                     Steglitz-Zehlendorf\n",
      "Wahlbezirk_x                                       6I\n",
      "Wahlbezirksart_x                      Briefwahlbezirk\n",
      "Abgeordneten-\\nhauswahlkreis_x                      6\n",
      "Bundestags-\\nwahlkreis_x                           79\n",
      "Berlin\\nOstWest                                     W\n",
      "Wahlberechtigte insgesamt_x                         0\n",
      "Wahlberechtigte A1_x                                0\n",
      "Wahlberechtigte A2_x                                0\n",
      "Wahlberechtigte A3_x                                0\n",
      "Wähler                                           1363\n",
      "Wähler B1                                        1363\n",
      "Ungültige Stimmen_x                                 4\n",
      "Gültige Stimmen_x                                1359\n",
      "SPD_x                                             145\n",
      "Name: 1149, dtype: object\n",
      "Stimmart_x                                Zweitstimme\n",
      "Bezirksnummer_x                                     6\n",
      "Bezirksname_x                     Steglitz-Zehlendorf\n",
      "Wahlbezirk_x                                       7I\n",
      "Wahlbezirksart_x                      Briefwahlbezirk\n",
      "Abgeordneten-\\nhauswahlkreis_x                      7\n",
      "Bundestags-\\nwahlkreis_x                           79\n",
      "Berlin\\nOstWest                                     W\n",
      "Wahlberechtigte insgesamt_x                         0\n",
      "Wahlberechtigte A1_x                                0\n",
      "Wahlberechtigte A2_x                                0\n",
      "Wahlberechtigte A3_x                                0\n",
      "Wähler                                            996\n",
      "Wähler B1                                         996\n",
      "Ungültige Stimmen_x                                 7\n",
      "Gültige Stimmen_x                                 989\n",
      "SPD_x                                             217\n",
      "Name: 1158, dtype: object\n",
      "Stimmart_x                            Zweitstimme\n",
      "Bezirksnummer_x                                 8\n",
      "Bezirksname_x                            Neukölln\n",
      "Wahlbezirk_x                                   7A\n",
      "Wahlbezirksart_x                  Briefwahlbezirk\n",
      "Abgeordneten-\\nhauswahlkreis_x                  7\n",
      "Bundestags-\\nwahlkreis_x                       82\n",
      "Berlin\\nOstWest                                 W\n",
      "Wahlberechtigte insgesamt_x                     0\n",
      "Wahlberechtigte A1_x                            0\n",
      "Wahlberechtigte A2_x                            0\n",
      "Wahlberechtigte A3_x                            0\n",
      "Wähler                                       1012\n",
      "Wähler B1                                    1012\n",
      "Ungültige Stimmen_x                            22\n",
      "Gültige Stimmen_x                             990\n",
      "SPD_x                                         248\n",
      "Name: 1507, dtype: object\n",
      "Stimmart_x                            Zweitstimme\n",
      "Bezirksnummer_x                                 8\n",
      "Bezirksname_x                            Neukölln\n",
      "Wahlbezirk_x                                   7B\n",
      "Wahlbezirksart_x                  Briefwahlbezirk\n",
      "Abgeordneten-\\nhauswahlkreis_x                  7\n",
      "Bundestags-\\nwahlkreis_x                       82\n",
      "Berlin\\nOstWest                                 W\n",
      "Wahlberechtigte insgesamt_x                     0\n",
      "Wahlberechtigte A1_x                            0\n",
      "Wahlberechtigte A2_x                            0\n",
      "Wahlberechtigte A3_x                            0\n",
      "Wähler                                        967\n",
      "Wähler B1                                     967\n",
      "Ungültige Stimmen_x                            13\n",
      "Gültige Stimmen_x                             954\n",
      "SPD_x                                         199\n",
      "Name: 1508, dtype: object\n",
      "Stimmart_x                            Zweitstimme\n",
      "Bezirksnummer_x                                 8\n",
      "Bezirksname_x                            Neukölln\n",
      "Wahlbezirk_x                                   7C\n",
      "Wahlbezirksart_x                  Briefwahlbezirk\n",
      "Abgeordneten-\\nhauswahlkreis_x                  7\n",
      "Bundestags-\\nwahlkreis_x                       82\n",
      "Berlin\\nOstWest                                 W\n",
      "Wahlberechtigte insgesamt_x                     0\n",
      "Wahlberechtigte A1_x                            0\n",
      "Wahlberechtigte A2_x                            0\n",
      "Wahlberechtigte A3_x                            0\n",
      "Wähler                                        918\n",
      "Wähler B1                                     918\n",
      "Ungültige Stimmen_x                             9\n",
      "Gültige Stimmen_x                             909\n",
      "SPD_x                                         215\n",
      "Name: 1509, dtype: object\n",
      "Stimmart_x                            Zweitstimme\n",
      "Bezirksnummer_x                                 8\n",
      "Bezirksname_x                            Neukölln\n",
      "Wahlbezirk_x                                   7D\n",
      "Wahlbezirksart_x                  Briefwahlbezirk\n",
      "Abgeordneten-\\nhauswahlkreis_x                  7\n",
      "Bundestags-\\nwahlkreis_x                       82\n",
      "Berlin\\nOstWest                                 W\n",
      "Wahlberechtigte insgesamt_x                     0\n",
      "Wahlberechtigte A1_x                            0\n",
      "Wahlberechtigte A2_x                            0\n",
      "Wahlberechtigte A3_x                            0\n",
      "Wähler                                        833\n",
      "Wähler B1                                     833\n",
      "Ungültige Stimmen_x                            16\n",
      "Gültige Stimmen_x                             817\n",
      "SPD_x                                         196\n",
      "Name: 1510, dtype: object\n",
      "Stimmart_x                            Zweitstimme\n",
      "Bezirksnummer_x                                 8\n",
      "Bezirksname_x                            Neukölln\n",
      "Wahlbezirk_x                                   7E\n",
      "Wahlbezirksart_x                  Briefwahlbezirk\n",
      "Abgeordneten-\\nhauswahlkreis_x                  7\n",
      "Bundestags-\\nwahlkreis_x                       82\n",
      "Berlin\\nOstWest                                 W\n",
      "Wahlberechtigte insgesamt_x                     0\n",
      "Wahlberechtigte A1_x                            0\n",
      "Wahlberechtigte A2_x                            0\n",
      "Wahlberechtigte A3_x                            0\n",
      "Wähler                                       1143\n",
      "Wähler B1                                    1143\n",
      "Ungültige Stimmen_x                            15\n",
      "Gültige Stimmen_x                            1128\n",
      "SPD_x                                         245\n",
      "Name: 1511, dtype: object\n",
      "Stimmart_x                            Zweitstimme\n",
      "Bezirksnummer_x                                 8\n",
      "Bezirksname_x                            Neukölln\n",
      "Wahlbezirk_x                                   7F\n",
      "Wahlbezirksart_x                  Briefwahlbezirk\n",
      "Abgeordneten-\\nhauswahlkreis_x                  7\n",
      "Bundestags-\\nwahlkreis_x                       82\n",
      "Berlin\\nOstWest                                 W\n",
      "Wahlberechtigte insgesamt_x                     0\n",
      "Wahlberechtigte A1_x                            0\n",
      "Wahlberechtigte A2_x                            0\n",
      "Wahlberechtigte A3_x                            0\n",
      "Wähler                                       1228\n",
      "Wähler B1                                    1228\n",
      "Ungültige Stimmen_x                            20\n",
      "Gültige Stimmen_x                            1206\n",
      "SPD_x                                         264\n",
      "Name: 1512, dtype: object\n",
      "Stimmart_x                            Zweitstimme\n",
      "Bezirksnummer_x                                 8\n",
      "Bezirksname_x                            Neukölln\n",
      "Wahlbezirk_x                                  701\n",
      "Wahlbezirksart_x                  Urnenwahlbezirk\n",
      "Abgeordneten-\\nhauswahlkreis_x                  7\n",
      "Bundestags-\\nwahlkreis_x                       82\n",
      "Berlin\\nOstWest                                 W\n",
      "Wahlberechtigte insgesamt_x                  1488\n",
      "Wahlberechtigte A1_x                         1101\n",
      "Wahlberechtigte A2_x                          387\n",
      "Wahlberechtigte A3_x                            0\n",
      "Wähler                                        744\n",
      "Wähler B1                                       3\n",
      "Ungültige Stimmen_x                            11\n",
      "Gültige Stimmen_x                             733\n",
      "SPD_x                                         185\n",
      "Name: 1649, dtype: object\n",
      "Stimmart_x                            Zweitstimme\n",
      "Bezirksnummer_x                                 8\n",
      "Bezirksname_x                            Neukölln\n",
      "Wahlbezirk_x                                  702\n",
      "Wahlbezirksart_x                  Urnenwahlbezirk\n",
      "Abgeordneten-\\nhauswahlkreis_x                  7\n",
      "Bundestags-\\nwahlkreis_x                       82\n",
      "Berlin\\nOstWest                                 W\n",
      "Wahlberechtigte insgesamt_x                  1442\n",
      "Wahlberechtigte A1_x                         1076\n",
      "Wahlberechtigte A2_x                          366\n",
      "Wahlberechtigte A3_x                            0\n",
      "Wähler                                        728\n",
      "Wähler B1                                       0\n",
      "Ungültige Stimmen_x                            13\n",
      "Gültige Stimmen_x                             715\n",
      "SPD_x                                         148\n",
      "Name: 1650, dtype: object\n",
      "Stimmart_x                            Zweitstimme\n",
      "Bezirksnummer_x                                 8\n",
      "Bezirksname_x                            Neukölln\n",
      "Wahlbezirk_x                                  703\n",
      "Wahlbezirksart_x                  Urnenwahlbezirk\n",
      "Abgeordneten-\\nhauswahlkreis_x                  7\n",
      "Bundestags-\\nwahlkreis_x                       82\n",
      "Berlin\\nOstWest                                 W\n",
      "Wahlberechtigte insgesamt_x                  1163\n",
      "Wahlberechtigte A1_x                          839\n",
      "Wahlberechtigte A2_x                          324\n",
      "Wahlberechtigte A3_x                            0\n",
      "Wähler                                        563\n",
      "Wähler B1                                       3\n",
      "Ungültige Stimmen_x                            23\n",
      "Gültige Stimmen_x                             540\n",
      "SPD_x                                         138\n",
      "Name: 1651, dtype: object\n",
      "Stimmart_x                            Zweitstimme\n",
      "Bezirksnummer_x                                 8\n",
      "Bezirksname_x                            Neukölln\n",
      "Wahlbezirk_x                                  704\n",
      "Wahlbezirksart_x                  Urnenwahlbezirk\n",
      "Abgeordneten-\\nhauswahlkreis_x                  7\n",
      "Bundestags-\\nwahlkreis_x                       82\n",
      "Berlin\\nOstWest                                 W\n",
      "Wahlberechtigte insgesamt_x                  1561\n",
      "Wahlberechtigte A1_x                         1197\n",
      "Wahlberechtigte A2_x                          364\n",
      "Wahlberechtigte A3_x                            0\n",
      "Wähler                                        805\n",
      "Wähler B1                                       4\n",
      "Ungültige Stimmen_x                            16\n",
      "Gültige Stimmen_x                             788\n",
      "SPD_x                                         199\n",
      "Name: 1652, dtype: object\n",
      "Stimmart_x                            Zweitstimme\n",
      "Bezirksnummer_x                                 8\n",
      "Bezirksname_x                            Neukölln\n",
      "Wahlbezirk_x                                  705\n",
      "Wahlbezirksart_x                  Urnenwahlbezirk\n",
      "Abgeordneten-\\nhauswahlkreis_x                  7\n",
      "Bundestags-\\nwahlkreis_x                       82\n",
      "Berlin\\nOstWest                                 W\n",
      "Wahlberechtigte insgesamt_x                  1267\n",
      "Wahlberechtigte A1_x                          977\n",
      "Wahlberechtigte A2_x                          290\n",
      "Wahlberechtigte A3_x                            0\n",
      "Wähler                                        739\n",
      "Wähler B1                                       5\n",
      "Ungültige Stimmen_x                            15\n",
      "Gültige Stimmen_x                             724\n",
      "SPD_x                                         184\n",
      "Name: 1653, dtype: object\n",
      "Stimmart_x                            Zweitstimme\n",
      "Bezirksnummer_x                                 8\n",
      "Bezirksname_x                            Neukölln\n",
      "Wahlbezirk_x                                  706\n",
      "Wahlbezirksart_x                  Urnenwahlbezirk\n",
      "Abgeordneten-\\nhauswahlkreis_x                  7\n",
      "Bundestags-\\nwahlkreis_x                       82\n",
      "Berlin\\nOstWest                                 W\n",
      "Wahlberechtigte insgesamt_x                  1539\n",
      "Wahlberechtigte A1_x                         1166\n",
      "Wahlberechtigte A2_x                          373\n",
      "Wahlberechtigte A3_x                            0\n",
      "Wähler                                        875\n",
      "Wähler B1                                       2\n",
      "Ungültige Stimmen_x                            17\n",
      "Gültige Stimmen_x                             858\n",
      "SPD_x                                         204\n",
      "Name: 1654, dtype: object\n",
      "Stimmart_x                            Zweitstimme\n",
      "Bezirksnummer_x                                 8\n",
      "Bezirksname_x                            Neukölln\n",
      "Wahlbezirk_x                                  707\n",
      "Wahlbezirksart_x                  Urnenwahlbezirk\n",
      "Abgeordneten-\\nhauswahlkreis_x                  7\n",
      "Bundestags-\\nwahlkreis_x                       82\n",
      "Berlin\\nOstWest                                 W\n",
      "Wahlberechtigte insgesamt_x                  1424\n",
      "Wahlberechtigte A1_x                         1071\n",
      "Wahlberechtigte A2_x                          353\n",
      "Wahlberechtigte A3_x                            0\n",
      "Wähler                                        666\n",
      "Wähler B1                                       8\n",
      "Ungültige Stimmen_x                            16\n",
      "Gültige Stimmen_x                             650\n",
      "SPD_x                                         168\n",
      "Name: 1655, dtype: object\n",
      "Stimmart_x                            Zweitstimme\n",
      "Bezirksnummer_x                                 8\n",
      "Bezirksname_x                            Neukölln\n",
      "Wahlbezirk_x                                  708\n",
      "Wahlbezirksart_x                  Urnenwahlbezirk\n",
      "Abgeordneten-\\nhauswahlkreis_x                  7\n",
      "Bundestags-\\nwahlkreis_x                       82\n",
      "Berlin\\nOstWest                                 W\n",
      "Wahlberechtigte insgesamt_x                  1398\n",
      "Wahlberechtigte A1_x                         1074\n",
      "Wahlberechtigte A2_x                          324\n",
      "Wahlberechtigte A3_x                            0\n",
      "Wähler                                        651\n",
      "Wähler B1                                       3\n",
      "Ungültige Stimmen_x                            14\n",
      "Gültige Stimmen_x                             637\n",
      "SPD_x                                         160\n",
      "Name: 1656, dtype: object\n",
      "Stimmart_x                            Zweitstimme\n",
      "Bezirksnummer_x                                 8\n",
      "Bezirksname_x                            Neukölln\n",
      "Wahlbezirk_x                                  709\n",
      "Wahlbezirksart_x                  Urnenwahlbezirk\n",
      "Abgeordneten-\\nhauswahlkreis_x                  7\n",
      "Bundestags-\\nwahlkreis_x                       82\n",
      "Berlin\\nOstWest                                 W\n",
      "Wahlberechtigte insgesamt_x                  1486\n",
      "Wahlberechtigte A1_x                         1161\n",
      "Wahlberechtigte A2_x                          325\n",
      "Wahlberechtigte A3_x                            0\n",
      "Wähler                                        737\n",
      "Wähler B1                                       1\n",
      "Ungültige Stimmen_x                            15\n",
      "Gültige Stimmen_x                             722\n",
      "SPD_x                                         211\n",
      "Name: 1657, dtype: object\n",
      "Stimmart_x                            Zweitstimme\n",
      "Bezirksnummer_x                                 8\n",
      "Bezirksname_x                            Neukölln\n",
      "Wahlbezirk_x                                  710\n",
      "Wahlbezirksart_x                  Urnenwahlbezirk\n",
      "Abgeordneten-\\nhauswahlkreis_x                  7\n",
      "Bundestags-\\nwahlkreis_x                       82\n",
      "Berlin\\nOstWest                                 W\n",
      "Wahlberechtigte insgesamt_x                  1474\n",
      "Wahlberechtigte A1_x                         1151\n",
      "Wahlberechtigte A2_x                          323\n",
      "Wahlberechtigte A3_x                            0\n",
      "Wähler                                        762\n",
      "Wähler B1                                       2\n",
      "Ungültige Stimmen_x                            25\n",
      "Gültige Stimmen_x                             737\n",
      "SPD_x                                         173\n",
      "Name: 1658, dtype: object\n",
      "Stimmart_x                            Zweitstimme\n",
      "Bezirksnummer_x                                 8\n",
      "Bezirksname_x                            Neukölln\n",
      "Wahlbezirk_x                                  711\n",
      "Wahlbezirksart_x                  Urnenwahlbezirk\n",
      "Abgeordneten-\\nhauswahlkreis_x                  7\n",
      "Bundestags-\\nwahlkreis_x                       82\n",
      "Berlin\\nOstWest                                 W\n",
      "Wahlberechtigte insgesamt_x                  1518\n",
      "Wahlberechtigte A1_x                         1267\n",
      "Wahlberechtigte A2_x                          251\n",
      "Wahlberechtigte A3_x                            0\n",
      "Wähler                                        773\n",
      "Wähler B1                                       3\n",
      "Ungültige Stimmen_x                            21\n",
      "Gültige Stimmen_x                             752\n",
      "SPD_x                                         215\n",
      "Name: 1659, dtype: object\n",
      "Stimmart_x                            Zweitstimme\n",
      "Bezirksnummer_x                                 8\n",
      "Bezirksname_x                            Neukölln\n",
      "Wahlbezirk_x                                  712\n",
      "Wahlbezirksart_x                  Urnenwahlbezirk\n",
      "Abgeordneten-\\nhauswahlkreis_x                  7\n",
      "Bundestags-\\nwahlkreis_x                       82\n",
      "Berlin\\nOstWest                                 W\n",
      "Wahlberechtigte insgesamt_x                  1535\n",
      "Wahlberechtigte A1_x                         1209\n",
      "Wahlberechtigte A2_x                          326\n",
      "Wahlberechtigte A3_x                            0\n",
      "Wähler                                        730\n",
      "Wähler B1                                       0\n",
      "Ungültige Stimmen_x                            14\n",
      "Gültige Stimmen_x                             715\n",
      "SPD_x                                         203\n",
      "Name: 1660, dtype: object\n",
      "Stimmart_x                            Zweitstimme\n",
      "Bezirksnummer_x                                 8\n",
      "Bezirksname_x                            Neukölln\n",
      "Wahlbezirk_x                                  713\n",
      "Wahlbezirksart_x                  Urnenwahlbezirk\n",
      "Abgeordneten-\\nhauswahlkreis_x                  7\n",
      "Bundestags-\\nwahlkreis_x                       82\n",
      "Berlin\\nOstWest                                 W\n",
      "Wahlberechtigte insgesamt_x                  1493\n",
      "Wahlberechtigte A1_x                         1074\n",
      "Wahlberechtigte A2_x                          419\n",
      "Wahlberechtigte A3_x                            0\n",
      "Wähler                                        736\n",
      "Wähler B1                                       5\n",
      "Ungültige Stimmen_x                            17\n",
      "Gültige Stimmen_x                             718\n",
      "SPD_x                                         190\n",
      "Name: 1661, dtype: object\n",
      "Stimmart_x                            Zweitstimme\n",
      "Bezirksnummer_x                                 8\n",
      "Bezirksname_x                            Neukölln\n",
      "Wahlbezirk_x                                  714\n",
      "Wahlbezirksart_x                  Urnenwahlbezirk\n",
      "Abgeordneten-\\nhauswahlkreis_x                  7\n",
      "Bundestags-\\nwahlkreis_x                       82\n",
      "Berlin\\nOstWest                                 W\n",
      "Wahlberechtigte insgesamt_x                  1420\n",
      "Wahlberechtigte A1_x                         1001\n",
      "Wahlberechtigte A2_x                          419\n",
      "Wahlberechtigte A3_x                            0\n",
      "Wähler                                        671\n",
      "Wähler B1                                       3\n",
      "Ungültige Stimmen_x                            17\n",
      "Gültige Stimmen_x                             654\n",
      "SPD_x                                         184\n",
      "Name: 1662, dtype: object\n",
      "Stimmart_x                            Zweitstimme\n",
      "Bezirksnummer_x                                 8\n",
      "Bezirksname_x                            Neukölln\n",
      "Wahlbezirk_x                                  715\n",
      "Wahlbezirksart_x                  Urnenwahlbezirk\n",
      "Abgeordneten-\\nhauswahlkreis_x                  7\n",
      "Bundestags-\\nwahlkreis_x                       82\n",
      "Berlin\\nOstWest                                 W\n",
      "Wahlberechtigte insgesamt_x                  1504\n",
      "Wahlberechtigte A1_x                         1134\n",
      "Wahlberechtigte A2_x                          370\n",
      "Wahlberechtigte A3_x                            0\n",
      "Wähler                                        851\n",
      "Wähler B1                                       4\n",
      "Ungültige Stimmen_x                            14\n",
      "Gültige Stimmen_x                             837\n",
      "SPD_x                                         224\n",
      "Name: 1663, dtype: object\n",
      "Stimmart_x                            Zweitstimme\n",
      "Bezirksnummer_x                                 8\n",
      "Bezirksname_x                            Neukölln\n",
      "Wahlbezirk_x                                  716\n",
      "Wahlbezirksart_x                  Urnenwahlbezirk\n",
      "Abgeordneten-\\nhauswahlkreis_x                  7\n",
      "Bundestags-\\nwahlkreis_x                       82\n",
      "Berlin\\nOstWest                                 W\n",
      "Wahlberechtigte insgesamt_x                  1632\n",
      "Wahlberechtigte A1_x                         1242\n",
      "Wahlberechtigte A2_x                          390\n",
      "Wahlberechtigte A3_x                            0\n",
      "Wähler                                        811\n",
      "Wähler B1                                       2\n",
      "Ungültige Stimmen_x                            27\n",
      "Gültige Stimmen_x                             784\n",
      "SPD_x                                         193\n",
      "Name: 1664, dtype: object\n",
      "Stimmart_x                            Zweitstimme\n",
      "Bezirksnummer_x                                 8\n",
      "Bezirksname_x                            Neukölln\n",
      "Wahlbezirk_x                                  717\n",
      "Wahlbezirksart_x                  Urnenwahlbezirk\n",
      "Abgeordneten-\\nhauswahlkreis_x                  7\n",
      "Bundestags-\\nwahlkreis_x                       82\n",
      "Berlin\\nOstWest                                 W\n",
      "Wahlberechtigte insgesamt_x                  1551\n",
      "Wahlberechtigte A1_x                         1261\n",
      "Wahlberechtigte A2_x                          290\n",
      "Wahlberechtigte A3_x                            0\n",
      "Wähler                                        821\n",
      "Wähler B1                                       2\n",
      "Ungültige Stimmen_x                            29\n",
      "Gültige Stimmen_x                             792\n",
      "SPD_x                                         177\n",
      "Name: 1665, dtype: object\n",
      "Stimmart_x                            Zweitstimme\n",
      "Bezirksnummer_x                                 8\n",
      "Bezirksname_x                            Neukölln\n",
      "Wahlbezirk_x                                  718\n",
      "Wahlbezirksart_x                  Urnenwahlbezirk\n",
      "Abgeordneten-\\nhauswahlkreis_x                  7\n",
      "Bundestags-\\nwahlkreis_x                       82\n",
      "Berlin\\nOstWest                                 W\n",
      "Wahlberechtigte insgesamt_x                  1662\n",
      "Wahlberechtigte A1_x                         1357\n",
      "Wahlberechtigte A2_x                          305\n",
      "Wahlberechtigte A3_x                            0\n",
      "Wähler                                        787\n",
      "Wähler B1                                       9\n",
      "Ungültige Stimmen_x                            23\n",
      "Gültige Stimmen_x                             764\n",
      "SPD_x                                         186\n",
      "Name: 1666, dtype: object\n",
      "Stimmart_x                            Zweitstimme\n",
      "Bezirksnummer_x                                 8\n",
      "Bezirksname_x                            Neukölln\n",
      "Wahlbezirk_x                                  719\n",
      "Wahlbezirksart_x                  Urnenwahlbezirk\n",
      "Abgeordneten-\\nhauswahlkreis_x                  7\n",
      "Bundestags-\\nwahlkreis_x                       82\n",
      "Berlin\\nOstWest                                 W\n",
      "Wahlberechtigte insgesamt_x                  1536\n",
      "Wahlberechtigte A1_x                         1170\n",
      "Wahlberechtigte A2_x                          366\n",
      "Wahlberechtigte A3_x                            0\n",
      "Wähler                                        719\n",
      "Wähler B1                                       1\n",
      "Ungültige Stimmen_x                            15\n",
      "Gültige Stimmen_x                             704\n",
      "SPD_x                                         206\n",
      "Name: 1667, dtype: object\n",
      "Stimmart_x                            Zweitstimme\n",
      "Bezirksnummer_x                                11\n",
      "Bezirksname_x                         Lichtenberg\n",
      "Wahlbezirk_x                                   2J\n",
      "Wahlbezirksart_x                  Briefwahlbezirk\n",
      "Abgeordneten-\\nhauswahlkreis_x                  2\n",
      "Bundestags-\\nwahlkreis_x                       86\n",
      "Berlin\\nOstWest                                 O\n",
      "Wahlberechtigte insgesamt_x                     0\n",
      "Wahlberechtigte A1_x                            0\n",
      "Wahlberechtigte A2_x                            0\n",
      "Wahlberechtigte A3_x                            0\n",
      "Wähler                                        578\n",
      "Wähler B1                                     578\n",
      "Ungültige Stimmen_x                             7\n",
      "Gültige Stimmen_x                             571\n",
      "SPD_x                                         109\n",
      "Name: 2017, dtype: object\n",
      "Stimmart_x                            Zweitstimme\n",
      "Bezirksnummer_x                                11\n",
      "Bezirksname_x                         Lichtenberg\n",
      "Wahlbezirk_x                                   3J\n",
      "Wahlbezirksart_x                  Briefwahlbezirk\n",
      "Abgeordneten-\\nhauswahlkreis_x                  3\n",
      "Bundestags-\\nwahlkreis_x                       86\n",
      "Berlin\\nOstWest                                 O\n",
      "Wahlberechtigte insgesamt_x                     0\n",
      "Wahlberechtigte A1_x                            0\n",
      "Wahlberechtigte A2_x                            0\n",
      "Wahlberechtigte A3_x                            0\n",
      "Wähler                                        411\n",
      "Wähler B1                                     411\n",
      "Ungültige Stimmen_x                            10\n",
      "Gültige Stimmen_x                             400\n",
      "SPD_x                                          97\n",
      "Name: 2027, dtype: object\n",
      "Stimmart_x                            Zweitstimme\n",
      "Bezirksnummer_x                                11\n",
      "Bezirksname_x                         Lichtenberg\n",
      "Wahlbezirk_x                                   4J\n",
      "Wahlbezirksart_x                  Briefwahlbezirk\n",
      "Abgeordneten-\\nhauswahlkreis_x                  4\n",
      "Bundestags-\\nwahlkreis_x                       86\n",
      "Berlin\\nOstWest                                 O\n",
      "Wahlberechtigte insgesamt_x                     0\n",
      "Wahlberechtigte A1_x                            0\n",
      "Wahlberechtigte A2_x                            0\n",
      "Wahlberechtigte A3_x                            0\n",
      "Wähler                                        510\n",
      "Wähler B1                                     510\n",
      "Ungültige Stimmen_x                             7\n",
      "Gültige Stimmen_x                             503\n",
      "SPD_x                                          88\n",
      "Name: 2038, dtype: object\n",
      "Stimmart_x                            Zweitstimme\n",
      "Bezirksnummer_x                                11\n",
      "Bezirksname_x                         Lichtenberg\n",
      "Wahlbezirk_x                                   5J\n",
      "Wahlbezirksart_x                  Briefwahlbezirk\n",
      "Abgeordneten-\\nhauswahlkreis_x                  5\n",
      "Bundestags-\\nwahlkreis_x                       86\n",
      "Berlin\\nOstWest                                 O\n",
      "Wahlberechtigte insgesamt_x                     0\n",
      "Wahlberechtigte A1_x                            0\n",
      "Wahlberechtigte A2_x                            0\n",
      "Wahlberechtigte A3_x                            0\n",
      "Wähler                                        611\n",
      "Wähler B1                                     611\n",
      "Ungültige Stimmen_x                             4\n",
      "Gültige Stimmen_x                             607\n",
      "SPD_x                                         114\n",
      "Name: 2048, dtype: object\n",
      "Stimmart_x                            Zweitstimme\n",
      "Bezirksnummer_x                                11\n",
      "Bezirksname_x                         Lichtenberg\n",
      "Wahlbezirk_x                                   6J\n",
      "Wahlbezirksart_x                  Briefwahlbezirk\n",
      "Abgeordneten-\\nhauswahlkreis_x                  6\n",
      "Bundestags-\\nwahlkreis_x                       86\n",
      "Berlin\\nOstWest                                 O\n",
      "Wahlberechtigte insgesamt_x                     0\n",
      "Wahlberechtigte A1_x                            0\n",
      "Wahlberechtigte A2_x                            0\n",
      "Wahlberechtigte A3_x                            0\n",
      "Wähler                                        440\n",
      "Wähler B1                                     440\n",
      "Ungültige Stimmen_x                             3\n",
      "Gültige Stimmen_x                             437\n",
      "SPD_x                                          95\n",
      "Name: 2058, dtype: object\n",
      "number of NULL 37\n",
      "difference in election districts1332\n"
     ]
    }
   ],
   "source": [
    "nulls=combined.Bezirksnummer_y.isnull()\n",
    "n_null=0\n",
    "for i in range(combined.shape[0]):\n",
    "    if nulls[i]==True:\n",
    "        print(combined.iloc[i,1:18])\n",
    "        n_null+=1\n",
    "print(f\"number of NULL {n_null}\")\n",
    "print(f\"difference in election districts{elec21_vote2.shape[0]-elec16_vote2.shape[0]}\") "
   ]
  },
  {
   "cell_type": "markdown",
   "id": "e7713ac5",
   "metadata": {},
   "source": [
    "There about as many nulls as there are more districts. Only 37 seem to have other reasons, thus the main reason is the larger number of districts in 2021. That clearly different number of districts could make predictions more difficult. "
   ]
  },
  {
   "cell_type": "markdown",
   "id": "23b08456",
   "metadata": {},
   "source": [
    "For now the problem is ignored by cleaning the NaN cases.\n",
    "\n"
   ]
  },
  {
   "cell_type": "code",
   "execution_count": 53,
   "id": "c193501d",
   "metadata": {},
   "outputs": [
    {
     "name": "stdout",
     "output_type": "stream",
     "text": [
      "(2395, 95)\n"
     ]
    }
   ],
   "source": [
    "cleaned=combined.loc[combined.Bezirksnummer_y.isnull()==False]\n",
    "print(cleaned.shape)"
   ]
  },
  {
   "cell_type": "markdown",
   "id": "d76038a8",
   "metadata": {},
   "source": [
    "\n",
    "\n",
    "As a first trial the percentage differnce is predicted as finction of the percentage.  We are starting with the SPD."
   ]
  },
  {
   "cell_type": "code",
   "execution_count": 59,
   "id": "ad37e593",
   "metadata": {},
   "outputs": [],
   "source": [
    "#needs 2 d rarray\n",
    "tar=cleaned.SPD_y/cleaned['Gültige Stimmen_y']*100-100*cleaned.SPD_x/cleaned['Gültige Stimmen_x']\n",
    "ser1=cleaned.SPD_y/cleaned['Gültige Stimmen_x']*100\n",
    "ser2=cleaned.CDU_y/cleaned['Gültige Stimmen_x']*100\n",
    "feat = pd.concat([ser1,ser2],axis=1)"
   ]
  },
  {
   "cell_type": "code",
   "execution_count": 60,
   "id": "4b2d9350",
   "metadata": {},
   "outputs": [],
   "source": [
    "\n",
    "\n",
    "\n",
    "feat_train,feat_test,tar_train, tar_test= train_test_split(feat,tar,train_size=0.50, shuffle=True, random_state=1)"
   ]
  },
  {
   "cell_type": "code",
   "execution_count": 61,
   "id": "af8a6a1e",
   "metadata": {},
   "outputs": [],
   "source": [
    "reg=LinearRegression().fit(feat_train, tar_train)"
   ]
  },
  {
   "cell_type": "code",
   "execution_count": 62,
   "id": "2456830a",
   "metadata": {},
   "outputs": [],
   "source": [
    "predli1te=reg.predict(feat_test)\n",
    "predli1tr=reg.predict(feat_train)"
   ]
  },
  {
   "cell_type": "code",
   "execution_count": 63,
   "id": "7346edc3",
   "metadata": {},
   "outputs": [
    {
     "name": "stdout",
     "output_type": "stream",
     "text": [
      "standard deviation of data (train) 4.9951 %\n",
      "standard deviation of data (test) 4.8475 %\n",
      "standard deviation of train-data (train) 4.7516 %\n",
      "standard deviation of prediction-data (test) 4.5602 %\n"
     ]
    }
   ],
   "source": [
    "print(f\"standard deviation of data (train) {round(np.std(tar_train),4)} %\")\n",
    "print(f\"standard deviation of data (test) {round(np.std(tar_test),4)} %\")\n",
    "print(f\"standard deviation of train-data (train) {round(np.std(predli1tr-tar_train),4)} %\")\n",
    "print(f\"standard deviation of prediction-data (test) {round(np.std(predli1te-tar_test),4)} %\")"
   ]
  },
  {
   "cell_type": "markdown",
   "id": "864ca520",
   "metadata": {},
   "source": [
    "The prediction is similar good in train and test, but both improve only by a little compared to having no prediction. Does not look good area missmatch or just not enough parameters."
   ]
  },
  {
   "cell_type": "code",
   "execution_count": 64,
   "id": "a7b65086",
   "metadata": {},
   "outputs": [
    {
     "data": {
      "text/plain": [
       "Text(0, 0.5, '% 2021-2016 (prediction-data)')"
      ]
     },
     "execution_count": 64,
     "metadata": {},
     "output_type": "execute_result"
    },
    {
     "data": {
      "image/png": "[encoded data removed]",
      "text/plain": [
       "<Figure size 640x480 with 1 Axes>"
      ]
     },
     "metadata": {},
     "output_type": "display_data"
    }
   ],
   "source": [
    "plt.plot(feat_train.iloc[:,0],predli1tr-tar_train,'o',ms=2,color='blue',label='train') \n",
    "plt.plot(feat_test.iloc[:,0],predli1te-tar_test,'o',ms=2,color='red',label='test') \n",
    "plt.legend(loc=\"best\")\n",
    "plt.xlabel(\"% of SPD in 2016\")\n",
    "plt.ylabel(\"% 2021-2016 (prediction-data)\")"
   ]
  },
  {
   "cell_type": "code",
   "execution_count": 65,
   "id": "f91d1f49",
   "metadata": {},
   "outputs": [],
   "source": [
    "regx=XGBRegressor().fit(feat_train, tar_train)"
   ]
  },
  {
   "cell_type": "markdown",
   "id": "046d66d3",
   "metadata": {},
   "source": [
    "Now I use as alternative XGBregressor."
   ]
  },
  {
   "cell_type": "code",
   "execution_count": 66,
   "id": "802a621e",
   "metadata": {},
   "outputs": [],
   "source": [
    "predli1tex=regx.predict(feat_test)\n",
    "predli1trx=regx.predict(feat_train)"
   ]
  },
  {
   "cell_type": "code",
   "execution_count": 67,
   "id": "327f0be1",
   "metadata": {},
   "outputs": [
    {
     "name": "stdout",
     "output_type": "stream",
     "text": [
      "standard deviation of test 5.3409 %\n",
      "standard deviation of train 1.6661 %\n"
     ]
    }
   ],
   "source": [
    "print(f\"standard deviation of test {round(np.std(predli1tex-tar_test),4)} %\")\n",
    "print(f\"standard deviation of train {round(np.std(predli1trx-tar_train),4)} %\")"
   ]
  },
  {
   "cell_type": "markdown",
   "id": "b1d17293",
   "metadata": {},
   "source": [
    "There is clear overfitting. "
   ]
  },
  {
   "cell_type": "markdown",
   "id": "53058693",
   "metadata": {},
   "source": [
    "Now I am adding more columns (parties) to the feature data. "
   ]
  },
  {
   "cell_type": "code",
   "execution_count": 68,
   "id": "4cdd9085",
   "metadata": {},
   "outputs": [
    {
     "name": "stdout",
     "output_type": "stream",
     "text": [
      "9.046068894163886 12.847811644332696\n"
     ]
    }
   ],
   "source": [
    "tar=cleaned.SPD_y/cleaned['Gültige Stimmen_y']*100-100*cleaned.SPD_x/cleaned['Gültige Stimmen_x']\n",
    "tarc=cleaned.CDU_y/cleaned['Gültige Stimmen_y']*100-100*cleaned.CDU_x/cleaned['Gültige Stimmen_x']\n",
    "tara=cleaned.AfD_y/cleaned['Gültige Stimmen_y']*100-100*cleaned.AfD_x/cleaned['Gültige Stimmen_x']\n",
    "tarf=cleaned.FDP_y/cleaned['Gültige Stimmen_y']*100-100*cleaned.FDP_x/cleaned['Gültige Stimmen_x']\n",
    "tarl=cleaned['DIE LINKE_y']/cleaned['Gültige Stimmen_y']*100-100*cleaned['DIE LINKE_x']/cleaned['Gültige Stimmen_x']\n",
    "targ=cleaned.GRÜNE_y/cleaned['Gültige Stimmen_y']*100-100*cleaned.GRÜNE_x/cleaned['Gültige Stimmen_x']\n",
    "ser1=cleaned.SPD_y/cleaned['Gültige Stimmen_y']*100\n",
    "ser2=cleaned.CDU_y/cleaned['Gültige Stimmen_y']*100\n",
    "ser3=cleaned.GRÜNE_y/cleaned['Gültige Stimmen_y']*100\n",
    "ser4=cleaned.FDP_y/cleaned['Gültige Stimmen_y']*100\n",
    "ser5=cleaned['DIE LINKE_y']/cleaned['Gültige Stimmen_y']*100\n",
    "ser6=cleaned.AfD_y/cleaned['Gültige Stimmen_y']*100\n",
    "#rest not needed follows automatically\n",
    "ser7=100-ser1-ser2-ser3-ser4-ser5-ser6\n",
    "print(ser6.mean(),ser7.mean())\n",
    "feat2 = pd.concat([ser1,ser2,ser3,ser4,ser5,ser6],axis=1)"
   ]
  },
  {
   "cell_type": "code",
   "execution_count": 69,
   "id": "c9da1982",
   "metadata": {},
   "outputs": [],
   "source": [
    "feat2_train,feat2_test,tar_train, tar_test,tarc_train, tarc_test,tara_train, tara_test,tarf_train, tarf_test,tarl_train, tarl_test,targ_train, targ_test= train_test_split(feat2,tar,tarc,tara,tarf,tarl,targ,train_size=0.50, shuffle=True, random_state=1)"
   ]
  },
  {
   "cell_type": "code",
   "execution_count": 70,
   "id": "24ea5e0f",
   "metadata": {},
   "outputs": [],
   "source": [
    "reg2=LinearRegression().fit(feat2_train, tar_train)"
   ]
  },
  {
   "cell_type": "code",
   "execution_count": 71,
   "id": "5acee090",
   "metadata": {},
   "outputs": [],
   "source": [
    "predli1te2=reg2.predict(feat2_test)\n",
    "predli1tr2=reg2.predict(feat2_train)"
   ]
  },
  {
   "cell_type": "markdown",
   "id": "10290892",
   "metadata": {},
   "source": [
    "No I look again on the metrics."
   ]
  },
  {
   "cell_type": "code",
   "execution_count": 72,
   "id": "cce60fd6",
   "metadata": {},
   "outputs": [
    {
     "name": "stdout",
     "output_type": "stream",
     "text": [
      "standard deviation of data (train) 4.9951 %\n",
      "standard deviation of data (test) 4.8475 %\n",
      "standard deviation of train-data (train) 3.4425 %\n",
      "standard deviation of prediction-data (test) 3.4274 %\n"
     ]
    }
   ],
   "source": [
    "print(f\"standard deviation of data (train) {round(np.std(tar_train),4)} %\")\n",
    "print(f\"standard deviation of data (test) {round(np.std(tar_test),4)} %\")\n",
    "print(f\"standard deviation of train-data (train) {round(np.std(predli1tr2-tar_train),4)} %\")\n",
    "print(f\"standard deviation of prediction-data (test) {round(np.std(predli1te2-tar_test),4)} %\")"
   ]
  },
  {
   "cell_type": "markdown",
   "id": "264b3710",
   "metadata": {},
   "source": [
    "The metrics improve but only by a tiny bit and are still not really good. "
   ]
  },
  {
   "cell_type": "code",
   "execution_count": 73,
   "id": "851ef409",
   "metadata": {},
   "outputs": [],
   "source": [
    "regx2=XGBRegressor().fit(feat2_train, tar_train)"
   ]
  },
  {
   "cell_type": "code",
   "execution_count": 74,
   "id": "c64f7d71",
   "metadata": {},
   "outputs": [],
   "source": [
    "predli1tex2=regx2.predict(feat2_test)\n",
    "predli1trx2=regx2.predict(feat2_train)"
   ]
  },
  {
   "cell_type": "code",
   "execution_count": 75,
   "id": "4d99c434",
   "metadata": {},
   "outputs": [
    {
     "name": "stdout",
     "output_type": "stream",
     "text": [
      "standard deviation of test 3.572 %\n",
      "standard deviation of train 0.4314 %\n"
     ]
    }
   ],
   "source": [
    "print(f\"standard deviation of test {round(np.std(predli1tex2-tar_test),4)} %\")\n",
    "print(f\"standard deviation of train {round(np.std(predli1trx2-tar_train),4)} %\")"
   ]
  },
  {
   "cell_type": "markdown",
   "id": "2ef8aafa",
   "metadata": {},
   "source": [
    "XGB improves more compared to the previous version but is still slightly worse than linear regression. There is still clear overfitting."
   ]
  },
  {
   "cell_type": "markdown",
   "id": "fac27709",
   "metadata": {},
   "source": [
    "Need to check whether it can be the dostrict matching. Or is it difficult party? "
   ]
  },
  {
   "cell_type": "markdown",
   "id": "0a5b73b7",
   "metadata": {},
   "source": [
    "Now CDU"
   ]
  },
  {
   "cell_type": "code",
   "execution_count": 76,
   "id": "911a20e0",
   "metadata": {},
   "outputs": [],
   "source": [
    "def get_scatter(feature_train,feature_test,target_train,target_test,name):\n",
    "    reg2c=LinearRegression().fit(feature_train, target_train)\n",
    "    predli1te2c=reg2c.predict(feature_test)\n",
    "    predli1tr2c=reg2c.predict(feature_train)\n",
    "    reg2cx=XGBRegressor().fit(feature_train, target_train)\n",
    "    predli1te2cx=reg2cx.predict(feature_test)\n",
    "    predli1tr2cx=reg2cx.predict(feature_train)\n",
    "    print(name)\n",
    "    print(f\"standard deviation of data (train) {round(np.std(target_train),4)} %\")\n",
    "    print(f\"standard deviation of data (test) {round(np.std(target_test),4)} %\")\n",
    "    print(f\"standard deviation of train-data (train) {round(np.std(predli1tr2c-target_train),4)} %\")\n",
    "    print(f\"standard deviation of prediction-data (test) {round(np.std(predli1te2c-target_test),4)} %\")\n",
    "    print(f\"standard deviation of train-data (train) XGB {round(np.std(predli1tr2cx-target_train),4)} %\")\n",
    "    print(f\"standard deviation of prediction-data (test) XGB {round(np.std(predli1te2cx-target_test),4)} %\")   "
   ]
  },
  {
   "cell_type": "code",
   "execution_count": 77,
   "id": "ea874e74",
   "metadata": {},
   "outputs": [
    {
     "name": "stdout",
     "output_type": "stream",
     "text": [
      "CDU\n",
      "standard deviation of data (train) 4.6854 %\n",
      "standard deviation of data (test) 4.5053 %\n",
      "standard deviation of train-data (train) 4.0837 %\n",
      "standard deviation of prediction-data (test) 3.8706 %\n",
      "standard deviation of train-data (train) XGB 0.6 %\n",
      "standard deviation of prediction-data (test) XGB 4.2138 %\n"
     ]
    }
   ],
   "source": [
    "get_scatter(feat2_train,feat2_test,tarc_train,tarc_test,\"CDU\")"
   ]
  },
  {
   "cell_type": "code",
   "execution_count": 78,
   "id": "50649580",
   "metadata": {},
   "outputs": [
    {
     "name": "stdout",
     "output_type": "stream",
     "text": [
      "Gruene\n",
      "standard deviation of data (train) 5.7667 %\n",
      "standard deviation of data (test) 5.6388 %\n",
      "standard deviation of train-data (train) 4.9244 %\n",
      "standard deviation of prediction-data (test) 5.0526 %\n",
      "standard deviation of train-data (train) XGB 0.5031 %\n",
      "standard deviation of prediction-data (test) XGB 5.4996 %\n"
     ]
    }
   ],
   "source": [
    "get_scatter(feat2_train,feat2_test,targ_train,targ_test,\"Gruene\")"
   ]
  },
  {
   "cell_type": "code",
   "execution_count": 79,
   "id": "b676d57c",
   "metadata": {},
   "outputs": [
    {
     "name": "stdout",
     "output_type": "stream",
     "text": [
      "die Linke\n",
      "standard deviation of data (train) 4.7148 %\n",
      "standard deviation of data (test) 4.7748 %\n",
      "standard deviation of train-data (train) 4.2597 %\n",
      "standard deviation of prediction-data (test) 4.1862 %\n",
      "standard deviation of train-data (train) XGB 0.4656 %\n",
      "standard deviation of prediction-data (test) XGB 4.2473 %\n"
     ]
    }
   ],
   "source": [
    "get_scatter(feat2_train,feat2_test,tarl_train,tarl_test,\"die Linke\")"
   ]
  },
  {
   "cell_type": "code",
   "execution_count": 80,
   "id": "ac32ac63",
   "metadata": {},
   "outputs": [
    {
     "name": "stdout",
     "output_type": "stream",
     "text": [
      "AfD\n",
      "standard deviation of data (train) 3.6788 %\n",
      "standard deviation of data (test) 3.5955 %\n",
      "standard deviation of train-data (train) 3.4103 %\n",
      "standard deviation of prediction-data (test) 3.3856 %\n",
      "standard deviation of train-data (train) XGB 0.4686 %\n",
      "standard deviation of prediction-data (test) XGB 3.7491 %\n"
     ]
    }
   ],
   "source": [
    "get_scatter(feat2_train,feat2_test,tara_train,tara_test,\"AfD\")"
   ]
  },
  {
   "cell_type": "code",
   "execution_count": 81,
   "id": "6262610f",
   "metadata": {},
   "outputs": [
    {
     "name": "stdout",
     "output_type": "stream",
     "text": [
      "FDP\n",
      "standard deviation of data (train) 2.9 %\n",
      "standard deviation of data (test) 2.7637 %\n",
      "standard deviation of train-data (train) 2.3844 %\n",
      "standard deviation of prediction-data (test) 2.2237 %\n",
      "standard deviation of train-data (train) XGB 0.2344 %\n",
      "standard deviation of prediction-data (test) XGB 2.2656 %\n"
     ]
    }
   ],
   "source": [
    "get_scatter(feat2_train,feat2_test,tarf_train,tarf_test,\"FDP\")"
   ]
  },
  {
   "cell_type": "markdown",
   "id": "131b3b62",
   "metadata": {},
   "source": [
    "All are similar, none is really good. XGB is not so good. On the other hand the real target is the average of them, thus the impact is not so high. "
   ]
  },
  {
   "cell_type": "markdown",
   "id": "beb41a69",
   "metadata": {},
   "source": [
    "Shoudl get impact on final important numbers, percentage and seats. "
   ]
  },
  {
   "cell_type": "markdown",
   "id": "2c0aa53d",
   "metadata": {},
   "source": [
    "Now looking into miss matching in matched ones"
   ]
  },
  {
   "cell_type": "code",
   "execution_count": 82,
   "id": "96fb2c10",
   "metadata": {},
   "outputs": [
    {
     "name": "stdout",
     "output_type": "stream",
     "text": [
      "Stimmart_x                            Zweitstimme\n",
      "Bezirksnummer_x                                 1\n",
      "Bezirksname_x                               Mitte\n",
      "Wahlbezirk_x                                   1A\n",
      "Wahlbezirksart_x                  Briefwahlbezirk\n",
      "Abgeordneten-\\nhauswahlkreis_x                  1\n",
      "Bundestags-\\nwahlkreis_x                       75\n",
      "Berlin\\nOstWest                                 O\n",
      "Wahlberechtigte insgesamt_x                     0\n",
      "Wahlberechtigte A1_x                            0\n",
      "Wahlberechtigte A2_x                            0\n",
      "Wahlberechtigte A3_x                            0\n",
      "Wähler                                       1480\n",
      "Wähler B1                                    1480\n",
      "Ungültige Stimmen_x                             4\n",
      "Gültige Stimmen_x                            1476\n",
      "SPD_x                                         299\n",
      "Name: 0, dtype: object\n",
      "Wahlberechtigte A1_y       0.0\n",
      "Wahlberechtigte A2_y       0.0\n",
      "Wahlberechtigte A3_y       0.0\n",
      "Wählende                1079.0\n",
      "Wählende B1             1079.0\n",
      "Gültige Stimmen_y       1079.0\n",
      "Ungültige Stimmen_y        0.0\n",
      "SPD_y                    165.0\n",
      "CDU_y                    163.0\n",
      "GRÜNE_y                  332.0\n",
      "DIE LINKE_y               81.0\n",
      "AfD_y                     37.0\n",
      "FDP_y                    161.0\n",
      "Die PARTEI_y              19.0\n",
      "Tierschutzpartei_y        11.0\n",
      "PIRATEN_y                  4.0\n",
      "Name: 0, dtype: object\n",
      "75\n",
      "1079.0\n",
      "1480\n",
      "161.0\n",
      "1\n",
      "0.0\n"
     ]
    }
   ],
   "source": [
    "nulls=combined.Bezirksnummer_y.isnull()\n",
    "nn_null=0\n",
    "for i in range(1):\n",
    "    if nulls[i]==False:\n",
    "        print(combined.iloc[i,1:18])\n",
    "        print(combined.iloc[i,53:69])\n",
    "        print(combined.iloc[i,7])\n",
    "        print(combined.iloc[i,58])\n",
    "        print(combined.iloc[i,14])\n",
    "        print(combined.iloc[i,65])\n",
    "        print(combined.iloc[i,2])\n",
    "        print(combined.iloc[i,54])\n",
    "        nn_null+=1"
   ]
  },
  {
   "cell_type": "code",
   "execution_count": 83,
   "id": "dc30d95a",
   "metadata": {},
   "outputs": [
    {
     "name": "stdout",
     "output_type": "stream",
     "text": [
      "75\n",
      "1079.0\n",
      "75\n",
      "1094.0\n",
      "75\n",
      "1197.0\n",
      "75\n",
      "990.0\n",
      "75\n",
      "1195.0\n",
      "75\n",
      "796.0\n",
      "75\n",
      "1122.0\n",
      "75\n",
      "1106.0\n",
      "75\n",
      "885.0\n",
      "75\n",
      "856.0\n",
      "75\n",
      "758.0\n",
      "75\n",
      "679.0\n",
      "75\n",
      "839.0\n",
      "75\n",
      "883.0\n",
      "75\n",
      "985.0\n",
      "75\n",
      "878.0\n",
      "75\n",
      "1144.0\n",
      "75\n",
      "643.0\n",
      "75\n",
      "546.0\n",
      "75\n",
      "818.0\n",
      "75\n",
      "641.0\n",
      "75\n",
      "857.0\n",
      "75\n",
      "625.0\n",
      "75\n",
      "641.0\n",
      "75\n",
      "688.0\n",
      "75\n",
      "649.0\n",
      "75\n",
      "593.0\n",
      "75\n",
      "575.0\n",
      "75\n",
      "575.0\n",
      "75\n",
      "401.0\n",
      "75\n",
      "490.0\n",
      "75\n",
      "423.0\n",
      "75\n",
      "681.0\n",
      "75\n",
      "593.0\n",
      "75\n",
      "648.0\n",
      "75\n",
      "794.0\n",
      "75\n",
      "629.0\n",
      "75\n",
      "515.0\n",
      "75\n",
      "362.0\n",
      "75\n",
      "404.0\n",
      "75\n",
      "328.0\n",
      "75\n",
      "520.0\n",
      "75\n",
      "427.0\n",
      "75\n",
      "538.0\n",
      "75\n",
      "421.0\n",
      "75\n",
      "359.0\n",
      "75\n",
      "362.0\n",
      "75\n",
      "571.0\n",
      "75\n",
      "413.0\n",
      "75\n",
      "474.0\n",
      "75\n",
      "609.0\n",
      "75\n",
      "639.0\n",
      "75\n",
      "380.0\n",
      "75\n",
      "286.0\n",
      "75\n",
      "590.0\n",
      "75\n",
      "600.0\n",
      "75\n",
      "414.0\n",
      "75\n",
      "444.0\n",
      "75\n",
      "425.0\n",
      "75\n",
      "484.0\n",
      "75\n",
      "424.0\n",
      "75\n",
      "343.0\n",
      "75\n",
      "464.0\n",
      "75\n",
      "426.0\n",
      "75\n",
      "501.0\n",
      "75\n",
      "521.0\n",
      "75\n",
      "451.0\n",
      "75\n",
      "485.0\n",
      "75\n",
      "426.0\n",
      "75\n",
      "352.0\n",
      "75\n",
      "485.0\n",
      "75\n",
      "467.0\n",
      "75\n",
      "375.0\n",
      "75\n",
      "368.0\n",
      "75\n",
      "230.0\n",
      "75\n",
      "281.0\n",
      "75\n",
      "415.0\n",
      "75\n",
      "365.0\n",
      "75\n",
      "331.0\n",
      "75\n",
      "406.0\n",
      "75\n",
      "302.0\n",
      "75\n",
      "370.0\n",
      "75\n",
      "546.0\n",
      "75\n",
      "338.0\n",
      "75\n",
      "584.0\n",
      "75\n",
      "492.0\n",
      "75\n",
      "446.0\n",
      "75\n",
      "253.0\n",
      "75\n",
      "540.0\n",
      "75\n",
      "430.0\n",
      "75\n",
      "471.0\n",
      "75\n",
      "370.0\n",
      "75\n",
      "483.0\n",
      "75\n",
      "353.0\n",
      "75\n",
      "418.0\n"
     ]
    }
   ],
   "source": [
    "for i in range(combined.shape[1]):\n",
    "    if nulls[i]==False and (combined.iloc[i,7]!=combined.iloc[i,58] or combined.iloc[i,2]!=combined.iloc[i,54]) :\n",
    "        print(combined.iloc[i,7])\n",
    "        print(combined.iloc[i,58])\n",
    "        nn_null+=1"
   ]
  },
  {
   "cell_type": "markdown",
   "id": "fa2f3023",
   "metadata": {},
   "source": [
    "All have the same election district, thus a missmatch problem is the earliest one level below. I look now into the voters of matched districts."
   ]
  },
  {
   "cell_type": "code",
   "execution_count": 85,
   "id": "3d5012f5",
   "metadata": {},
   "outputs": [
    {
     "data": {
      "text/plain": [
       "Text(0, 0.5, 'eligible Voters 2021/eligible Voters 2016')"
      ]
     },
     "execution_count": 85,
     "metadata": {},
     "output_type": "execute_result"
    },
    {
     "data": {
      "image/png": "[encoded data removed]",
      "text/plain": [
       "<Figure size 640x480 with 1 Axes>"
      ]
     },
     "metadata": {},
     "output_type": "display_data"
    }
   ],
   "source": [
    "#needs to be redone rwos changed better a differnt column method\n",
    "plt.plot(cleaned.iloc[:,65],cleaned.iloc[:,14]/cleaned.iloc[:,65],'o',ms=2,color='blue',label='all') \n",
    "plt.legend(loc=\"best\")\n",
    "plt.xlabel(\"eligible Voters 2016\")\n",
    "plt.ylabel(\"eligible Voters 2021/eligible Voters 2016\")"
   ]
  },
  {
   "cell_type": "code",
   "execution_count": 86,
   "id": "1f4ecbef",
   "metadata": {},
   "outputs": [
    {
     "name": "stdout",
     "output_type": "stream",
     "text": [
      "count    2395.000000\n",
      "mean        6.640294\n",
      "std        17.299102\n",
      "min         0.000000\n",
      "25%         0.047619\n",
      "50%         0.145455\n",
      "75%         8.280032\n",
      "max       267.250000\n",
      "dtype: float64\n"
     ]
    }
   ],
   "source": [
    "ser=cleaned.iloc[:,14]/cleaned.iloc[:,65]\n",
    "print(ser.describe())"
   ]
  },
  {
   "cell_type": "markdown",
   "id": "0b4e211a",
   "metadata": {},
   "source": [
    "Clearly not the same districts. Could use larger districts or figure out the border of the district. Could look whether first in one matches better. Likely best to find the id (map) for the districts. "
   ]
  },
  {
   "cell_type": "markdown",
   "id": "bb5192c9",
   "metadata": {},
   "source": [
    "Now I combined on election district level. It has a two index system. "
   ]
  },
  {
   "cell_type": "code",
   "execution_count": 87,
   "id": "927c57c7",
   "metadata": {},
   "outputs": [
    {
     "name": "stderr",
     "output_type": "stream",
     "text": [
      "/tmp/ipykernel_5101/3230042564.py:3: FutureWarning: The default value of numeric_only in DataFrameGroupBy.sum is deprecated. In a future version, numeric_only will default to False. Either specify numeric_only or select only columns which should be valid for the function.\n",
      "  elec_district16=elec16_vote2.groupby([elec16_vote2['Bezirksnummer'],elec16_vote2['Abgeordneten-\\nhauswahlkreis']]).sum()\n"
     ]
    }
   ],
   "source": [
    "#first group by district is double index \n",
    "#elec_district16.set_index(['Bezirksnummer', 'Abgeordneten-\\nhauswahlkreis'])\n",
    "elec_district16=elec16_vote2.groupby([elec16_vote2['Bezirksnummer'],elec16_vote2['Abgeordneten-\\nhauswahlkreis']]).sum()"
   ]
  },
  {
   "cell_type": "code",
   "execution_count": 88,
   "id": "f3b1fea0",
   "metadata": {},
   "outputs": [
    {
     "name": "stderr",
     "output_type": "stream",
     "text": [
      "/tmp/ipykernel_5101/2124326953.py:1: FutureWarning: The default value of numeric_only in DataFrameGroupBy.sum is deprecated. In a future version, numeric_only will default to False. Either specify numeric_only or select only columns which should be valid for the function.\n",
      "  elec_district21=elec21_vote2.groupby([elec21_vote2['Bezirksnummer'],elec21_vote2['Abgeordneten-\\nhauswahlkreis']]).sum()\n"
     ]
    }
   ],
   "source": [
    "elec_district21=elec21_vote2.groupby([elec21_vote2['Bezirksnummer'],elec21_vote2['Abgeordneten-\\nhauswahlkreis']]).sum()"
   ]
  },
  {
   "cell_type": "code",
   "execution_count": 89,
   "id": "03640432",
   "metadata": {},
   "outputs": [
    {
     "name": "stdout",
     "output_type": "stream",
     "text": [
      "(78, 35)\n",
      "(78, 43)\n",
      "                                            Bundestags-\\nwahlkreis  \\\n",
      "Bezirksnummer Abgeordneten-\\nhauswahlkreis                           \n",
      "1             1                                               2175   \n",
      "              2                                               2625   \n",
      "              3                                               2550   \n",
      "              4                                               2550   \n",
      "              5                                               2400   \n",
      "...                                                            ...   \n",
      "12            2                                               2541   \n",
      "              3                                               2541   \n",
      "              4                                               2695   \n",
      "              5                                               2387   \n",
      "              6                                               2695   \n",
      "\n",
      "                                            Wahlberechtigte insgesamt  \\\n",
      "Bezirksnummer Abgeordneten-\\nhauswahlkreis                              \n",
      "1             1                                                 28221   \n",
      "              2                                                 32219   \n",
      "              3                                                 30033   \n",
      "              4                                                 29869   \n",
      "              5                                                 29414   \n",
      "...                                                               ...   \n",
      "12            2                                                 30235   \n",
      "              3                                                 31122   \n",
      "              4                                                 34788   \n",
      "              5                                                 27228   \n",
      "              6                                                 28560   \n",
      "\n",
      "                                            Wahlberechtigte A1  \\\n",
      "Bezirksnummer Abgeordneten-\\nhauswahlkreis                       \n",
      "1             1                                          21159   \n",
      "              2                                          24282   \n",
      "              3                                          23202   \n",
      "              4                                          24348   \n",
      "              5                                          24371   \n",
      "...                                                        ...   \n",
      "12            2                                          24640   \n",
      "              3                                          23513   \n",
      "              4                                          27502   \n",
      "              5                                          22919   \n",
      "              6                                          20307   \n",
      "\n",
      "                                            Wahlberechtigte A2  \\\n",
      "Bezirksnummer Abgeordneten-\\nhauswahlkreis                       \n",
      "1             1                                           7062   \n",
      "              2                                           7937   \n",
      "              3                                           6831   \n",
      "              4                                           5521   \n",
      "              5                                           5043   \n",
      "...                                                        ...   \n",
      "12            2                                           5594   \n",
      "              3                                           7609   \n",
      "              4                                           7286   \n",
      "              5                                           4309   \n",
      "              6                                           8253   \n",
      "\n",
      "                                            Wahlberechtigte A3  Wähler  \\\n",
      "Bezirksnummer Abgeordneten-\\nhauswahlkreis                               \n",
      "1             1                                              0   20226   \n",
      "              2                                              0   21959   \n",
      "              3                                              0   20181   \n",
      "              4                                              0   18681   \n",
      "              5                                              0   17256   \n",
      "...                                                        ...     ...   \n",
      "12            2                                              1   18394   \n",
      "              3                                              0   23617   \n",
      "              4                                              0   23909   \n",
      "              5                                              0   15582   \n",
      "              6                                              0   23365   \n",
      "\n",
      "                                            Wähler B1  Ungültige Stimmen  \\\n",
      "Bezirksnummer Abgeordneten-\\nhauswahlkreis                                 \n",
      "1             1                                  6517                215   \n",
      "              2                                  7373                240   \n",
      "              3                                  6351                261   \n",
      "              4                                  5116                285   \n",
      "              5                                  4634                374   \n",
      "...                                               ...                ...   \n",
      "12            2                                  5224                453   \n",
      "              3                                  7132                398   \n",
      "              4                                  6850                424   \n",
      "              5                                  4007                398   \n",
      "              6                                  7789                301   \n",
      "\n",
      "                                            Gültige Stimmen   SPD  ...  DL  \\\n",
      "Bezirksnummer Abgeordneten-\\nhauswahlkreis                         ...       \n",
      "1             1                                       20007  3795  ...   0   \n",
      "              2                                       21686  4127  ...   0   \n",
      "              3                                       19912  4382  ...   0   \n",
      "              4                                       18362  3926  ...   0   \n",
      "              5                                       16878  4186  ...   0   \n",
      "...                                                     ...   ...  ...  ..   \n",
      "12            2                                       17928  4016  ...   0   \n",
      "              3                                       23193  4990  ...   0   \n",
      "              4                                       23456  5227  ...   0   \n",
      "              5                                       15161  3703  ...   0   \n",
      "              6                                       23056  4341  ...   0   \n",
      "\n",
      "                                            ALFA  Tierschutzallianz   AfD  \\\n",
      "Bezirksnummer Abgeordneten-\\nhauswahlkreis                                  \n",
      "1             1                               64                  0  1352   \n",
      "              2                               86                  0  2673   \n",
      "              3                               64                  0  1778   \n",
      "              4                               57                  0  1518   \n",
      "              5                               39                  0  2271   \n",
      "...                                          ...                ...   ...   \n",
      "12            2                               86                  0  3441   \n",
      "              3                              103                  0  3395   \n",
      "              4                              140                  0  3846   \n",
      "              5                               50                  0  2951   \n",
      "              6                              109                  0  2490   \n",
      "\n",
      "                                            DIE EINHEIT  DIE VIOLETTEN  \\\n",
      "Bezirksnummer Abgeordneten-\\nhauswahlkreis                               \n",
      "1             1                                       0             56   \n",
      "              2                                       0             54   \n",
      "              3                                       0             68   \n",
      "              4                                       0             76   \n",
      "              5                                       0             48   \n",
      "...                                                 ...            ...   \n",
      "12            2                                       0              0   \n",
      "              3                                       0              0   \n",
      "              4                                       0              0   \n",
      "              5                                       0              0   \n",
      "              6                                       0              0   \n",
      "\n",
      "                                            Graue Panther  MENSCHLICHE WELT  \\\n",
      "Bezirksnummer Abgeordneten-\\nhauswahlkreis                                    \n",
      "1             1                                        80                 0   \n",
      "              2                                       146                 0   \n",
      "              3                                       121                 0   \n",
      "              4                                       118                 0   \n",
      "              5                                       282                 0   \n",
      "...                                                   ...               ...   \n",
      "12            2                                       593                 0   \n",
      "              3                                       434                 0   \n",
      "              4                                       567                 0   \n",
      "              5                                       523                 0   \n",
      "              6                                       248                 0   \n",
      "\n",
      "                                            MIETERPARTEI  \\\n",
      "Bezirksnummer Abgeordneten-\\nhauswahlkreis                 \n",
      "1             1                                        0   \n",
      "              2                                        0   \n",
      "              3                                        0   \n",
      "              4                                        0   \n",
      "              5                                        0   \n",
      "...                                                  ...   \n",
      "12            2                                        0   \n",
      "              3                                        0   \n",
      "              4                                        0   \n",
      "              5                                        0   \n",
      "              6                                        0   \n",
      "\n",
      "                                            Gesundheits-\\nforschung  \n",
      "Bezirksnummer Abgeordneten-\\nhauswahlkreis                           \n",
      "1             1                                                  54  \n",
      "              2                                                  89  \n",
      "              3                                                  46  \n",
      "              4                                                  44  \n",
      "              5                                                  62  \n",
      "...                                                             ...  \n",
      "12            2                                                  81  \n",
      "              3                                                  85  \n",
      "              4                                                 132  \n",
      "              5                                                  73  \n",
      "              6                                                  54  \n",
      "\n",
      "[78 rows x 35 columns]\n"
     ]
    }
   ],
   "source": [
    "print(elec_district16.shape)\n",
    "print(elec_district21.shape)\n",
    "print(elec_district16)"
   ]
  },
  {
   "cell_type": "code",
   "execution_count": 90,
   "id": "e88201d8",
   "metadata": {},
   "outputs": [],
   "source": [
    "combined_district=elec_district16.merge(elec_district21,how='left',left_index=True,right_index=True)"
   ]
  },
  {
   "cell_type": "code",
   "execution_count": 91,
   "id": "a4b17c85",
   "metadata": {},
   "outputs": [
    {
     "name": "stdout",
     "output_type": "stream",
     "text": [
      "Index(['Bundestags-\\nwahlkreis_x', 'Wahlberechtigte insgesamt_x',\n",
      "       'Wahlberechtigte A1_x', 'Wahlberechtigte A2_x', 'Wahlberechtigte A3_x',\n",
      "       'Wähler', 'Wähler B1', 'Ungültige Stimmen_x', 'Gültige Stimmen_x',\n",
      "       'SPD_x', 'CDU_x', 'GRÜNE_x', 'DIE LINKE_x', 'PIRATEN_x', 'NPD_x',\n",
      "       'FDP_x', 'Tierschutzpartei_x', 'pro Deutschland', 'Die PARTEI_x', 'BIG',\n",
      "       'DKP_x', 'ödp', 'PSG', 'BüSo_x', 'B', 'DL', 'ALFA', 'Tierschutzallianz',\n",
      "       'AfD_x', 'DIE EINHEIT', 'DIE VIOLETTEN', 'Graue Panther_x',\n",
      "       'MENSCHLICHE WELT_x', 'MIETERPARTEI_x', 'Gesundheits-\\nforschung',\n",
      "       'Bundestags-\\nwahlkreis_y', 'Wahlberechtigte insgesamt_y',\n",
      "       'Wahlberechtigte A1_y', 'Wahlberechtigte A2_y', 'Wahlberechtigte A3_y',\n",
      "       'Wählende', 'Wählende B1', 'Gültige Stimmen_y', 'Ungültige Stimmen_y',\n",
      "       'SPD_y', 'CDU_y', 'GRÜNE_y', 'DIE LINKE_y', 'AfD_y', 'FDP_y',\n",
      "       'Die PARTEI_y', 'Tierschutzpartei_y', 'PIRATEN_y', 'Graue Panther_y',\n",
      "       'NPD_y', 'Gesundheitsforschung', 'LKR', 'DKP_y', 'SGP', 'BüSo_y',\n",
      "       'MENSCHLICHE WELT_y', 'B*', 'ÖDP', 'TIERSCHUTZ hier!', 'dieBasis',\n",
      "       'Bildet Berlin!', 'Deutsche Konservative', 'Die Grauen',\n",
      "       'Neue Demokraten', 'REP', 'du.', 'BÜNDNIS21', 'FREIE WÄHLER',\n",
      "       'Klimaliste Berlin', 'MIETERPARTEI_y', 'Die Humanisten',\n",
      "       'Team Todenhöfer', 'Volt'],\n",
      "      dtype='object')\n"
     ]
    }
   ],
   "source": [
    "print(combined_district.columns)"
   ]
  },
  {
   "cell_type": "code",
   "execution_count": 92,
   "id": "89a4ccd3",
   "metadata": {},
   "outputs": [
    {
     "data": {
      "text/plain": [
       "Text(0, 0.5, 'eligible Voters 2021/eligible Voters 2016')"
      ]
     },
     "execution_count": 92,
     "metadata": {},
     "output_type": "execute_result"
    },
    {
     "data": {
      "image/png": "[encoded data removed]",
      "text/plain": [
       "<Figure size 640x480 with 1 Axes>"
      ]
     },
     "metadata": {},
     "output_type": "display_data"
    }
   ],
   "source": [
    "plt.plot(combined_district['Wahlberechtigte insgesamt_x'],combined_district['Wahlberechtigte insgesamt_y']/combined_district['Wahlberechtigte insgesamt_x'],'o',ms=2,color='blue',label='election districts') \n",
    "plt.legend(loc=\"best\")\n",
    "plt.xlabel(\"eligible Voters 2016\")\n",
    "plt.ylabel(\"eligible Voters 2021/eligible Voters 2016\")"
   ]
  },
  {
   "cell_type": "markdown",
   "id": "76fbf35a",
   "metadata": {},
   "source": [
    "Looks better most are rather close 1, some a little off. 78 are clearly not enough for a good analysis and prediction. Spatial information on the districts is needed. "
   ]
  },
  {
   "cell_type": "code",
   "execution_count": 93,
   "id": "941e418a",
   "metadata": {},
   "outputs": [],
   "source": [
    "def get_percentages(dataframe):\n",
    "    dataframe['spd_%_16']=dataframe.SPD_x/dataframe['Gültige Stimmen_x']*100\n",
    "    dataframe['spd_%_21']=dataframe.SPD_y/dataframe['Gültige Stimmen_y']*100\n",
    "    dataframe['cdu_%_16']=dataframe.CDU_x/dataframe['Gültige Stimmen_x']*100\n",
    "    dataframe['cdu_%_21']=dataframe.CDU_y/dataframe['Gültige Stimmen_y']*100\n",
    "    dataframe['fdp_%_16']=dataframe.FDP_x/dataframe['Gültige Stimmen_x']*100\n",
    "    dataframe['fdp_%_21']=dataframe.FDP_y/dataframe['Gültige Stimmen_y']*100\n",
    "    dataframe['afd_%_16']=dataframe.AfD_x/dataframe['Gültige Stimmen_x']*100\n",
    "    dataframe['afd_%_21']=dataframe.AfD_y/dataframe['Gültige Stimmen_y']*100\n",
    "    dataframe['greens_%_16']=dataframe['GRÜNE_x']/dataframe['Gültige Stimmen_x']*100\n",
    "    dataframe['greens_%_21']=dataframe['GRÜNE_y']/dataframe['Gültige Stimmen_y']*100\n",
    "    dataframe['lefts_%_16']=dataframe['DIE LINKE_x']/dataframe['Gültige Stimmen_x']*100\n",
    "    dataframe['lefts_%_21']=dataframe['DIE LINKE_y']/dataframe['Gültige Stimmen_y']*100\n",
    "    return dataframe"
   ]
  },
  {
   "cell_type": "code",
   "execution_count": 94,
   "id": "c065b283",
   "metadata": {},
   "outputs": [
    {
     "name": "stderr",
     "output_type": "stream",
     "text": [
      "/tmp/ipykernel_5101/1976533968.py:2: SettingWithCopyWarning: \n",
      "A value is trying to be set on a copy of a slice from a DataFrame.\n",
      "Try using .loc[row_indexer,col_indexer] = value instead\n",
      "\n",
      "See the caveats in the documentation: https://pandas.pydata.org/pandas-docs/stable/user_guide/indexing.html#returning-a-view-versus-a-copy\n",
      "  dataframe['spd_%_16']=dataframe.SPD_x/dataframe['Gültige Stimmen_x']*100\n",
      "/tmp/ipykernel_5101/1976533968.py:3: SettingWithCopyWarning: \n",
      "A value is trying to be set on a copy of a slice from a DataFrame.\n",
      "Try using .loc[row_indexer,col_indexer] = value instead\n",
      "\n",
      "See the caveats in the documentation: https://pandas.pydata.org/pandas-docs/stable/user_guide/indexing.html#returning-a-view-versus-a-copy\n",
      "  dataframe['spd_%_21']=dataframe.SPD_y/dataframe['Gültige Stimmen_y']*100\n",
      "/tmp/ipykernel_5101/1976533968.py:4: SettingWithCopyWarning: \n",
      "A value is trying to be set on a copy of a slice from a DataFrame.\n",
      "Try using .loc[row_indexer,col_indexer] = value instead\n",
      "\n",
      "See the caveats in the documentation: https://pandas.pydata.org/pandas-docs/stable/user_guide/indexing.html#returning-a-view-versus-a-copy\n",
      "  dataframe['cdu_%_16']=dataframe.CDU_x/dataframe['Gültige Stimmen_x']*100\n",
      "/tmp/ipykernel_5101/1976533968.py:5: SettingWithCopyWarning: \n",
      "A value is trying to be set on a copy of a slice from a DataFrame.\n",
      "Try using .loc[row_indexer,col_indexer] = value instead\n",
      "\n",
      "See the caveats in the documentation: https://pandas.pydata.org/pandas-docs/stable/user_guide/indexing.html#returning-a-view-versus-a-copy\n",
      "  dataframe['cdu_%_21']=dataframe.CDU_y/dataframe['Gültige Stimmen_y']*100\n",
      "/tmp/ipykernel_5101/1976533968.py:6: SettingWithCopyWarning: \n",
      "A value is trying to be set on a copy of a slice from a DataFrame.\n",
      "Try using .loc[row_indexer,col_indexer] = value instead\n",
      "\n",
      "See the caveats in the documentation: https://pandas.pydata.org/pandas-docs/stable/user_guide/indexing.html#returning-a-view-versus-a-copy\n",
      "  dataframe['fdp_%_16']=dataframe.FDP_x/dataframe['Gültige Stimmen_x']*100\n",
      "/tmp/ipykernel_5101/1976533968.py:7: SettingWithCopyWarning: \n",
      "A value is trying to be set on a copy of a slice from a DataFrame.\n",
      "Try using .loc[row_indexer,col_indexer] = value instead\n",
      "\n",
      "See the caveats in the documentation: https://pandas.pydata.org/pandas-docs/stable/user_guide/indexing.html#returning-a-view-versus-a-copy\n",
      "  dataframe['fdp_%_21']=dataframe.FDP_y/dataframe['Gültige Stimmen_y']*100\n",
      "/tmp/ipykernel_5101/1976533968.py:8: SettingWithCopyWarning: \n",
      "A value is trying to be set on a copy of a slice from a DataFrame.\n",
      "Try using .loc[row_indexer,col_indexer] = value instead\n",
      "\n",
      "See the caveats in the documentation: https://pandas.pydata.org/pandas-docs/stable/user_guide/indexing.html#returning-a-view-versus-a-copy\n",
      "  dataframe['afd_%_16']=dataframe.AfD_x/dataframe['Gültige Stimmen_x']*100\n",
      "/tmp/ipykernel_5101/1976533968.py:9: SettingWithCopyWarning: \n",
      "A value is trying to be set on a copy of a slice from a DataFrame.\n",
      "Try using .loc[row_indexer,col_indexer] = value instead\n",
      "\n",
      "See the caveats in the documentation: https://pandas.pydata.org/pandas-docs/stable/user_guide/indexing.html#returning-a-view-versus-a-copy\n",
      "  dataframe['afd_%_21']=dataframe.AfD_y/dataframe['Gültige Stimmen_y']*100\n",
      "/tmp/ipykernel_5101/1976533968.py:10: SettingWithCopyWarning: \n",
      "A value is trying to be set on a copy of a slice from a DataFrame.\n",
      "Try using .loc[row_indexer,col_indexer] = value instead\n",
      "\n",
      "See the caveats in the documentation: https://pandas.pydata.org/pandas-docs/stable/user_guide/indexing.html#returning-a-view-versus-a-copy\n",
      "  dataframe['greens_%_16']=dataframe['GRÜNE_x']/dataframe['Gültige Stimmen_x']*100\n",
      "/tmp/ipykernel_5101/1976533968.py:11: SettingWithCopyWarning: \n",
      "A value is trying to be set on a copy of a slice from a DataFrame.\n",
      "Try using .loc[row_indexer,col_indexer] = value instead\n",
      "\n",
      "See the caveats in the documentation: https://pandas.pydata.org/pandas-docs/stable/user_guide/indexing.html#returning-a-view-versus-a-copy\n",
      "  dataframe['greens_%_21']=dataframe['GRÜNE_y']/dataframe['Gültige Stimmen_y']*100\n",
      "/tmp/ipykernel_5101/1976533968.py:12: SettingWithCopyWarning: \n",
      "A value is trying to be set on a copy of a slice from a DataFrame.\n",
      "Try using .loc[row_indexer,col_indexer] = value instead\n",
      "\n",
      "See the caveats in the documentation: https://pandas.pydata.org/pandas-docs/stable/user_guide/indexing.html#returning-a-view-versus-a-copy\n",
      "  dataframe['lefts_%_16']=dataframe['DIE LINKE_x']/dataframe['Gültige Stimmen_x']*100\n",
      "/tmp/ipykernel_5101/1976533968.py:13: SettingWithCopyWarning: \n",
      "A value is trying to be set on a copy of a slice from a DataFrame.\n",
      "Try using .loc[row_indexer,col_indexer] = value instead\n",
      "\n",
      "See the caveats in the documentation: https://pandas.pydata.org/pandas-docs/stable/user_guide/indexing.html#returning-a-view-versus-a-copy\n",
      "  dataframe['lefts_%_21']=dataframe['DIE LINKE_y']/dataframe['Gültige Stimmen_y']*100\n"
     ]
    }
   ],
   "source": [
    "combined_district=get_percentages(combined_district)\n",
    "cleaned=get_percentages(cleaned)"
   ]
  },
  {
   "cell_type": "code",
   "execution_count": 95,
   "id": "d3ac27b6",
   "metadata": {},
   "outputs": [
    {
     "data": {
      "text/plain": [
       "Text(0, 0.5, 'party (2021)-party 2016 [%]')"
      ]
     },
     "execution_count": 95,
     "metadata": {},
     "output_type": "execute_result"
    },
    {
     "data": {
      "image/png": "[encoded data removed]",
      "text/plain": [
       "<Figure size 640x480 with 1 Axes>"
      ]
     },
     "metadata": {},
     "output_type": "display_data"
    }
   ],
   "source": [
    "plt.plot(combined_district['spd_%_16'],combined_district['spd_%_21']-combined_district['spd_%_16'],'o',ms=2,color='red',label='SPD')\n",
    "plt.plot(combined_district['cdu_%_16'],combined_district['cdu_%_21']-combined_district['cdu_%_16'],'o',ms=2,color='black',label='CDU') \n",
    "plt.plot(combined_district['fdp_%_16'],combined_district['fdp_%_21']-combined_district['fdp_%_16'],'o',ms=2,color='yellow',label='FDP') \n",
    "plt.plot(combined_district['afd_%_16'],combined_district['afd_%_21']-combined_district['afd_%_16'],'o',ms=2,color='blue',label='AfD')\n",
    "plt.plot(combined_district['greens_%_16'],combined_district['greens_%_21']-combined_district['greens_%_16'],'o',ms=2,color='green',label='Greens') \n",
    "plt.plot(combined_district['lefts_%_16'],combined_district['lefts_%_21']-combined_district['lefts_%_16'],'o',ms=2,color='magenta',label='Lefts') \n",
    "plt.legend(loc=\"best\")\n",
    "plt.xlabel(\"party 2016 [%]\")\n",
    "plt.ylabel(\"party (2021)-party 2016 [%]\")"
   ]
  },
  {
   "cell_type": "markdown",
   "id": "7bf0505c",
   "metadata": {},
   "source": [
    "Looking better now, at least some parties have a clear principle, SPD not.   Before it looked, see below"
   ]
  },
  {
   "cell_type": "code",
   "execution_count": 101,
   "id": "142d6c64",
   "metadata": {},
   "outputs": [
    {
     "data": {
      "text/plain": [
       "Text(0, 0.5, 'party (2021)-party 2016 [%]')"
      ]
     },
     "execution_count": 101,
     "metadata": {},
     "output_type": "execute_result"
    },
    {
     "data": {
      "image/png": "[encoded data removed]",
      "text/plain": [
       "<Figure size 640x480 with 1 Axes>"
      ]
     },
     "metadata": {},
     "output_type": "display_data"
    }
   ],
   "source": [
    "plt.plot(cleaned['spd_%_16'],cleaned['spd_%_21']-cleaned['spd_%_16'],'o',ms=1,color='red',label='SPD')\n",
    "plt.plot(cleaned['cdu_%_16'],cleaned['cdu_%_21']-cleaned['cdu_%_16'],'o',ms=1,color='black',label='CDU') \n",
    "#plt.plot(combined_district['fdp_%_16'],combined_district['fdp_%_21']-combined_district['fdp_%_16'],'o',ms=2,color='yellow',label='FDP') \n",
    "plt.plot(cleaned['afd_%_16'],cleaned['afd_%_21']-cleaned['afd_%_16'],'o',ms=1,color='blue',label='AfD')\n",
    "#plt.plot(combined_district['greens_%_16'],combined_district['greens_%_21']-combined_district['greens_%_16'],'o',ms=2,color='green',label='Greens') \n",
    "#plt.plot(combined_district['lefts_%_16'],combined_district['lefts_%_21']-combined_district['lefts_%_16'],'o',ms=2,color='magenta',label='Lefts') \n",
    "plt.legend(loc=\"best\")\n",
    "plt.xlabel(\"party 2016 [%]\")\n",
    "plt.ylabel(\"party (2021)-party 2016 [%]\")"
   ]
  },
  {
   "cell_type": "markdown",
   "id": "c3255d8e",
   "metadata": {},
   "source": [
    "Especially for the AfD which has a really tight election district relation, the relation is less tight on the district level. "
   ]
  }
 ],
 "metadata": {
  "kernelspec": {
   "display_name": "Python 3 (ipykernel)",
   "language": "python",
   "name": "python3"
  },
  "language_info": {
   "codemirror_mode": {
    "name": "ipython",
    "version": 3
   },
   "file_extension": ".py",
   "mimetype": "text/x-python",
   "name": "python",
   "nbconvert_exporter": "python",
   "pygments_lexer": "ipython3",
   "version": "3.8.15"
  }
 },
 "nbformat": 4,
 "nbformat_minor": 5
}
